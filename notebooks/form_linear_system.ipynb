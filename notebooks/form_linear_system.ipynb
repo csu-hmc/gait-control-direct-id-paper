{
 "cells": [
  {
   "cell_type": "markdown",
   "metadata": {},
   "source": [
    "This notebook describes the details of forming the coefficient matrix and ordinate vector from walking data for a linear least squares solution to the optimal gains from a simple full state feedback controller employed by the human while walking."
   ]
  },
  {
   "cell_type": "code",
   "execution_count": 1,
   "metadata": {
    "collapsed": false
   },
   "outputs": [],
   "source": [
    "from sympy import init_printing, symbols, Matrix, Symbol, zeros, eye"
   ]
  },
  {
   "cell_type": "code",
   "execution_count": 2,
   "metadata": {
    "collapsed": false
   },
   "outputs": [],
   "source": [
    "init_printing(print_builtin=False)"
   ]
  },
  {
   "cell_type": "code",
   "execution_count": 3,
   "metadata": {
    "collapsed": false
   },
   "outputs": [],
   "source": [
    "n = 3 # number of time samples in each gait cycle\n",
    "m = 2 # number of gait cycles\n",
    "p = 2 # number of sensors\n",
    "q = 2 # number of controls"
   ]
  },
  {
   "cell_type": "markdown",
   "metadata": {},
   "source": [
    "First form the equation that generates the controls given the error in the sensors at a single time step during a single foot step.\n",
    "\n",
    "$$\n",
    "\\begin{align}\n",
    "  \\mathbf{m}(t) & = & \\mathbf{m}_0(\\varphi) + \\mathbf{K}(\\varphi) \\mathbf{s}_e(t) \\\\\n",
    "  & = & \\mathbf{m}_0(\\varphi) + \\mathbf{K}(\\varphi) [\\mathbf{s}_0(\\varphi) - \\mathbf{s}(t)] \n",
    "\\end{align}\n",
    "$$\n",
    "\n",
    "Now rearrange the equations such that we have one linear in both the gains, $\\mathbf{K}(\\varphi)$, and in $\\mathbf{m}^*(\\varphi)$:\n",
    "\n",
    "$$\n",
    "\\begin{align}\n",
    "  \\mathbf{m}(t) & = & \\mathbf{m}_0(\\varphi) + \\mathbf{K}(\\varphi) \\mathbf{s}_0(\\varphi) - \\mathbf{K}(\\varphi) \\mathbf{s}(t) \\\\\n",
    "  & = & \\mathbf{m}^*(\\varphi) - \\mathbf{K}(\\varphi) \\mathbf{s}(t)\n",
    "\\end{align}\n",
    "$$"
   ]
  },
  {
   "cell_type": "markdown",
   "metadata": {},
   "source": [
    "The \"measured\" controls, $\\mathbf{m}(t)$:"
   ]
  },
  {
   "cell_type": "code",
   "execution_count": 4,
   "metadata": {
    "collapsed": false
   },
   "outputs": [
    {
     "data": {
      "image/png": "[encoded data removed]",
      "text/latex": [
       "$$\\left[\\begin{matrix}m_{q=0}\\\\m_{q=1}\\end{matrix}\\right]$$"
      ],
      "text/plain": [
       "⎡m_q=0⎤\n",
       "⎢     ⎥\n",
       "⎣m_q=1⎦"
      ]
     },
     "execution_count": 4,
     "metadata": {},
     "output_type": "execute_result"
    }
   ],
   "source": [
    "m = Matrix(q, 1, lambda i, j: Symbol('m_q={}'.format(i)))\n",
    "m"
   ]
  },
  {
   "cell_type": "markdown",
   "metadata": {},
   "source": [
    "The unknown gains, $\\mathbf{K}(\\varphi)$:"
   ]
  },
  {
   "cell_type": "code",
   "execution_count": 5,
   "metadata": {
    "collapsed": false
   },
   "outputs": [
    {
     "data": {
      "image/png": "[encoded data removed]",
      "text/latex": [
       "$$\\left[\\begin{matrix}k_{q=0,p=0} & k_{q=0,p=1}\\\\k_{q=1,p=0} & k_{q=1,p=1}\\end{matrix}\\right]$$"
      ],
      "text/plain": [
       "⎡k_q=0,p=0  k_q=0,p=1⎤\n",
       "⎢                    ⎥\n",
       "⎣k_q=1,p=0  k_q=1,p=1⎦"
      ]
     },
     "execution_count": 5,
     "metadata": {},
     "output_type": "execute_result"
    }
   ],
   "source": [
    "K = Matrix(q, p, lambda i, j: Symbol('k_q={},p={}'.format(i, j)))\n",
    "K"
   ]
  },
  {
   "cell_type": "markdown",
   "metadata": {},
   "source": [
    "The unknown nominal controls, $\\mathbf{m}^*(\\varphi)$:"
   ]
  },
  {
   "cell_type": "code",
   "execution_count": 6,
   "metadata": {
    "collapsed": false
   },
   "outputs": [
    {
     "data": {
      "image/png": "[encoded data removed]",
      "text/latex": [
       "$$\\left[\\begin{matrix}m^{*}_{q=0}\\\\m^{*}_{q=1}\\end{matrix}\\right]$$"
      ],
      "text/plain": [
       "⎡m_q=0__*⎤\n",
       "⎢        ⎥\n",
       "⎣m_q=1__*⎦"
      ]
     },
     "execution_count": 6,
     "metadata": {},
     "output_type": "execute_result"
    }
   ],
   "source": [
    "ms = Matrix(q, 1, lambda i, j: Symbol('m^*_q={}'.format(i)))\n",
    "ms"
   ]
  },
  {
   "cell_type": "markdown",
   "metadata": {},
   "source": [
    "The measured sensors, $\\mathbf{s}(t)$:"
   ]
  },
  {
   "cell_type": "code",
   "execution_count": 7,
   "metadata": {
    "collapsed": false
   },
   "outputs": [
    {
     "data": {
      "image/png": "[encoded data removed]",
      "text/latex": [
       "$$\\left[\\begin{matrix}s_{p=0}\\\\s_{p=1}\\end{matrix}\\right]$$"
      ],
      "text/plain": [
       "⎡s_p=0⎤\n",
       "⎢     ⎥\n",
       "⎣s_p=1⎦"
      ]
     },
     "execution_count": 7,
     "metadata": {},
     "output_type": "execute_result"
    }
   ],
   "source": [
    "s = Matrix(p, 1, lambda i, j: Symbol('s_p={}'.format(i)))\n",
    "s"
   ]
  },
  {
   "cell_type": "markdown",
   "metadata": {},
   "source": [
    "And the equation:\n",
    "\n",
    "$$\\mathbf{0} = \\mathbf{m}^*(\\varphi) - \\mathbf{K}(\\varphi) \\mathbf{s}(t) - \\mathbf{m}(t)$$"
   ]
  },
  {
   "cell_type": "code",
   "execution_count": 8,
   "metadata": {
    "collapsed": false
   },
   "outputs": [
    {
     "data": {
      "image/png": "[encoded data removed]",
      "text/latex": [
       "$$\\left[\\begin{matrix}- k_{q=0,p=0} s_{p=0} - k_{q=0,p=1} s_{p=1} + m^{*}_{q=0} - m_{q=0}\\\\- k_{q=1,p=0} s_{p=0} - k_{q=1,p=1} s_{p=1} + m^{*}_{q=1} - m_{q=1}\\end{matrix}\\right]$$"
      ],
      "text/plain": [
       "⎡-k_q=0,p=0⋅s_p=0 - k_q=0,p=1⋅s_p=1 + m_q=0__* - m_q=0⎤\n",
       "⎢                                                     ⎥\n",
       "⎣-k_q=1,p=0⋅s_p=0 - k_q=1,p=1⋅s_p=1 + m_q=1__* - m_q=1⎦"
      ]
     },
     "execution_count": 8,
     "metadata": {},
     "output_type": "execute_result"
    }
   ],
   "source": [
    "zero = ms - K * s - m\n",
    "zero"
   ]
  },
  {
   "cell_type": "markdown",
   "metadata": {},
   "source": [
    "Now for a simple linear least squares the equations can be massage into this form:\n",
    "\n",
    "$$\\mathbf{Ax}=\\mathbf{b}$$\n",
    "\n",
    "which, for large $m$, gives and over determined system of linear equations.\n",
    "\n",
    "We define $\\mathbf{x}$ as:\n"
   ]
  },
  {
   "cell_type": "code",
   "execution_count": 9,
   "metadata": {
    "collapsed": false
   },
   "outputs": [
    {
     "data": {
      "image/png": "[encoded data removed]",
      "text/latex": [
       "$$\\left[\\begin{matrix}k_{q=0,p=0}\\\\k_{q=0,p=1}\\\\k_{q=1,p=0}\\\\k_{q=1,p=1}\\\\m^{*}_{q=0}\\\\m^{*}_{q=1}\\end{matrix}\\right]$$"
      ],
      "text/plain": [
       "⎡k_q=0,p=0⎤\n",
       "⎢         ⎥\n",
       "⎢k_q=0,p=1⎥\n",
       "⎢         ⎥\n",
       "⎢k_q=1,p=0⎥\n",
       "⎢         ⎥\n",
       "⎢k_q=1,p=1⎥\n",
       "⎢         ⎥\n",
       "⎢m_q=0__* ⎥\n",
       "⎢         ⎥\n",
       "⎣m_q=1__* ⎦"
      ]
     },
     "execution_count": 9,
     "metadata": {},
     "output_type": "execute_result"
    }
   ],
   "source": [
    "x = K.reshape(q * p, 1).col_join(ms)\n",
    "x"
   ]
  },
  {
   "cell_type": "markdown",
   "metadata": {},
   "source": [
    "To form the $\\mathbf{A}$ matrix for a single time step in a single foot step the equation can be rearranged:"
   ]
  },
  {
   "cell_type": "code",
   "execution_count": 10,
   "metadata": {
    "collapsed": false
   },
   "outputs": [
    {
     "data": {
      "image/png": "[encoded data removed]",
      "text/latex": [
       "$$\\left[\\begin{matrix}- s_{p=0} & - s_{p=1} & 0 & 0 & 1 & 0\\\\0 & 0 & - s_{p=0} & - s_{p=1} & 0 & 1\\end{matrix}\\right]$$"
      ],
      "text/plain": [
       "⎡-s_p=0  -s_p=1    0       0     1  0⎤\n",
       "⎢                                    ⎥\n",
       "⎣  0       0     -s_p=0  -s_p=1  0  1⎦"
      ]
     },
     "execution_count": 10,
     "metadata": {},
     "output_type": "execute_result"
    }
   ],
   "source": [
    "A = zeros(q, q * p)\n",
    "for row in range(q):\n",
    "    A[row, row * p:(row + 1) * p] =  -s.T\n",
    "A = A.row_join(eye(q))\n",
    "A"
   ]
  },
  {
   "cell_type": "code",
   "execution_count": 11,
   "metadata": {
    "collapsed": false
   },
   "outputs": [
    {
     "data": {
      "image/png": "[encoded data removed]",
      "text/latex": [
       "$$\\left[\\begin{matrix}m_{q=0}\\\\m_{q=1}\\end{matrix}\\right]$$"
      ],
      "text/plain": [
       "⎡m_q=0⎤\n",
       "⎢     ⎥\n",
       "⎣m_q=1⎦"
      ]
     },
     "execution_count": 11,
     "metadata": {},
     "output_type": "execute_result"
    }
   ],
   "source": [
    "b = m\n",
    "b"
   ]
  },
  {
   "cell_type": "markdown",
   "metadata": {},
   "source": [
    "Now we can check to make sure that our new form gives the same answer as the previous form:"
   ]
  },
  {
   "cell_type": "code",
   "execution_count": 12,
   "metadata": {
    "collapsed": false
   },
   "outputs": [
    {
     "data": {
      "image/png": "[encoded data removed]",
      "text/latex": [
       "$$\\left[\\begin{matrix}- k_{q=0,p=0} s_{p=0} - k_{q=0,p=1} s_{p=1} + m^{*}_{q=0} - m_{q=0}\\\\- k_{q=1,p=0} s_{p=0} - k_{q=1,p=1} s_{p=1} + m^{*}_{q=1} - m_{q=1}\\end{matrix}\\right]$$"
      ],
      "text/plain": [
       "⎡-k_q=0,p=0⋅s_p=0 - k_q=0,p=1⋅s_p=1 + m_q=0__* - m_q=0⎤\n",
       "⎢                                                     ⎥\n",
       "⎣-k_q=1,p=0⋅s_p=0 - k_q=1,p=1⋅s_p=1 + m_q=1__* - m_q=1⎦"
      ]
     },
     "execution_count": 12,
     "metadata": {},
     "output_type": "execute_result"
    }
   ],
   "source": [
    "zero2 = A * x - b \n",
    "zero2"
   ]
  },
  {
   "cell_type": "code",
   "execution_count": 13,
   "metadata": {
    "collapsed": false
   },
   "outputs": [],
   "source": [
    "assert zero == zero2"
   ]
  },
  {
   "cell_type": "markdown",
   "metadata": {},
   "source": [
    "Now for $n$ time steps in a gait cycle we want to form the $\\mathbf{A}$ matrix such that there are different gains for each time step."
   ]
  },
  {
   "cell_type": "code",
   "execution_count": 14,
   "metadata": {
    "collapsed": false
   },
   "outputs": [],
   "source": [
    "gain_matrices = []\n",
    "control_vectors = []\n",
    "control_star_vectors = []\n",
    "sensor_vectors = []\n",
    "for time_step in range(n):\n",
    "    gain_matrices.append(Matrix(q, p, lambda i, j:\n",
    "                                Symbol('k^{}_q={},p={}'.format(time_step, i, j))))\n",
    "    control_vectors.append(Matrix(q, 1, lambda i, j:\n",
    "                                  Symbol('m^{}_q={}'.format(time_step, i))))\n",
    "    control_star_vectors.append(Matrix(q, 1, lambda i, j:\n",
    "                                       Symbol('m^*{}_q={}'.format(time_step, i))))\n",
    "    sensor_vectors.append(Matrix(p, 1, lambda i, j:\n",
    "                                 Symbol('s^{}_p={}'.format(time_step, i))))"
   ]
  },
  {
   "cell_type": "code",
   "execution_count": 15,
   "metadata": {
    "collapsed": false
   },
   "outputs": [
    {
     "data": {
      "image/png": "[encoded data removed]",
      "text/latex": [
       "$$\\left [ \\left[\\begin{matrix}k^{0}_{q=0,p=0} & k^{0}_{q=0,p=1}\\\\k^{0}_{q=1,p=0} & k^{0}_{q=1,p=1}\\end{matrix}\\right], \\quad \\left[\\begin{matrix}k^{1}_{q=0,p=0} & k^{1}_{q=0,p=1}\\\\k^{1}_{q=1,p=0} & k^{1}_{q=1,p=1}\\end{matrix}\\right], \\quad \\left[\\begin{matrix}k^{2}_{q=0,p=0} & k^{2}_{q=0,p=1}\\\\k^{2}_{q=1,p=0} & k^{2}_{q=1,p=1}\\end{matrix}\\right]\\right ]$$"
      ],
      "text/plain": [
       "⎡⎡k_q=0,p=0__0  k_q=0,p=1__0⎤, ⎡k_q=0,p=0__1  k_q=0,p=1__1⎤, ⎡k_q=0,p=0__2  k_\n",
       "⎢⎢                          ⎥  ⎢                          ⎥  ⎢                \n",
       "⎣⎣k_q=1,p=0__0  k_q=1,p=1__0⎦  ⎣k_q=1,p=0__1  k_q=1,p=1__1⎦  ⎣k_q=1,p=0__2  k_\n",
       "\n",
       "q=0,p=1__2⎤⎤\n",
       "          ⎥⎥\n",
       "q=1,p=1__2⎦⎦"
      ]
     },
     "execution_count": 15,
     "metadata": {},
     "output_type": "execute_result"
    }
   ],
   "source": [
    "gain_matrices"
   ]
  },
  {
   "cell_type": "code",
   "execution_count": 16,
   "metadata": {
    "collapsed": false
   },
   "outputs": [
    {
     "data": {
      "image/png": "[encoded data removed]",
      "text/latex": [
       "$$\\left [ \\left[\\begin{matrix}m^{0}_{q=0}\\\\m^{0}_{q=1}\\end{matrix}\\right], \\quad \\left[\\begin{matrix}m^{1}_{q=0}\\\\m^{1}_{q=1}\\end{matrix}\\right], \\quad \\left[\\begin{matrix}m^{2}_{q=0}\\\\m^{2}_{q=1}\\end{matrix}\\right]\\right ]$$"
      ],
      "text/plain": [
       "⎡⎡m_q=0__0⎤, ⎡m_q=0__1⎤, ⎡m_q=0__2⎤⎤\n",
       "⎢⎢        ⎥  ⎢        ⎥  ⎢        ⎥⎥\n",
       "⎣⎣m_q=1__0⎦  ⎣m_q=1__1⎦  ⎣m_q=1__2⎦⎦"
      ]
     },
     "execution_count": 16,
     "metadata": {},
     "output_type": "execute_result"
    }
   ],
   "source": [
    "control_vectors"
   ]
  },
  {
   "cell_type": "code",
   "execution_count": 17,
   "metadata": {
    "collapsed": false
   },
   "outputs": [
    {
     "data": {
      "image/png": "[encoded data removed]",
      "text/latex": [
       "$$\\left [ \\left[\\begin{matrix}m^{*0}_{q=0}\\\\m^{*0}_{q=1}\\end{matrix}\\right], \\quad \\left[\\begin{matrix}m^{*1}_{q=0}\\\\m^{*1}_{q=1}\\end{matrix}\\right], \\quad \\left[\\begin{matrix}m^{*2}_{q=0}\\\\m^{*2}_{q=1}\\end{matrix}\\right]\\right ]$$"
      ],
      "text/plain": [
       "⎡⎡m_q=0__*0⎤, ⎡m_q=0__*1⎤, ⎡m_q=0__*2⎤⎤\n",
       "⎢⎢         ⎥  ⎢         ⎥  ⎢         ⎥⎥\n",
       "⎣⎣m_q=1__*0⎦  ⎣m_q=1__*1⎦  ⎣m_q=1__*2⎦⎦"
      ]
     },
     "execution_count": 17,
     "metadata": {},
     "output_type": "execute_result"
    }
   ],
   "source": [
    "control_star_vectors"
   ]
  },
  {
   "cell_type": "code",
   "execution_count": 18,
   "metadata": {
    "collapsed": false
   },
   "outputs": [
    {
     "data": {
      "image/png": "[encoded data removed]",
      "text/latex": [
       "$$\\left [ \\left[\\begin{matrix}s^{0}_{p=0}\\\\s^{0}_{p=1}\\end{matrix}\\right], \\quad \\left[\\begin{matrix}s^{1}_{p=0}\\\\s^{1}_{p=1}\\end{matrix}\\right], \\quad \\left[\\begin{matrix}s^{2}_{p=0}\\\\s^{2}_{p=1}\\end{matrix}\\right]\\right ]$$"
      ],
      "text/plain": [
       "⎡⎡s_p=0__0⎤, ⎡s_p=0__1⎤, ⎡s_p=0__2⎤⎤\n",
       "⎢⎢        ⎥  ⎢        ⎥  ⎢        ⎥⎥\n",
       "⎣⎣s_p=1__0⎦  ⎣s_p=1__1⎦  ⎣s_p=1__2⎦⎦"
      ]
     },
     "execution_count": 18,
     "metadata": {},
     "output_type": "execute_result"
    }
   ],
   "source": [
    "sensor_vectors"
   ]
  },
  {
   "cell_type": "markdown",
   "metadata": {},
   "source": [
    "Picking off a trio we should get our familiar equation back:"
   ]
  },
  {
   "cell_type": "code",
   "execution_count": 19,
   "metadata": {
    "collapsed": false
   },
   "outputs": [
    {
     "data": {
      "image/png": "[encoded data removed]",
      "text/latex": [
       "$$\\left[\\begin{matrix}- k^{0}_{q=0,p=0} s^{0}_{p=0} - k^{0}_{q=0,p=1} s^{0}_{p=1} + m^{*0}_{q=0} - m^{0}_{q=0}\\\\- k^{0}_{q=1,p=0} s^{0}_{p=0} - k^{0}_{q=1,p=1} s^{0}_{p=1} + m^{*0}_{q=1} - m^{0}_{q=1}\\end{matrix}\\right]$$"
      ],
      "text/plain": [
       "⎡-k_q=0,p=0__0⋅s_p=0__0 - k_q=0,p=1__0⋅s_p=1__0 + m_q=0__*0 - m_q=0__0⎤\n",
       "⎢                                                                     ⎥\n",
       "⎣-k_q=1,p=0__0⋅s_p=0__0 - k_q=1,p=1__0⋅s_p=1__0 + m_q=1__*0 - m_q=1__0⎦"
      ]
     },
     "execution_count": 19,
     "metadata": {},
     "output_type": "execute_result"
    }
   ],
   "source": [
    "zero = - control_vectors[0] + control_star_vectors[0] - gain_matrices[0] * sensor_vectors[0]\n",
    "zero"
   ]
  },
  {
   "cell_type": "markdown",
   "metadata": {},
   "source": [
    "The larger $\\mathbf{A}$ matrix for all of the time steps can be formed by stacking the $\\mathbf{A}$ matrices from a single time step diagonally:"
   ]
  },
  {
   "cell_type": "code",
   "execution_count": 20,
   "metadata": {
    "collapsed": false
   },
   "outputs": [
    {
     "data": {
      "image/png": "[encoded data removed]",
      "text/latex": [
       "$$\\left[\\begin{array}{cccccccccccccccccc}- s^{0}_{p=0} & - s^{0}_{p=1} & 0 & 0 & 1 & 0 & 0 & 0 & 0 & 0 & 0 & 0 & 0 & 0 & 0 & 0 & 0 & 0\\\\0 & 0 & - s^{0}_{p=0} & - s^{0}_{p=1} & 0 & 1 & 0 & 0 & 0 & 0 & 0 & 0 & 0 & 0 & 0 & 0 & 0 & 0\\\\0 & 0 & 0 & 0 & 0 & 0 & - s^{1}_{p=0} & - s^{1}_{p=1} & 0 & 0 & 1 & 0 & 0 & 0 & 0 & 0 & 0 & 0\\\\0 & 0 & 0 & 0 & 0 & 0 & 0 & 0 & - s^{1}_{p=0} & - s^{1}_{p=1} & 0 & 1 & 0 & 0 & 0 & 0 & 0 & 0\\\\0 & 0 & 0 & 0 & 0 & 0 & 0 & 0 & 0 & 0 & 0 & 0 & - s^{2}_{p=0} & - s^{2}_{p=1} & 0 & 0 & 1 & 0\\\\0 & 0 & 0 & 0 & 0 & 0 & 0 & 0 & 0 & 0 & 0 & 0 & 0 & 0 & - s^{2}_{p=0} & - s^{2}_{p=1} & 0 & 1\\end{array}\\right]$$"
      ],
      "text/plain": [
       "⎡-s_p=0__0  -s_p=1__0      0          0      1  0      0          0          0\n",
       "⎢                                                                             \n",
       "⎢    0          0      -s_p=0__0  -s_p=1__0  0  1      0          0          0\n",
       "⎢                                                                             \n",
       "⎢    0          0          0          0      0  0  -s_p=0__1  -s_p=1__1      0\n",
       "⎢                                                                             \n",
       "⎢    0          0          0          0      0  0      0          0      -s_p=\n",
       "⎢                                                                             \n",
       "⎢    0          0          0          0      0  0      0          0          0\n",
       "⎢                                                                             \n",
       "⎣    0          0          0          0      0  0      0          0          0\n",
       "\n",
       "          0      0  0      0          0          0          0      0  0⎤\n",
       "                                                                       ⎥\n",
       "          0      0  0      0          0          0          0      0  0⎥\n",
       "                                                                       ⎥\n",
       "          0      1  0      0          0          0          0      0  0⎥\n",
       "                                                                       ⎥\n",
       "0__1  -s_p=1__1  0  1      0          0          0          0      0  0⎥\n",
       "                                                                       ⎥\n",
       "          0      0  0  -s_p=0__2  -s_p=1__2      0          0      1  0⎥\n",
       "                                                                       ⎥\n",
       "          0      0  0      0          0      -s_p=0__2  -s_p=1__2  0  1⎦"
      ]
     },
     "execution_count": 20,
     "metadata": {},
     "output_type": "execute_result"
    }
   ],
   "source": [
    "Am = zeros(n * q, n * (q + q * p))\n",
    "for time_step in range(n):\n",
    "    An = zeros(q, q * p)\n",
    "    for row in range(q):\n",
    "        An[row, row * p:(row + 1) * p] =  -sensor_vectors[time_step].T\n",
    "    An = An.row_join(eye(q))\n",
    "    num_rows, num_cols = An.shape\n",
    "    Am[time_step * num_rows:(time_step + 1) * num_rows, time_step * num_cols:(time_step + 1) * num_cols] = An\n",
    "Am"
   ]
  },
  {
   "cell_type": "markdown",
   "metadata": {},
   "source": [
    "The control vector and the gain vector are simple column stacks:"
   ]
  },
  {
   "cell_type": "code",
   "execution_count": 21,
   "metadata": {
    "collapsed": false
   },
   "outputs": [
    {
     "data": {
      "image/png": "[encoded data removed]",
      "text/latex": [
       "$$\\left[\\begin{matrix}m^{0}_{q=0}\\\\m^{0}_{q=1}\\\\m^{1}_{q=0}\\\\m^{1}_{q=1}\\\\m^{2}_{q=0}\\\\m^{2}_{q=1}\\end{matrix}\\right]$$"
      ],
      "text/plain": [
       "⎡m_q=0__0⎤\n",
       "⎢        ⎥\n",
       "⎢m_q=1__0⎥\n",
       "⎢        ⎥\n",
       "⎢m_q=0__1⎥\n",
       "⎢        ⎥\n",
       "⎢m_q=1__1⎥\n",
       "⎢        ⎥\n",
       "⎢m_q=0__2⎥\n",
       "⎢        ⎥\n",
       "⎣m_q=1__2⎦"
      ]
     },
     "execution_count": 21,
     "metadata": {},
     "output_type": "execute_result"
    }
   ],
   "source": [
    "bm = control_vectors[0]\n",
    "for control in control_vectors[1:]:\n",
    "    bm = bm.col_join(control)\n",
    "bm"
   ]
  },
  {
   "cell_type": "code",
   "execution_count": 22,
   "metadata": {
    "collapsed": false
   },
   "outputs": [
    {
     "data": {
      "image/png": "[encoded data removed]",
      "text/latex": [
       "$$\\left[\\begin{matrix}k^{0}_{q=0,p=0}\\\\k^{0}_{q=0,p=1}\\\\k^{0}_{q=1,p=0}\\\\k^{0}_{q=1,p=1}\\\\m^{*0}_{q=0}\\\\m^{*0}_{q=1}\\\\k^{1}_{q=0,p=0}\\\\k^{1}_{q=0,p=1}\\\\k^{1}_{q=1,p=0}\\\\k^{1}_{q=1,p=1}\\\\m^{*1}_{q=0}\\\\m^{*1}_{q=1}\\\\k^{2}_{q=0,p=0}\\\\k^{2}_{q=0,p=1}\\\\k^{2}_{q=1,p=0}\\\\k^{2}_{q=1,p=1}\\\\m^{*2}_{q=0}\\\\m^{*2}_{q=1}\\end{matrix}\\right]$$"
      ],
      "text/plain": [
       "⎡k_q=0,p=0__0⎤\n",
       "⎢            ⎥\n",
       "⎢k_q=0,p=1__0⎥\n",
       "⎢            ⎥\n",
       "⎢k_q=1,p=0__0⎥\n",
       "⎢            ⎥\n",
       "⎢k_q=1,p=1__0⎥\n",
       "⎢            ⎥\n",
       "⎢ m_q=0__*0  ⎥\n",
       "⎢            ⎥\n",
       "⎢ m_q=1__*0  ⎥\n",
       "⎢            ⎥\n",
       "⎢k_q=0,p=0__1⎥\n",
       "⎢            ⎥\n",
       "⎢k_q=0,p=1__1⎥\n",
       "⎢            ⎥\n",
       "⎢k_q=1,p=0__1⎥\n",
       "⎢            ⎥\n",
       "⎢k_q=1,p=1__1⎥\n",
       "⎢            ⎥\n",
       "⎢ m_q=0__*1  ⎥\n",
       "⎢            ⎥\n",
       "⎢ m_q=1__*1  ⎥\n",
       "⎢            ⎥\n",
       "⎢k_q=0,p=0__2⎥\n",
       "⎢            ⎥\n",
       "⎢k_q=0,p=1__2⎥\n",
       "⎢            ⎥\n",
       "⎢k_q=1,p=0__2⎥\n",
       "⎢            ⎥\n",
       "⎢k_q=1,p=1__2⎥\n",
       "⎢            ⎥\n",
       "⎢ m_q=0__*2  ⎥\n",
       "⎢            ⎥\n",
       "⎣ m_q=1__*2  ⎦"
      ]
     },
     "execution_count": 22,
     "metadata": {},
     "output_type": "execute_result"
    }
   ],
   "source": [
    "xm = gain_matrices[0].reshape(q * p, 1).col_join(control_star_vectors[0])\n",
    "for gain, control_star in zip(gain_matrices[1:], control_star_vectors[1:]):\n",
    "    xm = xm.col_join(gain.reshape(q * p, 1)).col_join(control_star)\n",
    "xm"
   ]
  },
  {
   "cell_type": "markdown",
   "metadata": {},
   "source": [
    "Now the original equations can be regenerated with:"
   ]
  },
  {
   "cell_type": "code",
   "execution_count": 23,
   "metadata": {
    "collapsed": false
   },
   "outputs": [
    {
     "data": {
      "image/png": "[encoded data removed]",
      "text/latex": [
       "$$\\left[\\begin{matrix}- k^{0}_{q=0,p=0} s^{0}_{p=0} - k^{0}_{q=0,p=1} s^{0}_{p=1} + m^{*0}_{q=0} - m^{0}_{q=0}\\\\- k^{0}_{q=1,p=0} s^{0}_{p=0} - k^{0}_{q=1,p=1} s^{0}_{p=1} + m^{*0}_{q=1} - m^{0}_{q=1}\\\\- k^{1}_{q=0,p=0} s^{1}_{p=0} - k^{1}_{q=0,p=1} s^{1}_{p=1} + m^{*1}_{q=0} - m^{1}_{q=0}\\\\- k^{1}_{q=1,p=0} s^{1}_{p=0} - k^{1}_{q=1,p=1} s^{1}_{p=1} + m^{*1}_{q=1} - m^{1}_{q=1}\\\\- k^{2}_{q=0,p=0} s^{2}_{p=0} - k^{2}_{q=0,p=1} s^{2}_{p=1} + m^{*2}_{q=0} - m^{2}_{q=0}\\\\- k^{2}_{q=1,p=0} s^{2}_{p=0} - k^{2}_{q=1,p=1} s^{2}_{p=1} + m^{*2}_{q=1} - m^{2}_{q=1}\\end{matrix}\\right]$$"
      ],
      "text/plain": [
       "⎡-k_q=0,p=0__0⋅s_p=0__0 - k_q=0,p=1__0⋅s_p=1__0 + m_q=0__*0 - m_q=0__0⎤\n",
       "⎢                                                                     ⎥\n",
       "⎢-k_q=1,p=0__0⋅s_p=0__0 - k_q=1,p=1__0⋅s_p=1__0 + m_q=1__*0 - m_q=1__0⎥\n",
       "⎢                                                                     ⎥\n",
       "⎢-k_q=0,p=0__1⋅s_p=0__1 - k_q=0,p=1__1⋅s_p=1__1 + m_q=0__*1 - m_q=0__1⎥\n",
       "⎢                                                                     ⎥\n",
       "⎢-k_q=1,p=0__1⋅s_p=0__1 - k_q=1,p=1__1⋅s_p=1__1 + m_q=1__*1 - m_q=1__1⎥\n",
       "⎢                                                                     ⎥\n",
       "⎢-k_q=0,p=0__2⋅s_p=0__2 - k_q=0,p=1__2⋅s_p=1__2 + m_q=0__*2 - m_q=0__2⎥\n",
       "⎢                                                                     ⎥\n",
       "⎣-k_q=1,p=0__2⋅s_p=0__2 - k_q=1,p=1__2⋅s_p=1__2 + m_q=1__*2 - m_q=1__2⎦"
      ]
     },
     "execution_count": 23,
     "metadata": {},
     "output_type": "execute_result"
    }
   ],
   "source": [
    "Am * xm - bm"
   ]
  },
  {
   "cell_type": "markdown",
   "metadata": {},
   "source": [
    "We have $n(p q + q)$ unknowns and $nq$ equations so we need at least $1 + p$ cycles to solve for the unknowns."
   ]
  },
  {
   "cell_type": "code",
   "execution_count": 24,
   "metadata": {
    "collapsed": false
   },
   "outputs": [
    {
     "data": {
      "text/plain": [
       "18"
      ]
     },
     "execution_count": 24,
     "metadata": {},
     "output_type": "execute_result"
    }
   ],
   "source": [
    "n * (p*q + q)"
   ]
  },
  {
   "cell_type": "code",
   "execution_count": 25,
   "metadata": {
    "collapsed": false
   },
   "outputs": [
    {
     "data": {
      "text/plain": [
       "3"
      ]
     },
     "execution_count": 25,
     "metadata": {},
     "output_type": "execute_result"
    }
   ],
   "source": [
    "1 + p"
   ]
  },
  {
   "cell_type": "code",
   "execution_count": 26,
   "metadata": {
    "collapsed": false
   },
   "outputs": [
    {
     "data": {
      "text/plain": [
       "((6, 18), (6, 1))"
      ]
     },
     "execution_count": 26,
     "metadata": {},
     "output_type": "execute_result"
    }
   ],
   "source": [
    "Am.shape, bm.shape"
   ]
  },
  {
   "cell_type": "code",
   "execution_count": 27,
   "metadata": {
    "collapsed": false
   },
   "outputs": [],
   "source": [
    "b = bm\n",
    "A = Am\n",
    "for step in range(p):\n",
    "    b = b.col_join(bm)\n",
    "    A = A.col_join(Am)"
   ]
  },
  {
   "cell_type": "code",
   "execution_count": 28,
   "metadata": {
    "collapsed": false
   },
   "outputs": [
    {
     "data": {
      "text/plain": [
       "((18, 18), (18, 1))"
      ]
     },
     "execution_count": 28,
     "metadata": {},
     "output_type": "execute_result"
    }
   ],
   "source": [
    "A.shape, b.shape"
   ]
  },
  {
   "cell_type": "code",
   "execution_count": 29,
   "metadata": {
    "collapsed": true
   },
   "outputs": [],
   "source": [
    "%load_ext version_information"
   ]
  },
  {
   "cell_type": "code",
   "execution_count": 30,
   "metadata": {
    "collapsed": false
   },
   "outputs": [
    {
     "data": {
      "application/json": {
       "Software versions": [
        {
         "module": "Python",
         "version": "2.7.9 64bit [GCC 4.4.7 20120313 (Red Hat 4.4.7-1)]"
        },
        {
         "module": "IPython",
         "version": "3.0.0"
        },
        {
         "module": "OS",
         "version": "Linux 3.13.0 46 generic x86_64 with debian jessie sid"
        },
        {
         "module": "sympy",
         "version": "0.7.6"
        }
       ]
      },
      "text/html": [
       "<table><tr><th>Software</th><th>Version</th></tr><tr><td>Python</td><td>2.7.9 64bit [GCC 4.4.7 20120313 (Red Hat 4.4.7-1)]</td></tr><tr><td>IPython</td><td>3.0.0</td></tr><tr><td>OS</td><td>Linux 3.13.0 46 generic x86_64 with debian jessie sid</td></tr><tr><td>sympy</td><td>0.7.6</td></tr><tr><td colspan='2'>Fri Mar 06 09:27:07 2015 PST</td></tr></table>"
      ],
      "text/latex": [
       "\\begin{tabular}{|l|l|}\\hline\n",
       "{\\bf Software} & {\\bf Version} \\\\ \\hline\\hline\n",
       "Python & 2.7.9 64bit [GCC 4.4.7 20120313 (Red Hat 4.4.7-1)] \\\\ \\hline\n",
       "IPython & 3.0.0 \\\\ \\hline\n",
       "OS & Linux 3.13.0 46 generic x86\\_64 with debian jessie sid \\\\ \\hline\n",
       "sympy & 0.7.6 \\\\ \\hline\n",
       "\\hline \\multicolumn{2}{|l|}{Fri Mar 06 09:27:07 2015 PST} \\\\ \\hline\n",
       "\\end{tabular}\n"
      ],
      "text/plain": [
       "Software versions\n",
       "Python 2.7.9 64bit [GCC 4.4.7 20120313 (Red Hat 4.4.7-1)]\n",
       "IPython 3.0.0\n",
       "OS Linux 3.13.0 46 generic x86_64 with debian jessie sid\n",
       "sympy 0.7.6\n",
       "Fri Mar 06 09:27:07 2015 PST"
      ]
     },
     "execution_count": 30,
     "metadata": {},
     "output_type": "execute_result"
    }
   ],
   "source": [
    "%version_information sympy"
   ]
  }
 ],
 "metadata": {
  "kernelspec": {
   "display_name": "Python 2",
   "language": "python",
   "name": "python2"
  },
  "language_info": {
   "codemirror_mode": {
    "name": "ipython",
    "version": 2
   },
   "file_extension": ".py",
   "mimetype": "text/x-python",
   "name": "python",
   "nbconvert_exporter": "python",
   "pygments_lexer": "ipython2",
   "version": "2.7.9"
  }
 },
 "nbformat": 4,
 "nbformat_minor": 0
}
