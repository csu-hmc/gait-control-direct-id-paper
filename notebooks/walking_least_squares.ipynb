{
 "metadata": {
  "name": "",
  "signature": "sha256:e4f35503aa229140e7ce0e989bf0037a143ec56031c2ecb2a0742c2fce0b8dab"
 },
 "nbformat": 3,
 "nbformat_minor": 0,
 "worksheets": [
  {
   "cells": [
    {
     "cell_type": "markdown",
     "metadata": {},
     "source": [
      "This notebook describes the details of forming the coefficient matrix and ordinate vector from walking data for a linear least squares solution to the optimal gains from a simple full state feedback controller employed by the human while walking."
     ]
    },
    {
     "cell_type": "code",
     "collapsed": false,
     "input": [
      "!pip freeze"
     ],
     "language": "python",
     "metadata": {},
     "outputs": [
      {
       "output_type": "stream",
       "stream": "stdout",
       "text": [
        "DynamicistToolKit==0.3.5\r\n",
        "GaitAnalysisToolKit==0.1.1\r\n",
        "Jinja2==2.7.3\r\n",
        "MarkupSafe==0.23\r\n",
        "PyYAML==3.11\r\n",
        "backports.ssl-match-hostname==3.4.0.2\r\n",
        "fastcache==1.0.1\r\n",
        "ipython==2.3.1\r\n",
        "matplotlib==1.4.2\r\n",
        "numexpr==2.3.1\r\n",
        "numpy==1.9.1\r\n",
        "oct2py==2.4.0\r\n",
        "pandas==0.15.1\r\n",
        "patsy==0.3.0\r\n",
        "pyparsing==2.0.1\r\n",
        "python-dateutil==1.5\r\n",
        "pytz==2014.9\r\n",
        "pyzmq==14.4.1\r\n",
        "scipy==0.14.0\r\n",
        "six==1.8.0\r\n",
        "statsmodels==0.6.1\r\n",
        "sympy==0.7.6\r\n",
        "tables==3.1.1\r\n",
        "tornado==4.0.2\r\n",
        "uncertainties==2.4.6.1\r\n",
        "wsgiref==0.1.2\r\n"
       ]
      }
     ],
     "prompt_number": 1
    },
    {
     "cell_type": "code",
     "collapsed": false,
     "input": [
      "from sympy import init_printing\n",
      "init_printing()"
     ],
     "language": "python",
     "metadata": {},
     "outputs": [],
     "prompt_number": 2
    },
    {
     "cell_type": "code",
     "collapsed": false,
     "input": [
      "from sympy import symbols, Matrix, Symbol, zeros, eye"
     ],
     "language": "python",
     "metadata": {},
     "outputs": [],
     "prompt_number": 3
    },
    {
     "cell_type": "code",
     "collapsed": false,
     "input": [
      "n = 3 # number of time samples in each cycle (step)\n",
      "m = 2 # number of cycles (steps)\n",
      "p = 2 # number of sensors\n",
      "q = 2 # number of controls"
     ],
     "language": "python",
     "metadata": {},
     "outputs": [],
     "prompt_number": 4
    },
    {
     "cell_type": "markdown",
     "metadata": {},
     "source": [
      "First form the equation that generates the controls given the error in the sensors at a single time step during a single foot step.\n",
      "\n",
      "$$m_m(t) = m(t)_0 + K(t) s_e(t) = m(t)_0 + K(t) (s_0(t) - s_m(t))$$\n",
      "\n",
      "Now rearrange the equations such that we have one linear in both the gains, $K(t)$, and in $m^*(t)$:\n",
      "\n",
      "$$m_m(t) = m(t)_0 + K(t) s_0(t) - K(t) s_m(t) = m^*(t) - K(t) s_m(t)$$"
     ]
    },
    {
     "cell_type": "markdown",
     "metadata": {},
     "source": [
      "The \"measured\" controls, $m_m(t)$:"
     ]
    },
    {
     "cell_type": "code",
     "collapsed": false,
     "input": [
      "mm = Matrix(q, 1, lambda i, j: Symbol('m_m_q={}'.format(i)))\n",
      "mm"
     ],
     "language": "python",
     "metadata": {},
     "outputs": [
      {
       "latex": [
        "$$\\left[\\begin{matrix}m_{m q=0}\\\\m_{m q=1}\\end{matrix}\\right]$$"
       ],
       "metadata": {},
       "output_type": "pyout",
       "png": "[encoded data removed]",
       "prompt_number": 5,
       "text": [
        "\u23a1m_m_q=0\u23a4\n",
        "\u23a2       \u23a5\n",
        "\u23a3m_m_q=1\u23a6"
       ]
      }
     ],
     "prompt_number": 5
    },
    {
     "cell_type": "markdown",
     "metadata": {},
     "source": [
      "The unknown gains, $K(t)$:"
     ]
    },
    {
     "cell_type": "code",
     "collapsed": false,
     "input": [
      "K = Matrix(q, p, lambda i, j: Symbol('k_q={},p={}'.format(i, j)))\n",
      "K"
     ],
     "language": "python",
     "metadata": {},
     "outputs": [
      {
       "latex": [
        "$$\\left[\\begin{matrix}k_{q=0,p=0} & k_{q=0,p=1}\\\\k_{q=1,p=0} & k_{q=1,p=1}\\end{matrix}\\right]$$"
       ],
       "metadata": {},
       "output_type": "pyout",
       "png": "[encoded data removed]",
       "prompt_number": 6,
       "text": [
        "\u23a1k_q=0,p=0  k_q=0,p=1\u23a4\n",
        "\u23a2                    \u23a5\n",
        "\u23a3k_q=1,p=0  k_q=1,p=1\u23a6"
       ]
      }
     ],
     "prompt_number": 6
    },
    {
     "cell_type": "markdown",
     "metadata": {},
     "source": [
      "The unknown nominal controls, $m^*(t)$:"
     ]
    },
    {
     "cell_type": "code",
     "collapsed": false,
     "input": [
      "ms = Matrix(q, 1, lambda i, j: Symbol('m^*_q={}'.format(i)))\n",
      "ms"
     ],
     "language": "python",
     "metadata": {},
     "outputs": [
      {
       "latex": [
        "$$\\left[\\begin{matrix}m^{*}_{q=0}\\\\m^{*}_{q=1}\\end{matrix}\\right]$$"
       ],
       "metadata": {},
       "output_type": "pyout",
       "png": "[encoded data removed]",
       "prompt_number": 7,
       "text": [
        "\u23a1m_q=0__*\u23a4\n",
        "\u23a2        \u23a5\n",
        "\u23a3m_q=1__*\u23a6"
       ]
      }
     ],
     "prompt_number": 7
    },
    {
     "cell_type": "markdown",
     "metadata": {},
     "source": [
      "The measured sensors, $s_m(t)$:"
     ]
    },
    {
     "cell_type": "code",
     "collapsed": false,
     "input": [
      "sm = Matrix(p, 1, lambda i, j: Symbol('s_m_p={}'.format(i)))\n",
      "sm"
     ],
     "language": "python",
     "metadata": {},
     "outputs": [
      {
       "latex": [
        "$$\\left[\\begin{matrix}s_{m p=0}\\\\s_{m p=1}\\end{matrix}\\right]$$"
       ],
       "metadata": {},
       "output_type": "pyout",
       "png": "[encoded data removed]",
       "prompt_number": 8,
       "text": [
        "\u23a1s_m_p=0\u23a4\n",
        "\u23a2       \u23a5\n",
        "\u23a3s_m_p=1\u23a6"
       ]
      }
     ],
     "prompt_number": 8
    },
    {
     "cell_type": "markdown",
     "metadata": {},
     "source": [
      "And the equation:\n",
      "\n",
      "$$0 = m^*(t) - K(t) s_m(t) - m_m(t)$$"
     ]
    },
    {
     "cell_type": "code",
     "collapsed": false,
     "input": [
      "zero = ms - K * sm - mm\n",
      "zero"
     ],
     "language": "python",
     "metadata": {},
     "outputs": [
      {
       "latex": [
        "$$\\left[\\begin{matrix}- k_{q=0,p=0} s_{m p=0} - k_{q=0,p=1} s_{m p=1} + m^{*}_{q=0} - m_{m q=0}\\\\- k_{q=1,p=0} s_{m p=0} - k_{q=1,p=1} s_{m p=1} + m^{*}_{q=1} - m_{m q=1}\\end{matrix}\\right]$$"
       ],
       "metadata": {},
       "output_type": "pyout",
       "png": "[encoded data removed]",
       "prompt_number": 9,
       "text": [
        "\u23a1-k_q=0,p=0\u22c5s_m_p=0 - k_q=0,p=1\u22c5s_m_p=1 + m_q=0__* - m_m_q=0\u23a4\n",
        "\u23a2                                                           \u23a5\n",
        "\u23a3-k_q=1,p=0\u22c5s_m_p=0 - k_q=1,p=1\u22c5s_m_p=1 + m_q=1__* - m_m_q=1\u23a6"
       ]
      }
     ],
     "prompt_number": 9
    },
    {
     "cell_type": "markdown",
     "metadata": {},
     "source": [
      "Now for a simple linear least squares the equations can be massage into this form:\n",
      "\n",
      "$$Ax=b$$\n",
      "\n",
      "which gives and over determined system of linear equations.\n",
      "\n",
      "We define $x$ as:\n"
     ]
    },
    {
     "cell_type": "code",
     "collapsed": false,
     "input": [
      "x = K.reshape(q * p, 1).col_join(ms)\n",
      "x"
     ],
     "language": "python",
     "metadata": {},
     "outputs": [
      {
       "latex": [
        "$$\\left[\\begin{matrix}k_{q=0,p=0}\\\\k_{q=0,p=1}\\\\k_{q=1,p=0}\\\\k_{q=1,p=1}\\\\m^{*}_{q=0}\\\\m^{*}_{q=1}\\end{matrix}\\right]$$"
       ],
       "metadata": {},
       "output_type": "pyout",
       "png": "[encoded data removed]",
       "prompt_number": 10,
       "text": [
        "\u23a1k_q=0,p=0\u23a4\n",
        "\u23a2         \u23a5\n",
        "\u23a2k_q=0,p=1\u23a5\n",
        "\u23a2         \u23a5\n",
        "\u23a2k_q=1,p=0\u23a5\n",
        "\u23a2         \u23a5\n",
        "\u23a2k_q=1,p=1\u23a5\n",
        "\u23a2         \u23a5\n",
        "\u23a2m_q=0__* \u23a5\n",
        "\u23a2         \u23a5\n",
        "\u23a3m_q=1__* \u23a6"
       ]
      }
     ],
     "prompt_number": 10
    },
    {
     "cell_type": "markdown",
     "metadata": {},
     "source": [
      "To form the $A$ matrix for a single time step in a single foot step the equation can be rearranged:"
     ]
    },
    {
     "cell_type": "code",
     "collapsed": false,
     "input": [
      "A = zeros(q, q * p)\n",
      "for row in range(q):\n",
      "    A[row, row * p:(row + 1) * p] =  -sm.T\n",
      "A = A.row_join(eye(q))\n",
      "A"
     ],
     "language": "python",
     "metadata": {},
     "outputs": [
      {
       "latex": [
        "$$\\left[\\begin{matrix}- s_{m p=0} & - s_{m p=1} & 0 & 0 & 1 & 0\\\\0 & 0 & - s_{m p=0} & - s_{m p=1} & 0 & 1\\end{matrix}\\right]$$"
       ],
       "metadata": {},
       "output_type": "pyout",
       "png": "[encoded data removed]",
       "prompt_number": 11,
       "text": [
        "\u23a1-s_m_p=0  -s_m_p=1     0         0      1  0\u23a4\n",
        "\u23a2                                            \u23a5\n",
        "\u23a3   0         0      -s_m_p=0  -s_m_p=1  0  1\u23a6"
       ]
      }
     ],
     "prompt_number": 11
    },
    {
     "cell_type": "code",
     "collapsed": false,
     "input": [
      "b = mm\n",
      "b"
     ],
     "language": "python",
     "metadata": {},
     "outputs": [
      {
       "latex": [
        "$$\\left[\\begin{matrix}m_{m q=0}\\\\m_{m q=1}\\end{matrix}\\right]$$"
       ],
       "metadata": {},
       "output_type": "pyout",
       "png": "[encoded data removed]",
       "prompt_number": 12,
       "text": [
        "\u23a1m_m_q=0\u23a4\n",
        "\u23a2       \u23a5\n",
        "\u23a3m_m_q=1\u23a6"
       ]
      }
     ],
     "prompt_number": 12
    },
    {
     "cell_type": "markdown",
     "metadata": {},
     "source": [
      "Now we can check to make sure that our new form gives the same answer as the previous form:"
     ]
    },
    {
     "cell_type": "code",
     "collapsed": false,
     "input": [
      "zero2 = A * x - b \n",
      "zero2"
     ],
     "language": "python",
     "metadata": {},
     "outputs": [
      {
       "latex": [
        "$$\\left[\\begin{matrix}- k_{q=0,p=0} s_{m p=0} - k_{q=0,p=1} s_{m p=1} + m^{*}_{q=0} - m_{m q=0}\\\\- k_{q=1,p=0} s_{m p=0} - k_{q=1,p=1} s_{m p=1} + m^{*}_{q=1} - m_{m q=1}\\end{matrix}\\right]$$"
       ],
       "metadata": {},
       "output_type": "pyout",
       "png": "[encoded data removed]",
       "prompt_number": 13,
       "text": [
        "\u23a1-k_q=0,p=0\u22c5s_m_p=0 - k_q=0,p=1\u22c5s_m_p=1 + m_q=0__* - m_m_q=0\u23a4\n",
        "\u23a2                                                           \u23a5\n",
        "\u23a3-k_q=1,p=0\u22c5s_m_p=0 - k_q=1,p=1\u22c5s_m_p=1 + m_q=1__* - m_m_q=1\u23a6"
       ]
      }
     ],
     "prompt_number": 13
    },
    {
     "cell_type": "code",
     "collapsed": false,
     "input": [
      "assert zero == zero2"
     ],
     "language": "python",
     "metadata": {},
     "outputs": [],
     "prompt_number": 14
    },
    {
     "cell_type": "markdown",
     "metadata": {},
     "source": [
      "Now for n timesteps we want to form the A matrix such that there are different gains for each time step."
     ]
    },
    {
     "cell_type": "code",
     "collapsed": false,
     "input": [
      "gain_matrices = []\n",
      "control_vectors = []\n",
      "control_star_vectors = []\n",
      "sensor_vectors = []\n",
      "for time_step in range(n):\n",
      "    gain_matrices.append(Matrix(q, p, lambda i, j: Symbol('k^{}_q={},p={}'.format(time_step, i, j))))\n",
      "    control_vectors.append(Matrix(q, 1, lambda i, j: Symbol('m^{}_m_q={}'.format(time_step, i))))\n",
      "    control_star_vectors.append(Matrix(q, 1, lambda i, j: Symbol('m^*{}_q={}'.format(time_step, i))))\n",
      "    sensor_vectors.append(Matrix(p, 1, lambda i, j: Symbol('s^{}_m_p={}'.format(time_step, i))))"
     ],
     "language": "python",
     "metadata": {},
     "outputs": [],
     "prompt_number": 15
    },
    {
     "cell_type": "code",
     "collapsed": false,
     "input": [
      "gain_matrices"
     ],
     "language": "python",
     "metadata": {},
     "outputs": [
      {
       "latex": [
        "$$\\left [ \\left[\\begin{matrix}k^{0}_{q=0,p=0} & k^{0}_{q=0,p=1}\\\\k^{0}_{q=1,p=0} & k^{0}_{q=1,p=1}\\end{matrix}\\right], \\quad \\left[\\begin{matrix}k^{1}_{q=0,p=0} & k^{1}_{q=0,p=1}\\\\k^{1}_{q=1,p=0} & k^{1}_{q=1,p=1}\\end{matrix}\\right], \\quad \\left[\\begin{matrix}k^{2}_{q=0,p=0} & k^{2}_{q=0,p=1}\\\\k^{2}_{q=1,p=0} & k^{2}_{q=1,p=1}\\end{matrix}\\right]\\right ]$$"
       ],
       "metadata": {},
       "output_type": "pyout",
       "png": "[encoded data removed]",
       "prompt_number": 16,
       "text": [
        "\u23a1\u23a1k_q=0,p=0__0  k_q=0,p=1__0\u23a4, \u23a1k_q=0,p=0__1  k_q=0,p=1__1\u23a4, \u23a1k_q=0,p=0__2  k_\n",
        "\u23a2\u23a2                          \u23a5  \u23a2                          \u23a5  \u23a2                \n",
        "\u23a3\u23a3k_q=1,p=0__0  k_q=1,p=1__0\u23a6  \u23a3k_q=1,p=0__1  k_q=1,p=1__1\u23a6  \u23a3k_q=1,p=0__2  k_\n",
        "\n",
        "q=0,p=1__2\u23a4\u23a4\n",
        "          \u23a5\u23a5\n",
        "q=1,p=1__2\u23a6\u23a6"
       ]
      }
     ],
     "prompt_number": 16
    },
    {
     "cell_type": "code",
     "collapsed": false,
     "input": [
      "control_vectors"
     ],
     "language": "python",
     "metadata": {},
     "outputs": [
      {
       "latex": [
        "$$\\left [ \\left[\\begin{matrix}m^{0}_{m q=0}\\\\m^{0}_{m q=1}\\end{matrix}\\right], \\quad \\left[\\begin{matrix}m^{1}_{m q=0}\\\\m^{1}_{m q=1}\\end{matrix}\\right], \\quad \\left[\\begin{matrix}m^{2}_{m q=0}\\\\m^{2}_{m q=1}\\end{matrix}\\right]\\right ]$$"
       ],
       "metadata": {},
       "output_type": "pyout",
       "png": "[encoded data removed]",
       "prompt_number": 17,
       "text": [
        "\u23a1\u23a1m_m_q=0__0\u23a4, \u23a1m_m_q=0__1\u23a4, \u23a1m_m_q=0__2\u23a4\u23a4\n",
        "\u23a2\u23a2          \u23a5  \u23a2          \u23a5  \u23a2          \u23a5\u23a5\n",
        "\u23a3\u23a3m_m_q=1__0\u23a6  \u23a3m_m_q=1__1\u23a6  \u23a3m_m_q=1__2\u23a6\u23a6"
       ]
      }
     ],
     "prompt_number": 17
    },
    {
     "cell_type": "code",
     "collapsed": false,
     "input": [
      "control_star_vectors"
     ],
     "language": "python",
     "metadata": {},
     "outputs": [
      {
       "latex": [
        "$$\\left [ \\left[\\begin{matrix}m^{*0}_{q=0}\\\\m^{*0}_{q=1}\\end{matrix}\\right], \\quad \\left[\\begin{matrix}m^{*1}_{q=0}\\\\m^{*1}_{q=1}\\end{matrix}\\right], \\quad \\left[\\begin{matrix}m^{*2}_{q=0}\\\\m^{*2}_{q=1}\\end{matrix}\\right]\\right ]$$"
       ],
       "metadata": {},
       "output_type": "pyout",
       "png": "[encoded data removed]",
       "prompt_number": 18,
       "text": [
        "\u23a1\u23a1m_q=0__*0\u23a4, \u23a1m_q=0__*1\u23a4, \u23a1m_q=0__*2\u23a4\u23a4\n",
        "\u23a2\u23a2         \u23a5  \u23a2         \u23a5  \u23a2         \u23a5\u23a5\n",
        "\u23a3\u23a3m_q=1__*0\u23a6  \u23a3m_q=1__*1\u23a6  \u23a3m_q=1__*2\u23a6\u23a6"
       ]
      }
     ],
     "prompt_number": 18
    },
    {
     "cell_type": "code",
     "collapsed": false,
     "input": [
      "sensor_vectors"
     ],
     "language": "python",
     "metadata": {},
     "outputs": [
      {
       "latex": [
        "$$\\left [ \\left[\\begin{matrix}s^{0}_{m p=0}\\\\s^{0}_{m p=1}\\end{matrix}\\right], \\quad \\left[\\begin{matrix}s^{1}_{m p=0}\\\\s^{1}_{m p=1}\\end{matrix}\\right], \\quad \\left[\\begin{matrix}s^{2}_{m p=0}\\\\s^{2}_{m p=1}\\end{matrix}\\right]\\right ]$$"
       ],
       "metadata": {},
       "output_type": "pyout",
       "png": "[encoded data removed]",
       "prompt_number": 19,
       "text": [
        "\u23a1\u23a1s_m_p=0__0\u23a4, \u23a1s_m_p=0__1\u23a4, \u23a1s_m_p=0__2\u23a4\u23a4\n",
        "\u23a2\u23a2          \u23a5  \u23a2          \u23a5  \u23a2          \u23a5\u23a5\n",
        "\u23a3\u23a3s_m_p=1__0\u23a6  \u23a3s_m_p=1__1\u23a6  \u23a3s_m_p=1__2\u23a6\u23a6"
       ]
      }
     ],
     "prompt_number": 19
    },
    {
     "cell_type": "markdown",
     "metadata": {},
     "source": [
      "Picking off a trio we should get our familiar equation back:"
     ]
    },
    {
     "cell_type": "code",
     "collapsed": false,
     "input": [
      "zero = - control_vectors[0] + control_star_vectors[0] - gain_matrices[0] * sensor_vectors[0]\n",
      "zero"
     ],
     "language": "python",
     "metadata": {},
     "outputs": [
      {
       "latex": [
        "$$\\left[\\begin{matrix}- k^{0}_{q=0,p=0} s^{0}_{m p=0} - k^{0}_{q=0,p=1} s^{0}_{m p=1} + m^{*0}_{q=0} - m^{0}_{m q=0}\\\\- k^{0}_{q=1,p=0} s^{0}_{m p=0} - k^{0}_{q=1,p=1} s^{0}_{m p=1} + m^{*0}_{q=1} - m^{0}_{m q=1}\\end{matrix}\\right]$$"
       ],
       "metadata": {},
       "output_type": "pyout",
       "png": "[encoded data removed]",
       "prompt_number": 20,
       "text": [
        "\u23a1-k_q=0,p=0__0\u22c5s_m_p=0__0 - k_q=0,p=1__0\u22c5s_m_p=1__0 + m_q=0__*0 - m_m_q=0__0\u23a4\n",
        "\u23a2                                                                           \u23a5\n",
        "\u23a3-k_q=1,p=0__0\u22c5s_m_p=0__0 - k_q=1,p=1__0\u22c5s_m_p=1__0 + m_q=1__*0 - m_m_q=1__0\u23a6"
       ]
      }
     ],
     "prompt_number": 20
    },
    {
     "cell_type": "markdown",
     "metadata": {},
     "source": [
      "The larger A matrix for all of the time steps can be formed by stacking the A matrices from a single time step diagonally:"
     ]
    },
    {
     "cell_type": "code",
     "collapsed": false,
     "input": [
      "Am = zeros(n * q, n * (q + q * p))\n",
      "for time_step in range(n):\n",
      "    An = zeros(q, q * p)\n",
      "    for row in range(q):\n",
      "        An[row, row * p:(row + 1) * p] =  -sensor_vectors[time_step].T\n",
      "    An = An.row_join(eye(q))\n",
      "    num_rows, num_cols = An.shape\n",
      "    Am[time_step * num_rows:(time_step + 1) * num_rows, time_step * num_cols:(time_step + 1) * num_cols] = An\n",
      "Am"
     ],
     "language": "python",
     "metadata": {},
     "outputs": [
      {
       "latex": [
        "$$\\left[\\begin{array}{cccccccccccccccccc}- s^{0}_{m p=0} & - s^{0}_{m p=1} & 0 & 0 & 1 & 0 & 0 & 0 & 0 & 0 & 0 & 0 & 0 & 0 & 0 & 0 & 0 & 0\\\\0 & 0 & - s^{0}_{m p=0} & - s^{0}_{m p=1} & 0 & 1 & 0 & 0 & 0 & 0 & 0 & 0 & 0 & 0 & 0 & 0 & 0 & 0\\\\0 & 0 & 0 & 0 & 0 & 0 & - s^{1}_{m p=0} & - s^{1}_{m p=1} & 0 & 0 & 1 & 0 & 0 & 0 & 0 & 0 & 0 & 0\\\\0 & 0 & 0 & 0 & 0 & 0 & 0 & 0 & - s^{1}_{m p=0} & - s^{1}_{m p=1} & 0 & 1 & 0 & 0 & 0 & 0 & 0 & 0\\\\0 & 0 & 0 & 0 & 0 & 0 & 0 & 0 & 0 & 0 & 0 & 0 & - s^{2}_{m p=0} & - s^{2}_{m p=1} & 0 & 0 & 1 & 0\\\\0 & 0 & 0 & 0 & 0 & 0 & 0 & 0 & 0 & 0 & 0 & 0 & 0 & 0 & - s^{2}_{m p=0} & - s^{2}_{m p=1} & 0 & 1\\end{array}\\right]$$"
       ],
       "metadata": {},
       "output_type": "pyout",
       "png": "[encoded data removed]",
       "prompt_number": 21,
       "text": [
        "\u23a1-s_m_p=0__0  -s_m_p=1__0       0            0       1  0       0            0\n",
        "\u23a2                                                                             \n",
        "\u23a2     0            0       -s_m_p=0__0  -s_m_p=1__0  0  1       0            0\n",
        "\u23a2                                                                             \n",
        "\u23a2     0            0            0            0       0  0  -s_m_p=0__1  -s_m_p\n",
        "\u23a2                                                                             \n",
        "\u23a2     0            0            0            0       0  0       0            0\n",
        "\u23a2                                                                             \n",
        "\u23a2     0            0            0            0       0  0       0            0\n",
        "\u23a2                                                                             \n",
        "\u23a3     0            0            0            0       0  0       0            0\n",
        "\n",
        "            0            0       0  0       0            0            0       \n",
        "                                                                              \n",
        "            0            0       0  0       0            0            0       \n",
        "                                                                              \n",
        "=1__1       0            0       1  0       0            0            0       \n",
        "                                                                              \n",
        "       -s_m_p=0__1  -s_m_p=1__1  0  1       0            0            0       \n",
        "                                                                              \n",
        "            0            0       0  0  -s_m_p=0__2  -s_m_p=1__2       0       \n",
        "                                                                              \n",
        "            0            0       0  0       0            0       -s_m_p=0__2  \n",
        "\n",
        "     0       0  0\u23a4\n",
        "                 \u23a5\n",
        "     0       0  0\u23a5\n",
        "                 \u23a5\n",
        "     0       0  0\u23a5\n",
        "                 \u23a5\n",
        "     0       0  0\u23a5\n",
        "                 \u23a5\n",
        "     0       1  0\u23a5\n",
        "                 \u23a5\n",
        "-s_m_p=1__2  0  1\u23a6"
       ]
      }
     ],
     "prompt_number": 21
    },
    {
     "cell_type": "markdown",
     "metadata": {},
     "source": [
      "The control vector and the gain vector are simple column stacks:"
     ]
    },
    {
     "cell_type": "code",
     "collapsed": false,
     "input": [
      "bm = control_vectors[0]\n",
      "for control in control_vectors[1:]:\n",
      "    bm = bm.col_join(control)\n",
      "bm"
     ],
     "language": "python",
     "metadata": {},
     "outputs": [
      {
       "latex": [
        "$$\\left[\\begin{matrix}m^{0}_{m q=0}\\\\m^{0}_{m q=1}\\\\m^{1}_{m q=0}\\\\m^{1}_{m q=1}\\\\m^{2}_{m q=0}\\\\m^{2}_{m q=1}\\end{matrix}\\right]$$"
       ],
       "metadata": {},
       "output_type": "pyout",
       "png": "[encoded data removed]",
       "prompt_number": 22,
       "text": [
        "\u23a1m_m_q=0__0\u23a4\n",
        "\u23a2          \u23a5\n",
        "\u23a2m_m_q=1__0\u23a5\n",
        "\u23a2          \u23a5\n",
        "\u23a2m_m_q=0__1\u23a5\n",
        "\u23a2          \u23a5\n",
        "\u23a2m_m_q=1__1\u23a5\n",
        "\u23a2          \u23a5\n",
        "\u23a2m_m_q=0__2\u23a5\n",
        "\u23a2          \u23a5\n",
        "\u23a3m_m_q=1__2\u23a6"
       ]
      }
     ],
     "prompt_number": 22
    },
    {
     "cell_type": "code",
     "collapsed": false,
     "input": [
      "xm = gain_matrices[0].reshape(q * p, 1).col_join(control_star_vectors[0])\n",
      "for gain, control_star in zip(gain_matrices[1:], control_star_vectors[1:]):\n",
      "    xm = xm.col_join(gain.reshape(q * p, 1)).col_join(control_star)\n",
      "xm"
     ],
     "language": "python",
     "metadata": {},
     "outputs": [
      {
       "latex": [
        "$$\\left[\\begin{matrix}k^{0}_{q=0,p=0}\\\\k^{0}_{q=0,p=1}\\\\k^{0}_{q=1,p=0}\\\\k^{0}_{q=1,p=1}\\\\m^{*0}_{q=0}\\\\m^{*0}_{q=1}\\\\k^{1}_{q=0,p=0}\\\\k^{1}_{q=0,p=1}\\\\k^{1}_{q=1,p=0}\\\\k^{1}_{q=1,p=1}\\\\m^{*1}_{q=0}\\\\m^{*1}_{q=1}\\\\k^{2}_{q=0,p=0}\\\\k^{2}_{q=0,p=1}\\\\k^{2}_{q=1,p=0}\\\\k^{2}_{q=1,p=1}\\\\m^{*2}_{q=0}\\\\m^{*2}_{q=1}\\end{matrix}\\right]$$"
       ],
       "metadata": {},
       "output_type": "pyout",
       "png": "[encoded data removed]",
       "prompt_number": 23,
       "text": [
        "\u23a1k_q=0,p=0__0\u23a4\n",
        "\u23a2            \u23a5\n",
        "\u23a2k_q=0,p=1__0\u23a5\n",
        "\u23a2            \u23a5\n",
        "\u23a2k_q=1,p=0__0\u23a5\n",
        "\u23a2            \u23a5\n",
        "\u23a2k_q=1,p=1__0\u23a5\n",
        "\u23a2            \u23a5\n",
        "\u23a2 m_q=0__*0  \u23a5\n",
        "\u23a2            \u23a5\n",
        "\u23a2 m_q=1__*0  \u23a5\n",
        "\u23a2            \u23a5\n",
        "\u23a2k_q=0,p=0__1\u23a5\n",
        "\u23a2            \u23a5\n",
        "\u23a2k_q=0,p=1__1\u23a5\n",
        "\u23a2            \u23a5\n",
        "\u23a2k_q=1,p=0__1\u23a5\n",
        "\u23a2            \u23a5\n",
        "\u23a2k_q=1,p=1__1\u23a5\n",
        "\u23a2            \u23a5\n",
        "\u23a2 m_q=0__*1  \u23a5\n",
        "\u23a2            \u23a5\n",
        "\u23a2 m_q=1__*1  \u23a5\n",
        "\u23a2            \u23a5\n",
        "\u23a2k_q=0,p=0__2\u23a5\n",
        "\u23a2            \u23a5\n",
        "\u23a2k_q=0,p=1__2\u23a5\n",
        "\u23a2            \u23a5\n",
        "\u23a2k_q=1,p=0__2\u23a5\n",
        "\u23a2            \u23a5\n",
        "\u23a2k_q=1,p=1__2\u23a5\n",
        "\u23a2            \u23a5\n",
        "\u23a2 m_q=0__*2  \u23a5\n",
        "\u23a2            \u23a5\n",
        "\u23a3 m_q=1__*2  \u23a6"
       ]
      }
     ],
     "prompt_number": 23
    },
    {
     "cell_type": "markdown",
     "metadata": {},
     "source": [
      "Now the original equations can be regenerated with:"
     ]
    },
    {
     "cell_type": "code",
     "collapsed": false,
     "input": [
      "Am * xm - bm"
     ],
     "language": "python",
     "metadata": {},
     "outputs": [
      {
       "latex": [
        "$$\\left[\\begin{matrix}- k^{0}_{q=0,p=0} s^{0}_{m p=0} - k^{0}_{q=0,p=1} s^{0}_{m p=1} + m^{*0}_{q=0} - m^{0}_{m q=0}\\\\- k^{0}_{q=1,p=0} s^{0}_{m p=0} - k^{0}_{q=1,p=1} s^{0}_{m p=1} + m^{*0}_{q=1} - m^{0}_{m q=1}\\\\- k^{1}_{q=0,p=0} s^{1}_{m p=0} - k^{1}_{q=0,p=1} s^{1}_{m p=1} + m^{*1}_{q=0} - m^{1}_{m q=0}\\\\- k^{1}_{q=1,p=0} s^{1}_{m p=0} - k^{1}_{q=1,p=1} s^{1}_{m p=1} + m^{*1}_{q=1} - m^{1}_{m q=1}\\\\- k^{2}_{q=0,p=0} s^{2}_{m p=0} - k^{2}_{q=0,p=1} s^{2}_{m p=1} + m^{*2}_{q=0} - m^{2}_{m q=0}\\\\- k^{2}_{q=1,p=0} s^{2}_{m p=0} - k^{2}_{q=1,p=1} s^{2}_{m p=1} + m^{*2}_{q=1} - m^{2}_{m q=1}\\end{matrix}\\right]$$"
       ],
       "metadata": {},
       "output_type": "pyout",
       "png": "[encoded data removed]",
       "prompt_number": 24,
       "text": [
        "\u23a1-k_q=0,p=0__0\u22c5s_m_p=0__0 - k_q=0,p=1__0\u22c5s_m_p=1__0 + m_q=0__*0 - m_m_q=0__0\u23a4\n",
        "\u23a2                                                                           \u23a5\n",
        "\u23a2-k_q=1,p=0__0\u22c5s_m_p=0__0 - k_q=1,p=1__0\u22c5s_m_p=1__0 + m_q=1__*0 - m_m_q=1__0\u23a5\n",
        "\u23a2                                                                           \u23a5\n",
        "\u23a2-k_q=0,p=0__1\u22c5s_m_p=0__1 - k_q=0,p=1__1\u22c5s_m_p=1__1 + m_q=0__*1 - m_m_q=0__1\u23a5\n",
        "\u23a2                                                                           \u23a5\n",
        "\u23a2-k_q=1,p=0__1\u22c5s_m_p=0__1 - k_q=1,p=1__1\u22c5s_m_p=1__1 + m_q=1__*1 - m_m_q=1__1\u23a5\n",
        "\u23a2                                                                           \u23a5\n",
        "\u23a2-k_q=0,p=0__2\u22c5s_m_p=0__2 - k_q=0,p=1__2\u22c5s_m_p=1__2 + m_q=0__*2 - m_m_q=0__2\u23a5\n",
        "\u23a2                                                                           \u23a5\n",
        "\u23a3-k_q=1,p=0__2\u22c5s_m_p=0__2 - k_q=1,p=1__2\u22c5s_m_p=1__2 + m_q=1__*2 - m_m_q=1__2\u23a6"
       ]
      }
     ],
     "prompt_number": 24
    },
    {
     "cell_type": "markdown",
     "metadata": {},
     "source": [
      "We have $n(p q + q)$ unknowns and $nq$ equations so we need at least $1 + p$ cycles to solve for the unknowns."
     ]
    },
    {
     "cell_type": "code",
     "collapsed": false,
     "input": [
      "n * (p*q + q)"
     ],
     "language": "python",
     "metadata": {},
     "outputs": [
      {
       "latex": [
        "$$18$$"
       ],
       "metadata": {},
       "output_type": "pyout",
       "png": "[encoded data removed]",
       "prompt_number": 25,
       "text": [
        "18"
       ]
      }
     ],
     "prompt_number": 25
    },
    {
     "cell_type": "code",
     "collapsed": false,
     "input": [
      "1 + p"
     ],
     "language": "python",
     "metadata": {},
     "outputs": [
      {
       "latex": [
        "$$3$$"
       ],
       "metadata": {},
       "output_type": "pyout",
       "png": "[encoded data removed]",
       "prompt_number": 26,
       "text": [
        "3"
       ]
      }
     ],
     "prompt_number": 26
    },
    {
     "cell_type": "code",
     "collapsed": false,
     "input": [
      "Am.shape, bm.shape"
     ],
     "language": "python",
     "metadata": {},
     "outputs": [
      {
       "latex": [
        "$$\\left ( \\left ( 6, \\quad 18\\right ), \\quad \\left ( 6, \\quad 1\\right )\\right )$$"
       ],
       "metadata": {},
       "output_type": "pyout",
       "png": "[encoded data removed]",
       "prompt_number": 27,
       "text": [
        "((6, 18), (6, 1))"
       ]
      }
     ],
     "prompt_number": 27
    },
    {
     "cell_type": "code",
     "collapsed": false,
     "input": [
      "b = bm\n",
      "A = Am\n",
      "for step in range(p):\n",
      "    b = b.col_join(bm)\n",
      "    A = A.col_join(Am)"
     ],
     "language": "python",
     "metadata": {},
     "outputs": [],
     "prompt_number": 28
    },
    {
     "cell_type": "code",
     "collapsed": false,
     "input": [
      "A.shape, b.shape"
     ],
     "language": "python",
     "metadata": {},
     "outputs": [
      {
       "latex": [
        "$$\\left ( \\left ( 18, \\quad 18\\right ), \\quad \\left ( 18, \\quad 1\\right )\\right )$$"
       ],
       "metadata": {},
       "output_type": "pyout",
       "png": "[encoded data removed]",
       "prompt_number": 29,
       "text": [
        "((18, 18), (18, 1))"
       ]
      }
     ],
     "prompt_number": 29
    },
    {
     "cell_type": "markdown",
     "metadata": {},
     "source": [
      "The following should compute the least squares solution but since I didn't actually create new equations for the steps, then you get NaN as a solution."
     ]
    },
    {
     "cell_type": "code",
     "collapsed": false,
     "input": [
      "x = A.LDLsolve(b)\n",
      "x"
     ],
     "language": "python",
     "metadata": {},
     "outputs": [
      {
       "latex": [
        "$$\\left[\\begin{matrix}\\mathrm{NaN}\\\\\\mathrm{NaN}\\\\\\mathrm{NaN}\\\\\\mathrm{NaN}\\\\\\mathrm{NaN}\\\\\\mathrm{NaN}\\\\\\mathrm{NaN}\\\\\\mathrm{NaN}\\\\\\mathrm{NaN}\\\\\\mathrm{NaN}\\\\\\mathrm{NaN}\\\\\\mathrm{NaN}\\\\\\mathrm{NaN}\\\\\\mathrm{NaN}\\\\\\mathrm{NaN}\\\\\\mathrm{NaN}\\\\\\mathrm{NaN}\\\\\\mathrm{NaN}\\end{matrix}\\right]$$"
       ],
       "metadata": {},
       "output_type": "pyout",
       "png": "[encoded data removed]",
       "prompt_number": 30,
       "text": [
        "\u23a1nan\u23a4\n",
        "\u23a2   \u23a5\n",
        "\u23a2nan\u23a5\n",
        "\u23a2   \u23a5\n",
        "\u23a2nan\u23a5\n",
        "\u23a2   \u23a5\n",
        "\u23a2nan\u23a5\n",
        "\u23a2   \u23a5\n",
        "\u23a2nan\u23a5\n",
        "\u23a2   \u23a5\n",
        "\u23a2nan\u23a5\n",
        "\u23a2   \u23a5\n",
        "\u23a2nan\u23a5\n",
        "\u23a2   \u23a5\n",
        "\u23a2nan\u23a5\n",
        "\u23a2   \u23a5\n",
        "\u23a2nan\u23a5\n",
        "\u23a2   \u23a5\n",
        "\u23a2nan\u23a5\n",
        "\u23a2   \u23a5\n",
        "\u23a2nan\u23a5\n",
        "\u23a2   \u23a5\n",
        "\u23a2nan\u23a5\n",
        "\u23a2   \u23a5\n",
        "\u23a2nan\u23a5\n",
        "\u23a2   \u23a5\n",
        "\u23a2nan\u23a5\n",
        "\u23a2   \u23a5\n",
        "\u23a2nan\u23a5\n",
        "\u23a2   \u23a5\n",
        "\u23a2nan\u23a5\n",
        "\u23a2   \u23a5\n",
        "\u23a2nan\u23a5\n",
        "\u23a2   \u23a5\n",
        "\u23a3nan\u23a6"
       ]
      }
     ],
     "prompt_number": 30
    },
    {
     "cell_type": "code",
     "collapsed": false,
     "input": [
      "type(x[0])"
     ],
     "language": "python",
     "metadata": {},
     "outputs": [
      {
       "metadata": {},
       "output_type": "pyout",
       "prompt_number": 31,
       "text": [
        "sympy.core.numbers.NaN"
       ]
      }
     ],
     "prompt_number": 31
    }
   ],
   "metadata": {}
  }
 ]
}