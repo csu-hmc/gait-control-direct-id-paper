{
 "metadata": {
  "name": ""
 },
 "nbformat": 3,
 "nbformat_minor": 0,
 "worksheets": [
  {
   "cells": [
    {
     "cell_type": "heading",
     "level": 1,
     "metadata": {},
     "source": [
      "Introduction"
     ]
    },
    {
     "cell_type": "markdown",
     "metadata": {},
     "source": [
      "A look at unloaded and loaded belt speeds."
     ]
    },
    {
     "cell_type": "heading",
     "level": 1,
     "metadata": {},
     "source": [
      "Imports"
     ]
    },
    {
     "cell_type": "code",
     "collapsed": false,
     "input": [
      "import sys\n",
      "sys.path.append('..')\n",
      "from src import utils"
     ],
     "language": "python",
     "metadata": {},
     "outputs": [],
     "prompt_number": 1
    },
    {
     "cell_type": "code",
     "collapsed": false,
     "input": [
      "import os\n",
      "import operator\n",
      "\n",
      "import numpy as np\n",
      "import pandas\n",
      "import matplotlib.pyplot as plt\n",
      "from gaitanalysis import motek"
     ],
     "language": "python",
     "metadata": {},
     "outputs": [],
     "prompt_number": 2
    },
    {
     "cell_type": "code",
     "collapsed": false,
     "input": [
      "%matplotlib inline"
     ],
     "language": "python",
     "metadata": {},
     "outputs": [],
     "prompt_number": 3
    },
    {
     "cell_type": "code",
     "collapsed": false,
     "input": [
      "from IPython.core.pylabtools import figsize"
     ],
     "language": "python",
     "metadata": {},
     "outputs": [],
     "prompt_number": 4
    },
    {
     "cell_type": "heading",
     "level": 1,
     "metadata": {},
     "source": [
      "Load and Process Data"
     ]
    },
    {
     "cell_type": "markdown",
     "metadata": {},
     "source": [
      "Load the path to the directory with the experimental data."
     ]
    },
    {
     "cell_type": "code",
     "collapsed": false,
     "input": [
      "trials_dir = utils.trial_data_dir()"
     ],
     "language": "python",
     "metadata": {},
     "outputs": [
      {
       "output_type": "stream",
       "stream": "stdout",
       "text": [
        "Trials data directory is set to /home/moorepants/Data/human-gait/gait-control-identification\n"
       ]
      }
     ],
     "prompt_number": 5
    },
    {
     "cell_type": "code",
     "collapsed": false,
     "input": [
      "trial_meta_df = utils.generate_meta_data_table(trials_dir)"
     ],
     "language": "python",
     "metadata": {},
     "outputs": [],
     "prompt_number": 6
    },
    {
     "cell_type": "markdown",
     "metadata": {},
     "source": [
      "Make a list of all the compensation trials."
     ]
    },
    {
     "cell_type": "code",
     "collapsed": false,
     "input": [
      "trial_meta_df[trial_meta_df['subject-id'] == 0]"
     ],
     "language": "python",
     "metadata": {},
     "outputs": [
      {
       "html": [
        "<div style=\"max-height:1000px;max-width:1500px;overflow:auto;\">\n",
        "<table border=\"1\" class=\"dataframe\">\n",
        "  <thead>\n",
        "    <tr style=\"text-align: right;\">\n",
        "      <th></th>\n",
        "      <th>datetime</th>\n",
        "      <th>id</th>\n",
        "      <th>nominal-speed</th>\n",
        "      <th>notes</th>\n",
        "      <th>subject-id</th>\n",
        "    </tr>\n",
        "  </thead>\n",
        "  <tbody>\n",
        "    <tr>\n",
        "      <th>1 </th>\n",
        "      <td> 2014-05-08</td>\n",
        "      <td> 71</td>\n",
        "      <td> 1.2</td>\n",
        "      <td> This is an unloaded trial (no subject) 10 minu...</td>\n",
        "      <td> 0</td>\n",
        "    </tr>\n",
        "    <tr>\n",
        "      <th>3 </th>\n",
        "      <td> 2014-03-28</td>\n",
        "      <td> 59</td>\n",
        "      <td> 1.2</td>\n",
        "      <td> This is an unloaded trial (no subject) 10 minu...</td>\n",
        "      <td> 0</td>\n",
        "    </tr>\n",
        "    <tr>\n",
        "      <th>9 </th>\n",
        "      <td> 2014-03-21</td>\n",
        "      <td> 44</td>\n",
        "      <td> 1.2</td>\n",
        "      <td> This is an unloaded trial (no subject) 10 minu...</td>\n",
        "      <td> 0</td>\n",
        "    </tr>\n",
        "    <tr>\n",
        "      <th>11</th>\n",
        "      <td> 2014-02-27</td>\n",
        "      <td> 34</td>\n",
        "      <td> 0.8</td>\n",
        "      <td> This is an unloaded trial (no subject) 10 minu...</td>\n",
        "      <td> 0</td>\n",
        "    </tr>\n",
        "    <tr>\n",
        "      <th>12</th>\n",
        "      <td> 2014-03-27</td>\n",
        "      <td> 52</td>\n",
        "      <td> 0.8</td>\n",
        "      <td> This is an unloaded trial (no subject) 10 minu...</td>\n",
        "      <td> 0</td>\n",
        "    </tr>\n",
        "    <tr>\n",
        "      <th>15</th>\n",
        "      <td> 2014-02-25</td>\n",
        "      <td> 28</td>\n",
        "      <td> 1.6</td>\n",
        "      <td> This is an unloaded trial (no subject) 10 minu...</td>\n",
        "      <td> 0</td>\n",
        "    </tr>\n",
        "    <tr>\n",
        "      <th>17</th>\n",
        "      <td> 2014-02-27</td>\n",
        "      <td> 36</td>\n",
        "      <td> 1.6</td>\n",
        "      <td> This is an unloaded trial (no subject) 10 minu...</td>\n",
        "      <td> 0</td>\n",
        "    </tr>\n",
        "    <tr>\n",
        "      <th>18</th>\n",
        "      <td> 2014-03-28</td>\n",
        "      <td> 58</td>\n",
        "      <td> 0.8</td>\n",
        "      <td> This is an unloaded trial (no subject) 10 minu...</td>\n",
        "      <td> 0</td>\n",
        "    </tr>\n",
        "    <tr>\n",
        "      <th>19</th>\n",
        "      <td> 2013-10-22</td>\n",
        "      <td>  3</td>\n",
        "      <td> 1.2</td>\n",
        "      <td> This is an unloaded trial (no subject) of the ...</td>\n",
        "      <td> 0</td>\n",
        "    </tr>\n",
        "    <tr>\n",
        "      <th>30</th>\n",
        "      <td> 2014-02-21</td>\n",
        "      <td> 24</td>\n",
        "      <td> 1.6</td>\n",
        "      <td> This is an unloaded trial (no subject) 10 minu...</td>\n",
        "      <td> 0</td>\n",
        "    </tr>\n",
        "    <tr>\n",
        "      <th>31</th>\n",
        "      <td> 2014-02-25</td>\n",
        "      <td> 29</td>\n",
        "      <td> 1.2</td>\n",
        "      <td> This is an unloaded trial (no subject) 10 minu...</td>\n",
        "      <td> 0</td>\n",
        "    </tr>\n",
        "    <tr>\n",
        "      <th>32</th>\n",
        "      <td> 2014-02-27</td>\n",
        "      <td> 35</td>\n",
        "      <td> 1.2</td>\n",
        "      <td> This is an unloaded trial (no subject) 10 minu...</td>\n",
        "      <td> 0</td>\n",
        "    </tr>\n",
        "    <tr>\n",
        "      <th>34</th>\n",
        "      <td> 2013-10-22</td>\n",
        "      <td>  4</td>\n",
        "      <td> 1.2</td>\n",
        "      <td> This is an unloaded trial (no subject) of the ...</td>\n",
        "      <td> 0</td>\n",
        "    </tr>\n",
        "    <tr>\n",
        "      <th>36</th>\n",
        "      <td> 2014-04-02</td>\n",
        "      <td> 64</td>\n",
        "      <td> 0.8</td>\n",
        "      <td> This is an unloaded trial (no subject) 10 minu...</td>\n",
        "      <td> 0</td>\n",
        "    </tr>\n",
        "    <tr>\n",
        "      <th>41</th>\n",
        "      <td> 2014-03-21</td>\n",
        "      <td> 43</td>\n",
        "      <td> 0.8</td>\n",
        "      <td> This is an unloaded trial (no subject) 10 minu...</td>\n",
        "      <td> 0</td>\n",
        "    </tr>\n",
        "    <tr>\n",
        "      <th>43</th>\n",
        "      <td> 2013-10-22</td>\n",
        "      <td>  5</td>\n",
        "      <td> 1.2</td>\n",
        "      <td> This is an unloaded trial (no subject) of the ...</td>\n",
        "      <td> 0</td>\n",
        "    </tr>\n",
        "    <tr>\n",
        "      <th>48</th>\n",
        "      <td> 2014-02-25</td>\n",
        "      <td> 30</td>\n",
        "      <td> 0.8</td>\n",
        "      <td> This is an unloaded trial (no subject) 10 minu...</td>\n",
        "      <td> 0</td>\n",
        "    </tr>\n",
        "    <tr>\n",
        "      <th>49</th>\n",
        "      <td> 2014-05-08</td>\n",
        "      <td> 70</td>\n",
        "      <td> 0.8</td>\n",
        "      <td> This is an unloaded trial (no subject) 10 minu...</td>\n",
        "      <td> 0</td>\n",
        "    </tr>\n",
        "    <tr>\n",
        "      <th>50</th>\n",
        "      <td> 2014-03-21</td>\n",
        "      <td> 45</td>\n",
        "      <td> 1.6</td>\n",
        "      <td> This is an unloaded trial (no subject) 10 minu...</td>\n",
        "      <td> 0</td>\n",
        "    </tr>\n",
        "    <tr>\n",
        "      <th>52</th>\n",
        "      <td> 2014-05-08</td>\n",
        "      <td> 72</td>\n",
        "      <td> 1.6</td>\n",
        "      <td> This is an unloaded trial (no subject) 10 minu...</td>\n",
        "      <td> 0</td>\n",
        "    </tr>\n",
        "    <tr>\n",
        "      <th>55</th>\n",
        "      <td> 2014-03-27</td>\n",
        "      <td> 54</td>\n",
        "      <td> 1.6</td>\n",
        "      <td> This is an unloaded trial (no subject) 10 minu...</td>\n",
        "      <td> 0</td>\n",
        "    </tr>\n",
        "    <tr>\n",
        "      <th>58</th>\n",
        "      <td> 2014-03-28</td>\n",
        "      <td> 60</td>\n",
        "      <td> 1.6</td>\n",
        "      <td> This is an unloaded trial (no subject) 10 minu...</td>\n",
        "      <td> 0</td>\n",
        "    </tr>\n",
        "    <tr>\n",
        "      <th>60</th>\n",
        "      <td> 2014-04-02</td>\n",
        "      <td> 65</td>\n",
        "      <td> 1.2</td>\n",
        "      <td> This is an unloaded trial (no subject) 10 minu...</td>\n",
        "      <td> 0</td>\n",
        "    </tr>\n",
        "    <tr>\n",
        "      <th>63</th>\n",
        "      <td> 2014-02-21</td>\n",
        "      <td> 22</td>\n",
        "      <td> 0.8</td>\n",
        "      <td> This is an unloaded trial (no subject) 10 minu...</td>\n",
        "      <td> 0</td>\n",
        "    </tr>\n",
        "    <tr>\n",
        "      <th>65</th>\n",
        "      <td> 2014-03-27</td>\n",
        "      <td> 53</td>\n",
        "      <td> 1.2</td>\n",
        "      <td> This is an unloaded trial (no subject) 10 minu...</td>\n",
        "      <td> 0</td>\n",
        "    </tr>\n",
        "    <tr>\n",
        "      <th>67</th>\n",
        "      <td> 2014-02-21</td>\n",
        "      <td> 23</td>\n",
        "      <td> 1.2</td>\n",
        "      <td> This is an unloaded trial (no subject) 10 minu...</td>\n",
        "      <td> 0</td>\n",
        "    </tr>\n",
        "    <tr>\n",
        "      <th>70</th>\n",
        "      <td> 2014-04-02</td>\n",
        "      <td> 66</td>\n",
        "      <td> 1.6</td>\n",
        "      <td> This is an unloaded trial (no subject) 10 minu...</td>\n",
        "      <td> 0</td>\n",
        "    </tr>\n",
        "  </tbody>\n",
        "</table>\n",
        "</div>"
       ],
       "metadata": {},
       "output_type": "pyout",
       "prompt_number": 7,
       "text": [
        "      datetime  id  nominal-speed  \\\n",
        "1   2014-05-08  71            1.2   \n",
        "3   2014-03-28  59            1.2   \n",
        "9   2014-03-21  44            1.2   \n",
        "11  2014-02-27  34            0.8   \n",
        "12  2014-03-27  52            0.8   \n",
        "15  2014-02-25  28            1.6   \n",
        "17  2014-02-27  36            1.6   \n",
        "18  2014-03-28  58            0.8   \n",
        "19  2013-10-22   3            1.2   \n",
        "30  2014-02-21  24            1.6   \n",
        "31  2014-02-25  29            1.2   \n",
        "32  2014-02-27  35            1.2   \n",
        "34  2013-10-22   4            1.2   \n",
        "36  2014-04-02  64            0.8   \n",
        "41  2014-03-21  43            0.8   \n",
        "43  2013-10-22   5            1.2   \n",
        "48  2014-02-25  30            0.8   \n",
        "49  2014-05-08  70            0.8   \n",
        "50  2014-03-21  45            1.6   \n",
        "52  2014-05-08  72            1.6   \n",
        "55  2014-03-27  54            1.6   \n",
        "58  2014-03-28  60            1.6   \n",
        "60  2014-04-02  65            1.2   \n",
        "63  2014-02-21  22            0.8   \n",
        "65  2014-03-27  53            1.2   \n",
        "67  2014-02-21  23            1.2   \n",
        "70  2014-04-02  66            1.6   \n",
        "\n",
        "                                                notes  subject-id  \n",
        "1   This is an unloaded trial (no subject) 10 minu...           0  \n",
        "3   This is an unloaded trial (no subject) 10 minu...           0  \n",
        "9   This is an unloaded trial (no subject) 10 minu...           0  \n",
        "11  This is an unloaded trial (no subject) 10 minu...           0  \n",
        "12  This is an unloaded trial (no subject) 10 minu...           0  \n",
        "15  This is an unloaded trial (no subject) 10 minu...           0  \n",
        "17  This is an unloaded trial (no subject) 10 minu...           0  \n",
        "18  This is an unloaded trial (no subject) 10 minu...           0  \n",
        "19  This is an unloaded trial (no subject) of the ...           0  \n",
        "30  This is an unloaded trial (no subject) 10 minu...           0  \n",
        "31  This is an unloaded trial (no subject) 10 minu...           0  \n",
        "32  This is an unloaded trial (no subject) 10 minu...           0  \n",
        "34  This is an unloaded trial (no subject) of the ...           0  \n",
        "36  This is an unloaded trial (no subject) 10 minu...           0  \n",
        "41  This is an unloaded trial (no subject) 10 minu...           0  \n",
        "43  This is an unloaded trial (no subject) of the ...           0  \n",
        "48  This is an unloaded trial (no subject) 10 minu...           0  \n",
        "49  This is an unloaded trial (no subject) 10 minu...           0  \n",
        "50  This is an unloaded trial (no subject) 10 minu...           0  \n",
        "52  This is an unloaded trial (no subject) 10 minu...           0  \n",
        "55  This is an unloaded trial (no subject) 10 minu...           0  \n",
        "58  This is an unloaded trial (no subject) 10 minu...           0  \n",
        "60  This is an unloaded trial (no subject) 10 minu...           0  \n",
        "63  This is an unloaded trial (no subject) 10 minu...           0  \n",
        "65  This is an unloaded trial (no subject) 10 minu...           0  \n",
        "67  This is an unloaded trial (no subject) 10 minu...           0  \n",
        "70  This is an unloaded trial (no subject) 10 minu...           0  "
       ]
      }
     ],
     "prompt_number": 7
    },
    {
     "cell_type": "code",
     "collapsed": false,
     "input": [
      "same_speed_trials = trial_meta_df[(trial_meta_df['subject-id'] == 0) &\n",
      "                                  (trial_meta_df['nominal-speed'] == 1.2)]['id'].values"
     ],
     "language": "python",
     "metadata": {},
     "outputs": [],
     "prompt_number": 8
    },
    {
     "cell_type": "code",
     "collapsed": false,
     "input": [
      "for trial_id in same_speed_trials:\n",
      "    file_paths = utils.trial_file_paths(trials_dir, '{0:0>3}'.format(trial_id))\n",
      "    dat = motek.DFlowData(*file_paths)\n",
      "    try:\n",
      "        record = dat._load_record_data()\n",
      "    except IOError:\n",
      "        print('{} skipped'.format(trial_id))\n",
      "    else:\n",
      "        plt.plot(record['RightBeltSpeed'])\n",
      "plt.xlim((50000, 51000))\n",
      "plt.ylim((0.8, 1.6))"
     ],
     "language": "python",
     "metadata": {},
     "outputs": [
      {
       "output_type": "stream",
       "stream": "stdout",
       "text": [
        "3 skipped\n",
        "4 skipped"
       ]
      },
      {
       "output_type": "stream",
       "stream": "stdout",
       "text": [
        "\n",
        "5 skipped\n"
       ]
      },
      {
       "metadata": {},
       "output_type": "pyout",
       "prompt_number": 11,
       "text": [
        "(0.8, 1.6)"
       ]
      },
      {
       "metadata": {},
       "output_type": "display_data",
       "png": "[encoded data removed]",
       "text": [
        "<matplotlib.figure.Figure at 0x6ffaf50>"
       ]
      }
     ],
     "prompt_number": 11
    },
    {
     "cell_type": "heading",
     "level": 1,
     "metadata": {},
     "source": [
      "Footer"
     ]
    },
    {
     "cell_type": "code",
     "collapsed": false,
     "input": [
      "!git rev-parse HEAD"
     ],
     "language": "python",
     "metadata": {},
     "outputs": [
      {
       "output_type": "stream",
       "stream": "stdout",
       "text": [
        "2bbb5a3aeb6ad39b47d7d31fbc297f61efe71db6\r\n"
       ]
      }
     ],
     "prompt_number": 23
    },
    {
     "cell_type": "code",
     "collapsed": false,
     "input": [
      "!git --git-dir=/home/moorepants/src/Gait-Analysis-Toolkit/.git --work-tree=/home/moorepants/src/Gait-Analysis-Toolkit rev-parse HEAD"
     ],
     "language": "python",
     "metadata": {},
     "outputs": [
      {
       "output_type": "stream",
       "stream": "stdout",
       "text": [
        "7ba15ecee76507202d3a65ef0df652de4624e31e\r\n"
       ]
      }
     ],
     "prompt_number": 24
    },
    {
     "cell_type": "code",
     "collapsed": false,
     "input": [
      "%install_ext http://raw.github.com/jrjohansson/version_information/master/version_information.py"
     ],
     "language": "python",
     "metadata": {},
     "outputs": [
      {
       "output_type": "stream",
       "stream": "stdout",
       "text": [
        "Installed version_information.py. To use it, type:\n",
        "  %load_ext version_information\n"
       ]
      }
     ],
     "prompt_number": 25
    },
    {
     "cell_type": "code",
     "collapsed": false,
     "input": [
      "%load_ext version_information"
     ],
     "language": "python",
     "metadata": {},
     "outputs": [],
     "prompt_number": 26
    },
    {
     "cell_type": "code",
     "collapsed": false,
     "input": [
      "%version_information gaitanalysis, numpy, scipy, pandas, matplotlib, oct2py"
     ],
     "language": "python",
     "metadata": {},
     "outputs": [
      {
       "html": [
        "<table><tr><th>Software</th><th>Version</th></tr><tr><td>Python</td><td>2.7.5+ (default, Sep 19 2013, 13:48:49) [GCC 4.8.1]</td></tr><tr><td>IPython</td><td>1.1.0</td></tr><tr><td>OS</td><td>posix [linux2]</td></tr><tr><td>gaitanalysis</td><td>0.1.0dev</td></tr><tr><td>numpy</td><td>1.8.0</td></tr><tr><td>scipy</td><td>0.13.2</td></tr><tr><td>pandas</td><td>0.12.0</td></tr><tr><td>matplotlib</td><td>1.3.1</td></tr><tr><td>oct2py</td><td>1.2.0</td></tr><tr><td colspan='2'>Thu Apr 03 15:55:32 2014 EDT</td></tr></table>"
       ],
       "json": [
        "{\"Software versions\": [{\"version\": \"2.7.5+ (default, Sep 19 2013, 13:48:49) [GCC 4.8.1]\", \"module\": \"Python\"}, {\"version\": \"1.1.0\", \"module\": \"IPython\"}, {\"version\": \"posix [linux2]\", \"module\": \"OS\"}, {\"version\": \"0.1.0dev\", \"module\": \"gaitanalysis\"}, {\"version\": \"1.8.0\", \"module\": \"numpy\"}, {\"version\": \"0.13.2\", \"module\": \"scipy\"}, {\"version\": \"0.12.0\", \"module\": \"pandas\"}, {\"version\": \"1.3.1\", \"module\": \"matplotlib\"}, {\"version\": \"1.2.0\", \"module\": \"oct2py\"}]}"
       ],
       "latex": [
        "\\begin{tabular}{|l|l|}\\hline\n",
        "{\\bf Software} & {\\bf Version} \\\\ \\hline\\hline\n",
        "Python & 2.7.5+ (default, Sep 19 2013, 13:48:49) [GCC 4.8.1] \\\\ \\hline\n",
        "IPython & 1.1.0 \\\\ \\hline\n",
        "OS & posix [linux2] \\\\ \\hline\n",
        "gaitanalysis & 0.1.0dev \\\\ \\hline\n",
        "numpy & 1.8.0 \\\\ \\hline\n",
        "scipy & 0.13.2 \\\\ \\hline\n",
        "pandas & 0.12.0 \\\\ \\hline\n",
        "matplotlib & 1.3.1 \\\\ \\hline\n",
        "oct2py & 1.2.0 \\\\ \\hline\n",
        "\\hline \\multicolumn{2}{|l|}{Thu Apr 03 15:55:32 2014 EDT} \\\\ \\hline\n",
        "\\end{tabular}\n"
       ],
       "metadata": {},
       "output_type": "pyout",
       "prompt_number": 27,
       "text": [
        "Software versions\n",
        "Python 2.7.5+ (default, Sep 19 2013, 13:48:49) [GCC 4.8.1]\n",
        "IPython 1.1.0\n",
        "OS posix [linux2]\n",
        "gaitanalysis 0.1.0dev\n",
        "numpy 1.8.0\n",
        "scipy 0.13.2\n",
        "pandas 0.12.0\n",
        "matplotlib 1.3.1\n",
        "oct2py 1.2.0\n",
        "<tr><td colspan='2'>Thu Apr 03 15:55:32 2014 EDT</td></tr>"
       ]
      }
     ],
     "prompt_number": 27
    },
    {
     "cell_type": "code",
     "collapsed": false,
     "input": [
      "!pip freeze"
     ],
     "language": "python",
     "metadata": {},
     "outputs": [
      {
       "output_type": "stream",
       "stream": "stdout",
       "text": [
        "Cython==0.19.2\r\n",
        "DynamicistToolKit==0.3.2\r\n",
        "-e git+git@github.com:csu-hmc/Gait-Analysis-Toolkit.git@7ba15ecee76507202d3a65ef0df652de4624e31e#egg=Gait_Analysis_Toolkit-origin/radius-of-gyration\r\n",
        "Jinja2==2.7.1\r\n",
        "MarkupSafe==0.18\r\n",
        "PyYAML==3.10\r\n",
        "Pygments==1.6\r\n",
        "Sphinx==1.1.3\r\n",
        "Theano==0.6.0\r\n",
        "argparse==1.2.1\r\n",
        "backports.ssl-match-hostname==3.4.0.2\r\n",
        "coverage==3.7.1\r\n",
        "docutils==0.11\r\n",
        "ipython==1.1.0\r\n",
        "master-sake==0.7.7.4\r\n",
        "matplotlib==1.3.1\r\n",
        "networkx==1.8.1\r\n",
        "nose==1.3.0\r\n",
        "numexpr==2.2.2\r\n",
        "numpy==1.8.0\r\n",
        "numpydoc==0.4\r\n",
        "oct2py==1.2.0\r\n",
        "pandas==0.12.0\r\n",
        "plotly==0.5.4\r\n",
        "pyparsing==2.0.1\r\n",
        "python-dateutil==2.2\r\n",
        "pytz==2013.8\r\n",
        "pyzmq==14.0.1\r\n",
        "requests==2.0.1\r\n",
        "scipy==0.13.2\r\n",
        "six==1.5.2\r\n",
        "sympy==0.7.4.1\r\n",
        "tables==3.0.0\r\n",
        "tornado==3.2\r\n",
        "wsgiref==0.1.2\r\n"
       ]
      }
     ],
     "prompt_number": 28
    }
   ],
   "metadata": {}
  }
 ]
}