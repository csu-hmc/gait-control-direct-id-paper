{
 "metadata": {
  "name": "",
  "signature": "sha256:29bd2c15fad39156ddfa9aa1120b071f1cd2bbe7b52c39b3d5b8f9e24a83e8fe"
 },
 "nbformat": 3,
 "nbformat_minor": 0,
 "worksheets": [
  {
   "cells": [
    {
     "cell_type": "heading",
     "level": 1,
     "metadata": {},
     "source": [
      "Introduction"
     ]
    },
    {
     "cell_type": "markdown",
     "metadata": {},
     "source": [
      "A look at unloaded and loaded belt speeds."
     ]
    },
    {
     "cell_type": "heading",
     "level": 1,
     "metadata": {},
     "source": [
      "Imports"
     ]
    },
    {
     "cell_type": "code",
     "collapsed": false,
     "input": [
      "import sys\n",
      "sys.path.append('..')\n",
      "from src import utils"
     ],
     "language": "python",
     "metadata": {},
     "outputs": [],
     "prompt_number": 1
    },
    {
     "cell_type": "code",
     "collapsed": false,
     "input": [
      "import os\n",
      "import operator\n",
      "\n",
      "import numpy as np\n",
      "import pandas\n",
      "import matplotlib.pyplot as plt\n",
      "from gaitanalysis import motek"
     ],
     "language": "python",
     "metadata": {},
     "outputs": [],
     "prompt_number": 2
    },
    {
     "cell_type": "code",
     "collapsed": false,
     "input": [
      "%matplotlib inline"
     ],
     "language": "python",
     "metadata": {},
     "outputs": [],
     "prompt_number": 3
    },
    {
     "cell_type": "code",
     "collapsed": false,
     "input": [
      "from IPython.core.pylabtools import figsize"
     ],
     "language": "python",
     "metadata": {},
     "outputs": [],
     "prompt_number": 4
    },
    {
     "cell_type": "heading",
     "level": 1,
     "metadata": {},
     "source": [
      "Load and Process Data"
     ]
    },
    {
     "cell_type": "markdown",
     "metadata": {},
     "source": [
      "Load the path to the directory with the experimental data."
     ]
    },
    {
     "cell_type": "code",
     "collapsed": false,
     "input": [
      "trials_dir = utils.trial_data_dir()"
     ],
     "language": "python",
     "metadata": {},
     "outputs": [
      {
       "output_type": "stream",
       "stream": "stdout",
       "text": [
        "Trials data directory is set to /home/moorepants/Data/human-gait/gait-control-identification\n"
       ]
      }
     ],
     "prompt_number": 5
    },
    {
     "cell_type": "code",
     "collapsed": false,
     "input": [
      "trial_meta_df = utils.generate_meta_data_table(trials_dir)"
     ],
     "language": "python",
     "metadata": {},
     "outputs": [],
     "prompt_number": 6
    },
    {
     "cell_type": "markdown",
     "metadata": {},
     "source": [
      "Make a list of all the compensation trials."
     ]
    },
    {
     "cell_type": "code",
     "collapsed": false,
     "input": [
      "trial_meta_df[trial_meta_df['subject-id'] == 0]"
     ],
     "language": "python",
     "metadata": {},
     "outputs": [
      {
       "html": [
        "<div style=\"max-height:1000px;max-width:1500px;overflow:auto;\">\n",
        "<table border=\"1\" class=\"dataframe\">\n",
        "  <thead>\n",
        "    <tr style=\"text-align: right;\">\n",
        "      <th></th>\n",
        "      <th>datetime</th>\n",
        "      <th>id</th>\n",
        "      <th>nominal-speed</th>\n",
        "      <th>notes</th>\n",
        "      <th>subject-id</th>\n",
        "    </tr>\n",
        "  </thead>\n",
        "  <tbody>\n",
        "    <tr>\n",
        "      <th>1 </th>\n",
        "      <td> 2014-05-08</td>\n",
        "      <td> 71</td>\n",
        "      <td> 1.2</td>\n",
        "      <td> This is an unloaded trial (no subject) 10 minu...</td>\n",
        "      <td> 0</td>\n",
        "    </tr>\n",
        "    <tr>\n",
        "      <th>3 </th>\n",
        "      <td> 2014-03-28</td>\n",
        "      <td> 59</td>\n",
        "      <td> 1.2</td>\n",
        "      <td> This is an unloaded trial (no subject) 10 minu...</td>\n",
        "      <td> 0</td>\n",
        "    </tr>\n",
        "    <tr>\n",
        "      <th>4 </th>\n",
        "      <td> 2014-05-13</td>\n",
        "      <td> 79</td>\n",
        "      <td> 0.8</td>\n",
        "      <td> This is an unloaded trial (no subject) 10 minu...</td>\n",
        "      <td> 0</td>\n",
        "    </tr>\n",
        "    <tr>\n",
        "      <th>10</th>\n",
        "      <td> 2014-03-21</td>\n",
        "      <td> 44</td>\n",
        "      <td> 1.2</td>\n",
        "      <td> This is an unloaded trial (no subject) 10 minu...</td>\n",
        "      <td> 0</td>\n",
        "    </tr>\n",
        "    <tr>\n",
        "      <th>12</th>\n",
        "      <td> 2014-02-27</td>\n",
        "      <td> 34</td>\n",
        "      <td> 0.8</td>\n",
        "      <td> This is an unloaded trial (no subject) 10 minu...</td>\n",
        "      <td> 0</td>\n",
        "    </tr>\n",
        "    <tr>\n",
        "      <th>13</th>\n",
        "      <td> 2014-03-27</td>\n",
        "      <td> 52</td>\n",
        "      <td> 0.8</td>\n",
        "      <td> This is an unloaded trial (no subject) 10 minu...</td>\n",
        "      <td> 0</td>\n",
        "    </tr>\n",
        "    <tr>\n",
        "      <th>16</th>\n",
        "      <td> 2014-02-25</td>\n",
        "      <td> 28</td>\n",
        "      <td> 1.6</td>\n",
        "      <td> This is an unloaded trial (no subject) 10 minu...</td>\n",
        "      <td> 0</td>\n",
        "    </tr>\n",
        "    <tr>\n",
        "      <th>18</th>\n",
        "      <td> 2014-02-27</td>\n",
        "      <td> 36</td>\n",
        "      <td> 1.6</td>\n",
        "      <td> This is an unloaded trial (no subject) 10 minu...</td>\n",
        "      <td> 0</td>\n",
        "    </tr>\n",
        "    <tr>\n",
        "      <th>19</th>\n",
        "      <td> 2014-03-28</td>\n",
        "      <td> 58</td>\n",
        "      <td> 0.8</td>\n",
        "      <td> This is an unloaded trial (no subject) 10 minu...</td>\n",
        "      <td> 0</td>\n",
        "    </tr>\n",
        "    <tr>\n",
        "      <th>20</th>\n",
        "      <td> 2013-10-22</td>\n",
        "      <td>  3</td>\n",
        "      <td> 1.2</td>\n",
        "      <td> This is an unloaded trial (no subject) of the ...</td>\n",
        "      <td> 0</td>\n",
        "    </tr>\n",
        "    <tr>\n",
        "      <th>31</th>\n",
        "      <td> 2014-02-21</td>\n",
        "      <td> 24</td>\n",
        "      <td> 1.6</td>\n",
        "      <td> This is an unloaded trial (no subject) 10 minu...</td>\n",
        "      <td> 0</td>\n",
        "    </tr>\n",
        "    <tr>\n",
        "      <th>32</th>\n",
        "      <td> 2014-02-25</td>\n",
        "      <td> 29</td>\n",
        "      <td> 1.2</td>\n",
        "      <td> This is an unloaded trial (no subject) 10 minu...</td>\n",
        "      <td> 0</td>\n",
        "    </tr>\n",
        "    <tr>\n",
        "      <th>33</th>\n",
        "      <td> 2014-02-27</td>\n",
        "      <td> 35</td>\n",
        "      <td> 1.2</td>\n",
        "      <td> This is an unloaded trial (no subject) 10 minu...</td>\n",
        "      <td> 0</td>\n",
        "    </tr>\n",
        "    <tr>\n",
        "      <th>35</th>\n",
        "      <td> 2013-10-22</td>\n",
        "      <td>  4</td>\n",
        "      <td> 1.2</td>\n",
        "      <td> This is an unloaded trial (no subject) of the ...</td>\n",
        "      <td> 0</td>\n",
        "    </tr>\n",
        "    <tr>\n",
        "      <th>37</th>\n",
        "      <td> 2014-04-02</td>\n",
        "      <td> 64</td>\n",
        "      <td> 0.8</td>\n",
        "      <td> This is an unloaded trial (no subject) 10 minu...</td>\n",
        "      <td> 0</td>\n",
        "    </tr>\n",
        "    <tr>\n",
        "      <th>42</th>\n",
        "      <td> 2014-03-21</td>\n",
        "      <td> 43</td>\n",
        "      <td> 0.8</td>\n",
        "      <td> This is an unloaded trial (no subject) 10 minu...</td>\n",
        "      <td> 0</td>\n",
        "    </tr>\n",
        "    <tr>\n",
        "      <th>44</th>\n",
        "      <td> 2013-10-22</td>\n",
        "      <td>  5</td>\n",
        "      <td> 1.2</td>\n",
        "      <td> This is an unloaded trial (no subject) of the ...</td>\n",
        "      <td> 0</td>\n",
        "    </tr>\n",
        "    <tr>\n",
        "      <th>48</th>\n",
        "      <td> 2014-05-13</td>\n",
        "      <td> 80</td>\n",
        "      <td> 1.2</td>\n",
        "      <td> This is an unloaded trial (no subject) 10 minu...</td>\n",
        "      <td> 0</td>\n",
        "    </tr>\n",
        "    <tr>\n",
        "      <th>50</th>\n",
        "      <td> 2014-02-25</td>\n",
        "      <td> 30</td>\n",
        "      <td> 0.8</td>\n",
        "      <td> This is an unloaded trial (no subject) 10 minu...</td>\n",
        "      <td> 0</td>\n",
        "    </tr>\n",
        "    <tr>\n",
        "      <th>51</th>\n",
        "      <td> 2014-05-13</td>\n",
        "      <td> 81</td>\n",
        "      <td> 1.6</td>\n",
        "      <td> This is an unloaded trial (no subject) 10 minu...</td>\n",
        "      <td> 0</td>\n",
        "    </tr>\n",
        "    <tr>\n",
        "      <th>52</th>\n",
        "      <td> 2014-05-08</td>\n",
        "      <td> 70</td>\n",
        "      <td> 0.8</td>\n",
        "      <td> This is an unloaded trial (no subject) 10 minu...</td>\n",
        "      <td> 0</td>\n",
        "    </tr>\n",
        "    <tr>\n",
        "      <th>53</th>\n",
        "      <td> 2014-03-21</td>\n",
        "      <td> 45</td>\n",
        "      <td> 1.6</td>\n",
        "      <td> This is an unloaded trial (no subject) 10 minu...</td>\n",
        "      <td> 0</td>\n",
        "    </tr>\n",
        "    <tr>\n",
        "      <th>55</th>\n",
        "      <td> 2014-05-08</td>\n",
        "      <td> 72</td>\n",
        "      <td> 1.6</td>\n",
        "      <td> This is an unloaded trial (no subject) 10 minu...</td>\n",
        "      <td> 0</td>\n",
        "    </tr>\n",
        "    <tr>\n",
        "      <th>58</th>\n",
        "      <td> 2014-03-27</td>\n",
        "      <td> 54</td>\n",
        "      <td> 1.6</td>\n",
        "      <td> This is an unloaded trial (no subject) 10 minu...</td>\n",
        "      <td> 0</td>\n",
        "    </tr>\n",
        "    <tr>\n",
        "      <th>61</th>\n",
        "      <td> 2014-03-28</td>\n",
        "      <td> 60</td>\n",
        "      <td> 1.6</td>\n",
        "      <td> This is an unloaded trial (no subject) 10 minu...</td>\n",
        "      <td> 0</td>\n",
        "    </tr>\n",
        "    <tr>\n",
        "      <th>63</th>\n",
        "      <td> 2014-04-02</td>\n",
        "      <td> 65</td>\n",
        "      <td> 1.2</td>\n",
        "      <td> This is an unloaded trial (no subject) 10 minu...</td>\n",
        "      <td> 0</td>\n",
        "    </tr>\n",
        "    <tr>\n",
        "      <th>66</th>\n",
        "      <td> 2014-02-21</td>\n",
        "      <td> 22</td>\n",
        "      <td> 0.8</td>\n",
        "      <td> This is an unloaded trial (no subject) 10 minu...</td>\n",
        "      <td> 0</td>\n",
        "    </tr>\n",
        "    <tr>\n",
        "      <th>68</th>\n",
        "      <td> 2014-03-27</td>\n",
        "      <td> 53</td>\n",
        "      <td> 1.2</td>\n",
        "      <td> This is an unloaded trial (no subject) 10 minu...</td>\n",
        "      <td> 0</td>\n",
        "    </tr>\n",
        "    <tr>\n",
        "      <th>70</th>\n",
        "      <td> 2014-02-21</td>\n",
        "      <td> 23</td>\n",
        "      <td> 1.2</td>\n",
        "      <td> This is an unloaded trial (no subject) 10 minu...</td>\n",
        "      <td> 0</td>\n",
        "    </tr>\n",
        "    <tr>\n",
        "      <th>73</th>\n",
        "      <td> 2014-04-02</td>\n",
        "      <td> 66</td>\n",
        "      <td> 1.6</td>\n",
        "      <td> This is an unloaded trial (no subject) 10 minu...</td>\n",
        "      <td> 0</td>\n",
        "    </tr>\n",
        "  </tbody>\n",
        "</table>\n",
        "</div>"
       ],
       "metadata": {},
       "output_type": "pyout",
       "prompt_number": 7,
       "text": [
        "      datetime  id  nominal-speed  \\\n",
        "1   2014-05-08  71            1.2   \n",
        "3   2014-03-28  59            1.2   \n",
        "4   2014-05-13  79            0.8   \n",
        "10  2014-03-21  44            1.2   \n",
        "12  2014-02-27  34            0.8   \n",
        "13  2014-03-27  52            0.8   \n",
        "16  2014-02-25  28            1.6   \n",
        "18  2014-02-27  36            1.6   \n",
        "19  2014-03-28  58            0.8   \n",
        "20  2013-10-22   3            1.2   \n",
        "31  2014-02-21  24            1.6   \n",
        "32  2014-02-25  29            1.2   \n",
        "33  2014-02-27  35            1.2   \n",
        "35  2013-10-22   4            1.2   \n",
        "37  2014-04-02  64            0.8   \n",
        "42  2014-03-21  43            0.8   \n",
        "44  2013-10-22   5            1.2   \n",
        "48  2014-05-13  80            1.2   \n",
        "50  2014-02-25  30            0.8   \n",
        "51  2014-05-13  81            1.6   \n",
        "52  2014-05-08  70            0.8   \n",
        "53  2014-03-21  45            1.6   \n",
        "55  2014-05-08  72            1.6   \n",
        "58  2014-03-27  54            1.6   \n",
        "61  2014-03-28  60            1.6   \n",
        "63  2014-04-02  65            1.2   \n",
        "66  2014-02-21  22            0.8   \n",
        "68  2014-03-27  53            1.2   \n",
        "70  2014-02-21  23            1.2   \n",
        "73  2014-04-02  66            1.6   \n",
        "\n",
        "                                                notes  subject-id  \n",
        "1   This is an unloaded trial (no subject) 10 minu...           0  \n",
        "3   This is an unloaded trial (no subject) 10 minu...           0  \n",
        "4   This is an unloaded trial (no subject) 10 minu...           0  \n",
        "10  This is an unloaded trial (no subject) 10 minu...           0  \n",
        "12  This is an unloaded trial (no subject) 10 minu...           0  \n",
        "13  This is an unloaded trial (no subject) 10 minu...           0  \n",
        "16  This is an unloaded trial (no subject) 10 minu...           0  \n",
        "18  This is an unloaded trial (no subject) 10 minu...           0  \n",
        "19  This is an unloaded trial (no subject) 10 minu...           0  \n",
        "20  This is an unloaded trial (no subject) of the ...           0  \n",
        "31  This is an unloaded trial (no subject) 10 minu...           0  \n",
        "32  This is an unloaded trial (no subject) 10 minu...           0  \n",
        "33  This is an unloaded trial (no subject) 10 minu...           0  \n",
        "35  This is an unloaded trial (no subject) of the ...           0  \n",
        "37  This is an unloaded trial (no subject) 10 minu...           0  \n",
        "42  This is an unloaded trial (no subject) 10 minu...           0  \n",
        "44  This is an unloaded trial (no subject) of the ...           0  \n",
        "48  This is an unloaded trial (no subject) 10 minu...           0  \n",
        "50  This is an unloaded trial (no subject) 10 minu...           0  \n",
        "51  This is an unloaded trial (no subject) 10 minu...           0  \n",
        "52  This is an unloaded trial (no subject) 10 minu...           0  \n",
        "53  This is an unloaded trial (no subject) 10 minu...           0  \n",
        "55  This is an unloaded trial (no subject) 10 minu...           0  \n",
        "58  This is an unloaded trial (no subject) 10 minu...           0  \n",
        "61  This is an unloaded trial (no subject) 10 minu...           0  \n",
        "63  This is an unloaded trial (no subject) 10 minu...           0  \n",
        "66  This is an unloaded trial (no subject) 10 minu...           0  \n",
        "68  This is an unloaded trial (no subject) 10 minu...           0  \n",
        "70  This is an unloaded trial (no subject) 10 minu...           0  \n",
        "73  This is an unloaded trial (no subject) 10 minu...           0  "
       ]
      }
     ],
     "prompt_number": 7
    },
    {
     "cell_type": "code",
     "collapsed": false,
     "input": [
      "same_speed_trials = trial_meta_df[(trial_meta_df['subject-id'] == 0) &\n",
      "                                  (trial_meta_df['nominal-speed'] == 1.2)]['id'].values"
     ],
     "language": "python",
     "metadata": {},
     "outputs": [],
     "prompt_number": 8
    },
    {
     "cell_type": "code",
     "collapsed": false,
     "input": [
      "for trial_id in same_speed_trials:\n",
      "    file_paths = utils.trial_file_paths(trials_dir, '{0:0>3}'.format(trial_id))\n",
      "    dat = motek.DFlowData(*file_paths)\n",
      "    try:\n",
      "        record = dat._load_record_data()\n",
      "    except IOError:\n",
      "        print('{} skipped'.format(trial_id))\n",
      "    else:\n",
      "        plt.plot(record['RightBeltSpeed'])\n",
      "plt.xlim((50000, 51000))\n",
      "plt.ylim((0.8, 1.6))"
     ],
     "language": "python",
     "metadata": {},
     "outputs": [
      {
       "output_type": "stream",
       "stream": "stdout",
       "text": [
        "3 skipped\n",
        "4 skipped"
       ]
      },
      {
       "output_type": "stream",
       "stream": "stdout",
       "text": [
        "\n",
        "5 skipped\n"
       ]
      },
      {
       "metadata": {},
       "output_type": "pyout",
       "prompt_number": 9,
       "text": [
        "(0.8, 1.6)"
       ]
      },
      {
       "metadata": {},
       "output_type": "display_data",
       "png": "[encoded data removed]",
       "text": [
        "<matplotlib.figure.Figure at 0x7f82e05a4590>"
       ]
      }
     ],
     "prompt_number": 9
    },
    {
     "cell_type": "heading",
     "level": 1,
     "metadata": {},
     "source": [
      "Footer"
     ]
    },
    {
     "cell_type": "code",
     "collapsed": false,
     "input": [
      "!git rev-parse HEAD"
     ],
     "language": "python",
     "metadata": {},
     "outputs": [
      {
       "output_type": "stream",
       "stream": "stdout",
       "text": [
        "930978e889c077562c324c986c3f2069b3c8fd40\r\n"
       ]
      }
     ],
     "prompt_number": 10
    },
    {
     "cell_type": "code",
     "collapsed": false,
     "input": [
      "!git --git-dir=/home/moorepants/src/Gait-Analysis-Toolkit/.git --work-tree=/home/moorepants/src/Gait-Analysis-Toolkit rev-parse HEAD"
     ],
     "language": "python",
     "metadata": {},
     "outputs": [
      {
       "output_type": "stream",
       "stream": "stdout",
       "text": [
        "fatal: Not a git repository: '/home/moorepants/src/Gait-Analysis-Toolkit/.git'\r\n"
       ]
      }
     ],
     "prompt_number": 11
    },
    {
     "cell_type": "code",
     "collapsed": false,
     "input": [
      "%install_ext http://raw.github.com/jrjohansson/version_information/master/version_information.py"
     ],
     "language": "python",
     "metadata": {},
     "outputs": [
      {
       "output_type": "stream",
       "stream": "stdout",
       "text": [
        "Installed version_information.py. To use it, type:\n",
        "  %load_ext version_information\n"
       ]
      }
     ],
     "prompt_number": 12
    },
    {
     "cell_type": "code",
     "collapsed": false,
     "input": [
      "%load_ext version_information"
     ],
     "language": "python",
     "metadata": {},
     "outputs": [],
     "prompt_number": 13
    },
    {
     "cell_type": "code",
     "collapsed": false,
     "input": [
      "%version_information numpy, scipy, pandas, matplotlib, tables, oct2py, dtk, gaitanalysis"
     ],
     "language": "python",
     "metadata": {},
     "outputs": [
      {
       "html": [
        "<table><tr><th>Software</th><th>Version</th></tr><tr><td>Python</td><td>2.7.8 64bit [GCC 4.4.7 20120313 (Red Hat 4.4.7-1)]</td></tr><tr><td>IPython</td><td>2.3.1</td></tr><tr><td>OS</td><td>Linux 3.13.0 40 generic x86_64 with debian jessie sid</td></tr><tr><td>numpy</td><td>1.9.1</td></tr><tr><td>scipy</td><td>0.14.0</td></tr><tr><td>pandas</td><td>0.15.1</td></tr><tr><td>matplotlib</td><td>1.4.2</td></tr><tr><td>tables</td><td>3.1.1</td></tr><tr><td>oct2py</td><td>2.4.0</td></tr><tr><td>dtk</td><td>0.3.5</td></tr><tr><td>gaitanalysis</td><td>0.1.1</td></tr><tr><td colspan='2'>Mon Dec 08 14:58:56 2014 EST</td></tr></table>"
       ],
       "json": [
        "{\"Software versions\": [{\"version\": \"2.7.8 64bit [GCC 4.4.7 20120313 (Red Hat 4.4.7-1)]\", \"module\": \"Python\"}, {\"version\": \"2.3.1\", \"module\": \"IPython\"}, {\"version\": \"Linux 3.13.0 40 generic x86_64 with debian jessie sid\", \"module\": \"OS\"}, {\"version\": \"1.9.1\", \"module\": \"numpy\"}, {\"version\": \"0.14.0\", \"module\": \"scipy\"}, {\"version\": \"0.15.1\", \"module\": \"pandas\"}, {\"version\": \"1.4.2\", \"module\": \"matplotlib\"}, {\"version\": \"3.1.1\", \"module\": \"tables\"}, {\"version\": \"2.4.0\", \"module\": \"oct2py\"}, {\"version\": \"0.3.5\", \"module\": \"dtk\"}, {\"version\": \"0.1.1\", \"module\": \"gaitanalysis\"}]}"
       ],
       "latex": [
        "\\begin{tabular}{|l|l|}\\hline\n",
        "{\\bf Software} & {\\bf Version} \\\\ \\hline\\hline\n",
        "Python & 2.7.8 64bit [GCC 4.4.7 20120313 (Red Hat 4.4.7-1)] \\\\ \\hline\n",
        "IPython & 2.3.1 \\\\ \\hline\n",
        "OS & Linux 3.13.0 40 generic x86\\_64 with debian jessie sid \\\\ \\hline\n",
        "numpy & 1.9.1 \\\\ \\hline\n",
        "scipy & 0.14.0 \\\\ \\hline\n",
        "pandas & 0.15.1 \\\\ \\hline\n",
        "matplotlib & 1.4.2 \\\\ \\hline\n",
        "tables & 3.1.1 \\\\ \\hline\n",
        "oct2py & 2.4.0 \\\\ \\hline\n",
        "dtk & 0.3.5 \\\\ \\hline\n",
        "gaitanalysis & 0.1.1 \\\\ \\hline\n",
        "\\hline \\multicolumn{2}{|l|}{Mon Dec 08 14:58:56 2014 EST} \\\\ \\hline\n",
        "\\end{tabular}\n"
       ],
       "metadata": {},
       "output_type": "pyout",
       "prompt_number": 14,
       "text": [
        "Software versions\n",
        "Python 2.7.8 64bit [GCC 4.4.7 20120313 (Red Hat 4.4.7-1)]\n",
        "IPython 2.3.1\n",
        "OS Linux 3.13.0 40 generic x86_64 with debian jessie sid\n",
        "numpy 1.9.1\n",
        "scipy 0.14.0\n",
        "pandas 0.15.1\n",
        "matplotlib 1.4.2\n",
        "tables 3.1.1\n",
        "oct2py 2.4.0\n",
        "dtk 0.3.5\n",
        "gaitanalysis 0.1.1\n",
        "Mon Dec 08 14:58:56 2014 EST"
       ]
      }
     ],
     "prompt_number": 14
    },
    {
     "cell_type": "code",
     "collapsed": false,
     "input": [
      "!conda list"
     ],
     "language": "python",
     "metadata": {},
     "outputs": [
      {
       "output_type": "stream",
       "stream": "stdout",
       "text": [
        "# packages in environment at /home/moorepants/anaconda/envs/walk:\r\n",
        "#\r\n"
       ]
      },
      {
       "output_type": "stream",
       "stream": "stdout",
       "text": [
        "backports.ssl-match-hostname 3.4.0.2                   <pip>\r\n",
        "cairo                     1.12.18                       0  \r\n",
        "dateutil                  2.1                      py27_2  \r\n",
        "dynamicisttoolkit         0.3.5                     <pip>\r\n",
        "fastcache                 1.0.1                    py27_0  \r\n",
        "freetype                  2.4.10                        0  \r\n",
        "gaitanalysistoolkit       0.1.1                     <pip>\r\n",
        "hdf5                      1.8.13                        1  \r\n",
        "ipython                   2.3.1                    py27_0  \r\n",
        "ipython-notebook          2.3.1                    py27_0  \r\n",
        "jinja2                    2.7.3                    py27_1  \r\n",
        "libpng                    1.5.13                        1  \r\n",
        "libsodium                 0.4.5                         0  \r\n",
        "markupsafe                0.23                     py27_0  \r\n",
        "matplotlib                1.4.2                np19py27_0  \r\n",
        "numexpr                   2.3.1                np19py27_0  \r\n",
        "numpy                     1.9.1                    py27_0  \r\n",
        "oct2py                    2.4.0                     <pip>\r\n",
        "openssl                   1.0.1h                        1  \r\n",
        "pandas                    0.15.1               np19py27_0  \r\n",
        "patsy                     0.3.0                np19py27_0  \r\n",
        "pip                       1.5.6                    py27_0  \r\n",
        "pixman                    0.26.2                        0  \r\n",
        "py2cairo                  1.10.0                   py27_2  \r\n",
        "pyparsing                 2.0.1                    py27_0  \r\n",
        "pyqt                      4.10.4                   py27_0  \r\n",
        "pytables                  3.1.1                np19py27_1  \r\n",
        "python                    2.7.8                         1  \r\n",
        "python-dateutil           1.5                       <pip>\r\n",
        "pytz                      2014.9                   py27_0  \r\n",
        "pyyaml                    3.11                     py27_0  \r\n",
        "pyzmq                     14.4.1                   py27_0  \r\n",
        "qt                        4.8.5                         0  \r\n",
        "readline                  6.2                           2  \r\n",
        "scipy                     0.14.0               np19py27_0  \r\n",
        "setuptools                7.0                      py27_0  \r\n",
        "sip                       4.15.5                   py27_0  \r\n",
        "six                       1.8.0                    py27_0  \r\n",
        "sqlite                    3.8.4.1                       0  \r\n",
        "ssl_match_hostname        3.4.0.2                  py27_0  \r\n",
        "statsmodels               0.6.1                np19py27_0  \r\n",
        "sympy                     0.7.6                    py27_0  \r\n",
        "system                    5.8                           1  \r\n",
        "tables                    3.1.1                     <pip>\r\n",
        "tk                        8.5.15                        0  \r\n",
        "tornado                   4.0.2                    py27_0  \r\n",
        "uncertainties             2.4.6.1                   <pip>\r\n",
        "wsgiref                   0.1.2                     <pip>\r\n",
        "yaml                      0.1.4                         0  \r\n",
        "zeromq                    4.0.4                         0  \r\n",
        "zlib                      1.2.7                         0  \r\n"
       ]
      }
     ],
     "prompt_number": 15
    },
    {
     "cell_type": "code",
     "collapsed": false,
     "input": [
      "!pip freeze"
     ],
     "language": "python",
     "metadata": {},
     "outputs": [
      {
       "output_type": "stream",
       "stream": "stdout",
       "text": [
        "DynamicistToolKit==0.3.5\r\n",
        "GaitAnalysisToolKit==0.1.1\r\n",
        "Jinja2==2.7.3\r\n",
        "MarkupSafe==0.23\r\n",
        "PyYAML==3.11\r\n",
        "backports.ssl-match-hostname==3.4.0.2\r\n",
        "fastcache==1.0.1\r\n",
        "ipython==2.3.1\r\n",
        "matplotlib==1.4.2\r\n",
        "numexpr==2.3.1\r\n",
        "numpy==1.9.1\r\n",
        "oct2py==2.4.0\r\n",
        "pandas==0.15.1\r\n",
        "patsy==0.3.0\r\n",
        "pyparsing==2.0.1\r\n",
        "python-dateutil==1.5\r\n",
        "pytz==2014.9\r\n",
        "pyzmq==14.4.1\r\n",
        "scipy==0.14.0\r\n",
        "six==1.8.0\r\n",
        "statsmodels==0.6.1\r\n",
        "sympy==0.7.6\r\n",
        "tables==3.1.1\r\n",
        "tornado==4.0.2\r\n",
        "uncertainties==2.4.6.1\r\n",
        "wsgiref==0.1.2\r\n"
       ]
      }
     ],
     "prompt_number": 16
    }
   ],
   "metadata": {}
  }
 ]
}