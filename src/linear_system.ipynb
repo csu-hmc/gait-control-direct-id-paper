{
 "metadata": {
  "name": ""
 },
 "nbformat": 3,
 "nbformat_minor": 0,
 "worksheets": [
  {
   "cells": [
    {
     "cell_type": "code",
     "collapsed": false,
     "input": [
      "from sympy import init_printing\n",
      "init_printing()"
     ],
     "language": "python",
     "metadata": {},
     "outputs": [],
     "prompt_number": 1
    },
    {
     "cell_type": "code",
     "collapsed": false,
     "input": [
      "from sympy import symbols, Matrix, Symbol, zeros"
     ],
     "language": "python",
     "metadata": {},
     "outputs": [],
     "prompt_number": 2
    },
    {
     "cell_type": "code",
     "collapsed": false,
     "input": [
      "n = 5 # number of time samples in each cycle\n",
      "m = 3 # number of steps\n",
      "p = 3 # number of sensors\n",
      "q = 2 # number of controls"
     ],
     "language": "python",
     "metadata": {},
     "outputs": [],
     "prompt_number": 3
    },
    {
     "cell_type": "markdown",
     "metadata": {},
     "source": [
      "First form the equation that generates the controls given the error in the sensors at a single time step during a single foot step.\n",
      "\n",
      "$$m(t) = K(t) (\\bar{s}(t) - s(t)) = K(t) s_e(t)$$ "
     ]
    },
    {
     "cell_type": "markdown",
     "metadata": {},
     "source": [
      "The controls:"
     ]
    },
    {
     "cell_type": "code",
     "collapsed": false,
     "input": [
      "m = Matrix(q, 1, lambda i, j: Symbol('m_q={}'.format(i)))"
     ],
     "language": "python",
     "metadata": {},
     "outputs": [],
     "prompt_number": 4
    },
    {
     "cell_type": "markdown",
     "metadata": {},
     "source": [
      "The gains:"
     ]
    },
    {
     "cell_type": "code",
     "collapsed": false,
     "input": [
      "K = Matrix(q, p, lambda i, j: Symbol('k_q={},p={}'.format(i, j)))\n",
      "K"
     ],
     "language": "python",
     "metadata": {},
     "outputs": [
      {
       "latex": [
        "$$\\left[\\begin{smallmatrix}{}k_{q=0,p=0} & k_{q=0,p=1} & k_{q=0,p=2}\\\\k_{q=1,p=0} & k_{q=1,p=1} & k_{q=1,p=2}\\end{smallmatrix}\\right]$$"
       ],
       "metadata": {},
       "output_type": "pyout",
       "png": "[encoded data removed]",
       "prompt_number": 5,
       "text": [
        "\u23a1k_q=0,p=0  k_q=0,p=1  k_q=0,p=2\u23a4\n",
        "\u23a2                               \u23a5\n",
        "\u23a3k_q=1,p=0  k_q=1,p=1  k_q=1,p=2\u23a6"
       ]
      }
     ],
     "prompt_number": 5
    },
    {
     "cell_type": "markdown",
     "metadata": {},
     "source": [
      "The error:"
     ]
    },
    {
     "cell_type": "code",
     "collapsed": false,
     "input": [
      "se = Matrix(p, 1, lambda i, j: Symbol('se_p={}'.format(i)))\n",
      "se"
     ],
     "language": "python",
     "metadata": {},
     "outputs": [
      {
       "latex": [
        "$$\\left[\\begin{smallmatrix}{}se_{p=0}\\\\se_{p=1}\\\\se_{p=2}\\end{smallmatrix}\\right]$$"
       ],
       "metadata": {},
       "output_type": "pyout",
       "png": "[encoded data removed]",
       "prompt_number": 6,
       "text": [
        "\u23a1se_p=0\u23a4\n",
        "\u23a2      \u23a5\n",
        "\u23a2se_p=1\u23a5\n",
        "\u23a2      \u23a5\n",
        "\u23a3se_p=2\u23a6"
       ]
      }
     ],
     "prompt_number": 6
    },
    {
     "cell_type": "markdown",
     "metadata": {},
     "source": [
      "And the equation:"
     ]
    },
    {
     "cell_type": "code",
     "collapsed": false,
     "input": [
      "zero = m - K * se\n",
      "zero"
     ],
     "language": "python",
     "metadata": {},
     "outputs": [
      {
       "latex": [
        "$$\\left[\\begin{smallmatrix}{}- k_{q=0,p=0} se_{p=0} - k_{q=0,p=1} se_{p=1} - k_{q=0,p=2} se_{p=2} + m_{q=0}\\\\- k_{q=1,p=0} se_{p=0} - k_{q=1,p=1} se_{p=1} - k_{q=1,p=2} se_{p=2} + m_{q=1}\\end{smallmatrix}\\right]$$"
       ],
       "metadata": {},
       "output_type": "pyout",
       "png": "[encoded data removed]",
       "prompt_number": 7,
       "text": [
        "\u23a1-k_q=0,p=0\u22c5se_p=0 - k_q=0,p=1\u22c5se_p=1 - k_q=0,p=2\u22c5se_p=2 + m_q=0\u23a4\n",
        "\u23a2                                                               \u23a5\n",
        "\u23a3-k_q=1,p=0\u22c5se_p=0 - k_q=1,p=1\u22c5se_p=1 - k_q=1,p=2\u22c5se_p=2 + m_q=1\u23a6"
       ]
      }
     ],
     "prompt_number": 7
    },
    {
     "cell_type": "markdown",
     "metadata": {},
     "source": [
      "Now for a simple linear least squares the equations can be massage into this form:\n",
      "\n",
      "$$Ax=b$$\n",
      "\n",
      "which gives and over determined system of linear equations.\n",
      "\n",
      "To form the A matrix for a single time step in a single foot step the equation can be rearranged:"
     ]
    },
    {
     "cell_type": "code",
     "collapsed": false,
     "input": [
      "A = zeros(q, q * p)\n",
      "for row in range(q):\n",
      "    A[row, row * p:(row + 1) * p] =  se.T\n",
      "A"
     ],
     "language": "python",
     "metadata": {},
     "outputs": [
      {
       "latex": [
        "$$\\left[\\begin{smallmatrix}{}se_{p=0} & se_{p=1} & se_{p=2} & 0 & 0 & 0\\\\0 & 0 & 0 & se_{p=0} & se_{p=1} & se_{p=2}\\end{smallmatrix}\\right]$$"
       ],
       "metadata": {},
       "output_type": "pyout",
       "png": "[encoded data removed]",
       "prompt_number": 8,
       "text": [
        "\u23a1se_p=0  se_p=1  se_p=2    0       0       0   \u23a4\n",
        "\u23a2                                              \u23a5\n",
        "\u23a3  0       0       0     se_p=0  se_p=1  se_p=2\u23a6"
       ]
      }
     ],
     "prompt_number": 8
    },
    {
     "cell_type": "markdown",
     "metadata": {},
     "source": [
      "Now we can check to make sure that our new form gives the same answer as the previous form:"
     ]
    },
    {
     "cell_type": "code",
     "collapsed": false,
     "input": [
      "zero2 = m - A * K.reshape(q * p, 1)\n",
      "zero2"
     ],
     "language": "python",
     "metadata": {},
     "outputs": [
      {
       "latex": [
        "$$\\left[\\begin{smallmatrix}{}- k_{q=0,p=0} se_{p=0} - k_{q=0,p=1} se_{p=1} - k_{q=0,p=2} se_{p=2} + m_{q=0}\\\\- k_{q=1,p=0} se_{p=0} - k_{q=1,p=1} se_{p=1} - k_{q=1,p=2} se_{p=2} + m_{q=1}\\end{smallmatrix}\\right]$$"
       ],
       "metadata": {},
       "output_type": "pyout",
       "png": "[encoded data removed]",
       "prompt_number": 9,
       "text": [
        "\u23a1-k_q=0,p=0\u22c5se_p=0 - k_q=0,p=1\u22c5se_p=1 - k_q=0,p=2\u22c5se_p=2 + m_q=0\u23a4\n",
        "\u23a2                                                               \u23a5\n",
        "\u23a3-k_q=1,p=0\u22c5se_p=0 - k_q=1,p=1\u22c5se_p=1 - k_q=1,p=2\u22c5se_p=2 + m_q=1\u23a6"
       ]
      }
     ],
     "prompt_number": 9
    },
    {
     "cell_type": "code",
     "collapsed": false,
     "input": [
      "assert zero == zero2"
     ],
     "language": "python",
     "metadata": {},
     "outputs": [],
     "prompt_number": 10
    },
    {
     "cell_type": "markdown",
     "metadata": {},
     "source": [
      "Now for n timesteps we want to form the A matrix such that there are different gains for each time step."
     ]
    },
    {
     "cell_type": "code",
     "collapsed": false,
     "input": [
      "gain_matrices = []\n",
      "control_vectors = []\n",
      "error_vectors = []\n",
      "for time_step in range(n):\n",
      "    gain_matrices.append(Matrix(q, p, lambda i, j: Symbol('k{}_q={},p={}'.format(time_step, i, j))))\n",
      "    control_vectors.append(Matrix(q, 1, lambda i, j: Symbol('m{}_q={}'.format(time_step, i))))\n",
      "    error_vectors.append(Matrix(p, 1, lambda i, j: Symbol('se{}_p={}'.format(time_step, i))))"
     ],
     "language": "python",
     "metadata": {},
     "outputs": [],
     "prompt_number": 11
    },
    {
     "cell_type": "code",
     "collapsed": false,
     "input": [
      "gain_matrices"
     ],
     "language": "python",
     "metadata": {},
     "outputs": [
      {
       "latex": [
        "$$\\begin{bmatrix}\\left[\\begin{smallmatrix}{}k_{0 q=0,p=0} & k_{0 q=0,p=1} & k_{0 q=0,p=2}\\\\k_{0 q=1,p=0} & k_{0 q=1,p=1} & k_{0 q=1,p=2}\\end{smallmatrix}\\right], & \\left[\\begin{smallmatrix}{}k_{1 q=0,p=0} & k_{1 q=0,p=1} & k_{1 q=0,p=2}\\\\k_{1 q=1,p=0} & k_{1 q=1,p=1} & k_{1 q=1,p=2}\\end{smallmatrix}\\right], & \\left[\\begin{smallmatrix}{}k_{2 q=0,p=0} & k_{2 q=0,p=1} & k_{2 q=0,p=2}\\\\k_{2 q=1,p=0} & k_{2 q=1,p=1} & k_{2 q=1,p=2}\\end{smallmatrix}\\right], & \\left[\\begin{smallmatrix}{}k_{3 q=0,p=0} & k_{3 q=0,p=1} & k_{3 q=0,p=2}\\\\k_{3 q=1,p=0} & k_{3 q=1,p=1} & k_{3 q=1,p=2}\\end{smallmatrix}\\right], & \\left[\\begin{smallmatrix}{}k_{4 q=0,p=0} & k_{4 q=0,p=1} & k_{4 q=0,p=2}\\\\k_{4 q=1,p=0} & k_{4 q=1,p=1} & k_{4 q=1,p=2}\\end{smallmatrix}\\right]\\end{bmatrix}$$"
       ],
       "metadata": {},
       "output_type": "pyout",
       "png": "[encoded data removed]",
       "prompt_number": 12,
       "text": [
        "\u23a1\u23a1k0_q=0,p=0  k0_q=0,p=1  k0_q=0,p=2\u23a4, \u23a1k1_q=0,p=0  k1_q=0,p=1  k1_q=0,p=2\u23a4, \u23a1\n",
        "\u23a2\u23a2                                  \u23a5  \u23a2                                  \u23a5  \u23a2\n",
        "\u23a3\u23a3k0_q=1,p=0  k0_q=1,p=1  k0_q=1,p=2\u23a6  \u23a3k1_q=1,p=0  k1_q=1,p=1  k1_q=1,p=2\u23a6  \u23a3\n",
        "\n",
        "k2_q=0,p=0  k2_q=0,p=1  k2_q=0,p=2\u23a4, \u23a1k3_q=0,p=0  k3_q=0,p=1  k3_q=0,p=2\u23a4, \u23a1k4\n",
        "                                  \u23a5  \u23a2                                  \u23a5  \u23a2  \n",
        "k2_q=1,p=0  k2_q=1,p=1  k2_q=1,p=2\u23a6  \u23a3k3_q=1,p=0  k3_q=1,p=1  k3_q=1,p=2\u23a6  \u23a3k4\n",
        "\n",
        "_q=0,p=0  k4_q=0,p=1  k4_q=0,p=2\u23a4\u23a4\n",
        "                                \u23a5\u23a5\n",
        "_q=1,p=0  k4_q=1,p=1  k4_q=1,p=2\u23a6\u23a6"
       ]
      }
     ],
     "prompt_number": 12
    },
    {
     "cell_type": "code",
     "collapsed": false,
     "input": [
      "control_vectors"
     ],
     "language": "python",
     "metadata": {},
     "outputs": [
      {
       "latex": [
        "$$\\begin{bmatrix}\\left[\\begin{smallmatrix}{}m_{0 q=0}\\\\m_{0 q=1}\\end{smallmatrix}\\right], & \\left[\\begin{smallmatrix}{}m_{1 q=0}\\\\m_{1 q=1}\\end{smallmatrix}\\right], & \\left[\\begin{smallmatrix}{}m_{2 q=0}\\\\m_{2 q=1}\\end{smallmatrix}\\right], & \\left[\\begin{smallmatrix}{}m_{3 q=0}\\\\m_{3 q=1}\\end{smallmatrix}\\right], & \\left[\\begin{smallmatrix}{}m_{4 q=0}\\\\m_{4 q=1}\\end{smallmatrix}\\right]\\end{bmatrix}$$"
       ],
       "metadata": {},
       "output_type": "pyout",
       "png": "[encoded data removed]",
       "prompt_number": 13,
       "text": [
        "\u23a1\u23a1m0_q=0\u23a4, \u23a1m1_q=0\u23a4, \u23a1m2_q=0\u23a4, \u23a1m3_q=0\u23a4, \u23a1m4_q=0\u23a4\u23a4\n",
        "\u23a2\u23a2      \u23a5  \u23a2      \u23a5  \u23a2      \u23a5  \u23a2      \u23a5  \u23a2      \u23a5\u23a5\n",
        "\u23a3\u23a3m0_q=1\u23a6  \u23a3m1_q=1\u23a6  \u23a3m2_q=1\u23a6  \u23a3m3_q=1\u23a6  \u23a3m4_q=1\u23a6\u23a6"
       ]
      }
     ],
     "prompt_number": 13
    },
    {
     "cell_type": "code",
     "collapsed": false,
     "input": [
      "error_vectors"
     ],
     "language": "python",
     "metadata": {},
     "outputs": [
      {
       "latex": [
        "$$\\begin{bmatrix}\\left[\\begin{smallmatrix}{}se_{0 p=0}\\\\se_{0 p=1}\\\\se_{0 p=2}\\end{smallmatrix}\\right], & \\left[\\begin{smallmatrix}{}se_{1 p=0}\\\\se_{1 p=1}\\\\se_{1 p=2}\\end{smallmatrix}\\right], & \\left[\\begin{smallmatrix}{}se_{2 p=0}\\\\se_{2 p=1}\\\\se_{2 p=2}\\end{smallmatrix}\\right], & \\left[\\begin{smallmatrix}{}se_{3 p=0}\\\\se_{3 p=1}\\\\se_{3 p=2}\\end{smallmatrix}\\right], & \\left[\\begin{smallmatrix}{}se_{4 p=0}\\\\se_{4 p=1}\\\\se_{4 p=2}\\end{smallmatrix}\\right]\\end{bmatrix}$$"
       ],
       "metadata": {},
       "output_type": "pyout",
       "png": "[encoded data removed]",
       "prompt_number": 14,
       "text": [
        "\u23a1\u23a1se0_p=0\u23a4, \u23a1se1_p=0\u23a4, \u23a1se2_p=0\u23a4, \u23a1se3_p=0\u23a4, \u23a1se4_p=0\u23a4\u23a4\n",
        "\u23a2\u23a2       \u23a5  \u23a2       \u23a5  \u23a2       \u23a5  \u23a2       \u23a5  \u23a2       \u23a5\u23a5\n",
        "\u23a2\u23a2se0_p=1\u23a5  \u23a2se1_p=1\u23a5  \u23a2se2_p=1\u23a5  \u23a2se3_p=1\u23a5  \u23a2se4_p=1\u23a5\u23a5\n",
        "\u23a2\u23a2       \u23a5  \u23a2       \u23a5  \u23a2       \u23a5  \u23a2       \u23a5  \u23a2       \u23a5\u23a5\n",
        "\u23a3\u23a3se0_p=2\u23a6  \u23a3se1_p=2\u23a6  \u23a3se2_p=2\u23a6  \u23a3se3_p=2\u23a6  \u23a3se4_p=2\u23a6\u23a6"
       ]
      }
     ],
     "prompt_number": 14
    },
    {
     "cell_type": "markdown",
     "metadata": {},
     "source": [
      "Picking off a trio we should get our familiar equation back:"
     ]
    },
    {
     "cell_type": "code",
     "collapsed": false,
     "input": [
      "zero = control_vectors[0] - gain_matrices[0] * error_vectors[0]\n",
      "zero"
     ],
     "language": "python",
     "metadata": {},
     "outputs": [
      {
       "latex": [
        "$$\\left[\\begin{smallmatrix}{}- k_{0 q=0,p=0} se_{0 p=0} - k_{0 q=0,p=1} se_{0 p=1} - k_{0 q=0,p=2} se_{0 p=2} + m_{0 q=0}\\\\- k_{0 q=1,p=0} se_{0 p=0} - k_{0 q=1,p=1} se_{0 p=1} - k_{0 q=1,p=2} se_{0 p=2} + m_{0 q=1}\\end{smallmatrix}\\right]$$"
       ],
       "metadata": {},
       "output_type": "pyout",
       "png": "[encoded data removed]",
       "prompt_number": 15,
       "text": [
        "\u23a1-k0_q=0,p=0\u22c5se0_p=0 - k0_q=0,p=1\u22c5se0_p=1 - k0_q=0,p=2\u22c5se0_p=2 + m0_q=0\u23a4\n",
        "\u23a2                                                                      \u23a5\n",
        "\u23a3-k0_q=1,p=0\u22c5se0_p=0 - k0_q=1,p=1\u22c5se0_p=1 - k0_q=1,p=2\u22c5se0_p=2 + m0_q=1\u23a6"
       ]
      }
     ],
     "prompt_number": 15
    },
    {
     "cell_type": "markdown",
     "metadata": {},
     "source": [
      "The larger A matrix for all of the time steps can be formed by stacking the A matrices from a single time step diagonally:"
     ]
    },
    {
     "cell_type": "code",
     "collapsed": false,
     "input": [
      "Am = zeros(n * q, n * q * p)\n",
      "for time_step in range(n):\n",
      "    An = zeros(q, q * p)\n",
      "    for row in range(q):\n",
      "        An[row, row * p:(row + 1) * p] =  error_vectors[time_step].T\n",
      "    Am[time_step * q:(time_step + 1) * q, time_step * q * p:(time_step + 1) * q * p] = An"
     ],
     "language": "python",
     "metadata": {},
     "outputs": [],
     "prompt_number": 16
    },
    {
     "cell_type": "code",
     "collapsed": false,
     "input": [
      "Am"
     ],
     "language": "python",
     "metadata": {},
     "outputs": [
      {
       "latex": [
        "$$\\left[\\begin{smallmatrix}{}se_{0 p=0} & se_{0 p=1} & se_{0 p=2} & 0 & 0 & 0 & 0 & 0 & 0 & 0 & 0 & 0 & 0 & 0 & 0 & 0 & 0 & 0 & 0 & 0 & 0 & 0 & 0 & 0 & 0 & 0 & 0 & 0 & 0 & 0\\\\0 & 0 & 0 & se_{0 p=0} & se_{0 p=1} & se_{0 p=2} & 0 & 0 & 0 & 0 & 0 & 0 & 0 & 0 & 0 & 0 & 0 & 0 & 0 & 0 & 0 & 0 & 0 & 0 & 0 & 0 & 0 & 0 & 0 & 0\\\\0 & 0 & 0 & 0 & 0 & 0 & se_{1 p=0} & se_{1 p=1} & se_{1 p=2} & 0 & 0 & 0 & 0 & 0 & 0 & 0 & 0 & 0 & 0 & 0 & 0 & 0 & 0 & 0 & 0 & 0 & 0 & 0 & 0 & 0\\\\0 & 0 & 0 & 0 & 0 & 0 & 0 & 0 & 0 & se_{1 p=0} & se_{1 p=1} & se_{1 p=2} & 0 & 0 & 0 & 0 & 0 & 0 & 0 & 0 & 0 & 0 & 0 & 0 & 0 & 0 & 0 & 0 & 0 & 0\\\\0 & 0 & 0 & 0 & 0 & 0 & 0 & 0 & 0 & 0 & 0 & 0 & se_{2 p=0} & se_{2 p=1} & se_{2 p=2} & 0 & 0 & 0 & 0 & 0 & 0 & 0 & 0 & 0 & 0 & 0 & 0 & 0 & 0 & 0\\\\0 & 0 & 0 & 0 & 0 & 0 & 0 & 0 & 0 & 0 & 0 & 0 & 0 & 0 & 0 & se_{2 p=0} & se_{2 p=1} & se_{2 p=2} & 0 & 0 & 0 & 0 & 0 & 0 & 0 & 0 & 0 & 0 & 0 & 0\\\\0 & 0 & 0 & 0 & 0 & 0 & 0 & 0 & 0 & 0 & 0 & 0 & 0 & 0 & 0 & 0 & 0 & 0 & se_{3 p=0} & se_{3 p=1} & se_{3 p=2} & 0 & 0 & 0 & 0 & 0 & 0 & 0 & 0 & 0\\\\0 & 0 & 0 & 0 & 0 & 0 & 0 & 0 & 0 & 0 & 0 & 0 & 0 & 0 & 0 & 0 & 0 & 0 & 0 & 0 & 0 & se_{3 p=0} & se_{3 p=1} & se_{3 p=2} & 0 & 0 & 0 & 0 & 0 & 0\\\\0 & 0 & 0 & 0 & 0 & 0 & 0 & 0 & 0 & 0 & 0 & 0 & 0 & 0 & 0 & 0 & 0 & 0 & 0 & 0 & 0 & 0 & 0 & 0 & se_{4 p=0} & se_{4 p=1} & se_{4 p=2} & 0 & 0 & 0\\\\0 & 0 & 0 & 0 & 0 & 0 & 0 & 0 & 0 & 0 & 0 & 0 & 0 & 0 & 0 & 0 & 0 & 0 & 0 & 0 & 0 & 0 & 0 & 0 & 0 & 0 & 0 & se_{4 p=0} & se_{4 p=1} & se_{4 p=2}\\end{smallmatrix}\\right]$$"
       ],
       "metadata": {},
       "output_type": "pyout",
       "png": "[encoded data removed]",
       "prompt_number": 17,
       "text": [
        "\u23a1se0_p=0  se0_p=1  se0_p=2     0        0        0        0        0        0 \n",
        "\u23a2                                                                             \n",
        "\u23a2   0        0        0     se0_p=0  se0_p=1  se0_p=2     0        0        0 \n",
        "\u23a2                                                                             \n",
        "\u23a2   0        0        0        0        0        0     se1_p=0  se1_p=1  se1_p\n",
        "\u23a2                                                                             \n",
        "\u23a2   0        0        0        0        0        0        0        0        0 \n",
        "\u23a2                                                                             \n",
        "\u23a2   0        0        0        0        0        0        0        0        0 \n",
        "\u23a2                                                                             \n",
        "\u23a2   0        0        0        0        0        0        0        0        0 \n",
        "\u23a2                                                                             \n",
        "\u23a2   0        0        0        0        0        0        0        0        0 \n",
        "\u23a2                                                                             \n",
        "\u23a2   0        0        0        0        0        0        0        0        0 \n",
        "\u23a2                                                                             \n",
        "\u23a2   0        0        0        0        0        0        0        0        0 \n",
        "\u23a2                                                                             \n",
        "\u23a3   0        0        0        0        0        0        0        0        0 \n",
        "\n",
        "       0        0        0        0        0        0        0        0       \n",
        "                                                                              \n",
        "       0        0        0        0        0        0        0        0       \n",
        "                                                                              \n",
        "=2     0        0        0        0        0        0        0        0       \n",
        "                                                                              \n",
        "    se1_p=0  se1_p=1  se1_p=2     0        0        0        0        0       \n",
        "                                                                              \n",
        "       0        0        0     se2_p=0  se2_p=1  se2_p=2     0        0       \n",
        "                                                                              \n",
        "       0        0        0        0        0        0     se2_p=0  se2_p=1  se\n",
        "                                                                              \n",
        "       0        0        0        0        0        0        0        0       \n",
        "                                                                              \n",
        "       0        0        0        0        0        0        0        0       \n",
        "                                                                              \n",
        "       0        0        0        0        0        0        0        0       \n",
        "                                                                              \n",
        "       0        0        0        0        0        0        0        0       \n",
        "\n",
        " 0        0        0        0        0        0        0        0        0    \n",
        "                                                                              \n",
        " 0        0        0        0        0        0        0        0        0    \n",
        "                                                                              \n",
        " 0        0        0        0        0        0        0        0        0    \n",
        "                                                                              \n",
        " 0        0        0        0        0        0        0        0        0    \n",
        "                                                                              \n",
        " 0        0        0        0        0        0        0        0        0    \n",
        "                                                                              \n",
        "2_p=2     0        0        0        0        0        0        0        0    \n",
        "                                                                              \n",
        " 0     se3_p=0  se3_p=1  se3_p=2     0        0        0        0        0    \n",
        "                                                                              \n",
        " 0        0        0        0     se3_p=0  se3_p=1  se3_p=2     0        0    \n",
        "                                                                              \n",
        " 0        0        0        0        0        0        0     se4_p=0  se4_p=1 \n",
        "                                                                              \n",
        " 0        0        0        0        0        0        0        0        0    \n",
        "\n",
        "    0        0        0        0   \u23a4\n",
        "                                   \u23a5\n",
        "    0        0        0        0   \u23a5\n",
        "                                   \u23a5\n",
        "    0        0        0        0   \u23a5\n",
        "                                   \u23a5\n",
        "    0        0        0        0   \u23a5\n",
        "                                   \u23a5\n",
        "    0        0        0        0   \u23a5\n",
        "                                   \u23a5\n",
        "    0        0        0        0   \u23a5\n",
        "                                   \u23a5\n",
        "    0        0        0        0   \u23a5\n",
        "                                   \u23a5\n",
        "    0        0        0        0   \u23a5\n",
        "                                   \u23a5\n",
        " se4_p=2     0        0        0   \u23a5\n",
        "                                   \u23a5\n",
        "    0     se4_p=0  se4_p=1  se4_p=2\u23a6"
       ]
      }
     ],
     "prompt_number": 17
    },
    {
     "cell_type": "markdown",
     "metadata": {},
     "source": [
      "The control vector and the gain vector are simple column stacks:"
     ]
    },
    {
     "cell_type": "code",
     "collapsed": false,
     "input": [
      "bm = control_vectors[0]\n",
      "for control in control_vectors[1:]:\n",
      "    bm = bm.col_join(control)\n",
      "bm"
     ],
     "language": "python",
     "metadata": {},
     "outputs": [
      {
       "latex": [
        "$$\\left[\\begin{smallmatrix}{}m_{0 q=0}\\\\m_{0 q=1}\\\\m_{1 q=0}\\\\m_{1 q=1}\\\\m_{2 q=0}\\\\m_{2 q=1}\\\\m_{3 q=0}\\\\m_{3 q=1}\\\\m_{4 q=0}\\\\m_{4 q=1}\\end{smallmatrix}\\right]$$"
       ],
       "metadata": {},
       "output_type": "pyout",
       "png": "[encoded data removed]",
       "prompt_number": 18,
       "text": [
        "\u23a1m0_q=0\u23a4\n",
        "\u23a2      \u23a5\n",
        "\u23a2m0_q=1\u23a5\n",
        "\u23a2      \u23a5\n",
        "\u23a2m1_q=0\u23a5\n",
        "\u23a2      \u23a5\n",
        "\u23a2m1_q=1\u23a5\n",
        "\u23a2      \u23a5\n",
        "\u23a2m2_q=0\u23a5\n",
        "\u23a2      \u23a5\n",
        "\u23a2m2_q=1\u23a5\n",
        "\u23a2      \u23a5\n",
        "\u23a2m3_q=0\u23a5\n",
        "\u23a2      \u23a5\n",
        "\u23a2m3_q=1\u23a5\n",
        "\u23a2      \u23a5\n",
        "\u23a2m4_q=0\u23a5\n",
        "\u23a2      \u23a5\n",
        "\u23a3m4_q=1\u23a6"
       ]
      }
     ],
     "prompt_number": 18
    },
    {
     "cell_type": "code",
     "collapsed": false,
     "input": [
      "xm = gain_matrices[0].reshape(q * p, 1)\n",
      "for gain in gain_matrices[1:]:\n",
      "    xm = xm.col_join(gain.reshape(q * p, 1))\n",
      "xm"
     ],
     "language": "python",
     "metadata": {},
     "outputs": [
      {
       "latex": [
        "$$\\left[\\begin{smallmatrix}{}k_{0 q=0,p=0}\\\\k_{0 q=0,p=1}\\\\k_{0 q=0,p=2}\\\\k_{0 q=1,p=0}\\\\k_{0 q=1,p=1}\\\\k_{0 q=1,p=2}\\\\k_{1 q=0,p=0}\\\\k_{1 q=0,p=1}\\\\k_{1 q=0,p=2}\\\\k_{1 q=1,p=0}\\\\k_{1 q=1,p=1}\\\\k_{1 q=1,p=2}\\\\k_{2 q=0,p=0}\\\\k_{2 q=0,p=1}\\\\k_{2 q=0,p=2}\\\\k_{2 q=1,p=0}\\\\k_{2 q=1,p=1}\\\\k_{2 q=1,p=2}\\\\k_{3 q=0,p=0}\\\\k_{3 q=0,p=1}\\\\k_{3 q=0,p=2}\\\\k_{3 q=1,p=0}\\\\k_{3 q=1,p=1}\\\\k_{3 q=1,p=2}\\\\k_{4 q=0,p=0}\\\\k_{4 q=0,p=1}\\\\k_{4 q=0,p=2}\\\\k_{4 q=1,p=0}\\\\k_{4 q=1,p=1}\\\\k_{4 q=1,p=2}\\end{smallmatrix}\\right]$$"
       ],
       "metadata": {},
       "output_type": "pyout",
       "png": "[encoded data removed]",
       "prompt_number": 19,
       "text": [
        "\u23a1k0_q=0,p=0\u23a4\n",
        "\u23a2          \u23a5\n",
        "\u23a2k0_q=0,p=1\u23a5\n",
        "\u23a2          \u23a5\n",
        "\u23a2k0_q=0,p=2\u23a5\n",
        "\u23a2          \u23a5\n",
        "\u23a2k0_q=1,p=0\u23a5\n",
        "\u23a2          \u23a5\n",
        "\u23a2k0_q=1,p=1\u23a5\n",
        "\u23a2          \u23a5\n",
        "\u23a2k0_q=1,p=2\u23a5\n",
        "\u23a2          \u23a5\n",
        "\u23a2k1_q=0,p=0\u23a5\n",
        "\u23a2          \u23a5\n",
        "\u23a2k1_q=0,p=1\u23a5\n",
        "\u23a2          \u23a5\n",
        "\u23a2k1_q=0,p=2\u23a5\n",
        "\u23a2          \u23a5\n",
        "\u23a2k1_q=1,p=0\u23a5\n",
        "\u23a2          \u23a5\n",
        "\u23a2k1_q=1,p=1\u23a5\n",
        "\u23a2          \u23a5\n",
        "\u23a2k1_q=1,p=2\u23a5\n",
        "\u23a2          \u23a5\n",
        "\u23a2k2_q=0,p=0\u23a5\n",
        "\u23a2          \u23a5\n",
        "\u23a2k2_q=0,p=1\u23a5\n",
        "\u23a2          \u23a5\n",
        "\u23a2k2_q=0,p=2\u23a5\n",
        "\u23a2          \u23a5\n",
        "\u23a2k2_q=1,p=0\u23a5\n",
        "\u23a2          \u23a5\n",
        "\u23a2k2_q=1,p=1\u23a5\n",
        "\u23a2          \u23a5\n",
        "\u23a2k2_q=1,p=2\u23a5\n",
        "\u23a2          \u23a5\n",
        "\u23a2k3_q=0,p=0\u23a5\n",
        "\u23a2          \u23a5\n",
        "\u23a2k3_q=0,p=1\u23a5\n",
        "\u23a2          \u23a5\n",
        "\u23a2k3_q=0,p=2\u23a5\n",
        "\u23a2          \u23a5\n",
        "\u23a2k3_q=1,p=0\u23a5\n",
        "\u23a2          \u23a5\n",
        "\u23a2k3_q=1,p=1\u23a5\n",
        "\u23a2          \u23a5\n",
        "\u23a2k3_q=1,p=2\u23a5\n",
        "\u23a2          \u23a5\n",
        "\u23a2k4_q=0,p=0\u23a5\n",
        "\u23a2          \u23a5\n",
        "\u23a2k4_q=0,p=1\u23a5\n",
        "\u23a2          \u23a5\n",
        "\u23a2k4_q=0,p=2\u23a5\n",
        "\u23a2          \u23a5\n",
        "\u23a2k4_q=1,p=0\u23a5\n",
        "\u23a2          \u23a5\n",
        "\u23a2k4_q=1,p=1\u23a5\n",
        "\u23a2          \u23a5\n",
        "\u23a3k4_q=1,p=2\u23a6"
       ]
      }
     ],
     "prompt_number": 19
    },
    {
     "cell_type": "markdown",
     "metadata": {},
     "source": [
      "Now the original equations can be regenerated with:"
     ]
    },
    {
     "cell_type": "code",
     "collapsed": false,
     "input": [
      "bm - Am * xm"
     ],
     "language": "python",
     "metadata": {},
     "outputs": [
      {
       "latex": [
        "$$\\left[\\begin{smallmatrix}{}- k_{0 q=0,p=0} se_{0 p=0} - k_{0 q=0,p=1} se_{0 p=1} - k_{0 q=0,p=2} se_{0 p=2} + m_{0 q=0}\\\\- k_{0 q=1,p=0} se_{0 p=0} - k_{0 q=1,p=1} se_{0 p=1} - k_{0 q=1,p=2} se_{0 p=2} + m_{0 q=1}\\\\- k_{1 q=0,p=0} se_{1 p=0} - k_{1 q=0,p=1} se_{1 p=1} - k_{1 q=0,p=2} se_{1 p=2} + m_{1 q=0}\\\\- k_{1 q=1,p=0} se_{1 p=0} - k_{1 q=1,p=1} se_{1 p=1} - k_{1 q=1,p=2} se_{1 p=2} + m_{1 q=1}\\\\- k_{2 q=0,p=0} se_{2 p=0} - k_{2 q=0,p=1} se_{2 p=1} - k_{2 q=0,p=2} se_{2 p=2} + m_{2 q=0}\\\\- k_{2 q=1,p=0} se_{2 p=0} - k_{2 q=1,p=1} se_{2 p=1} - k_{2 q=1,p=2} se_{2 p=2} + m_{2 q=1}\\\\- k_{3 q=0,p=0} se_{3 p=0} - k_{3 q=0,p=1} se_{3 p=1} - k_{3 q=0,p=2} se_{3 p=2} + m_{3 q=0}\\\\- k_{3 q=1,p=0} se_{3 p=0} - k_{3 q=1,p=1} se_{3 p=1} - k_{3 q=1,p=2} se_{3 p=2} + m_{3 q=1}\\\\- k_{4 q=0,p=0} se_{4 p=0} - k_{4 q=0,p=1} se_{4 p=1} - k_{4 q=0,p=2} se_{4 p=2} + m_{4 q=0}\\\\- k_{4 q=1,p=0} se_{4 p=0} - k_{4 q=1,p=1} se_{4 p=1} - k_{4 q=1,p=2} se_{4 p=2} + m_{4 q=1}\\end{smallmatrix}\\right]$$"
       ],
       "metadata": {},
       "output_type": "pyout",
       "png": "[encoded data removed]",
       "prompt_number": 20,
       "text": [
        "\u23a1-k0_q=0,p=0\u22c5se0_p=0 - k0_q=0,p=1\u22c5se0_p=1 - k0_q=0,p=2\u22c5se0_p=2 + m0_q=0\u23a4\n",
        "\u23a2                                                                      \u23a5\n",
        "\u23a2-k0_q=1,p=0\u22c5se0_p=0 - k0_q=1,p=1\u22c5se0_p=1 - k0_q=1,p=2\u22c5se0_p=2 + m0_q=1\u23a5\n",
        "\u23a2                                                                      \u23a5\n",
        "\u23a2-k1_q=0,p=0\u22c5se1_p=0 - k1_q=0,p=1\u22c5se1_p=1 - k1_q=0,p=2\u22c5se1_p=2 + m1_q=0\u23a5\n",
        "\u23a2                                                                      \u23a5\n",
        "\u23a2-k1_q=1,p=0\u22c5se1_p=0 - k1_q=1,p=1\u22c5se1_p=1 - k1_q=1,p=2\u22c5se1_p=2 + m1_q=1\u23a5\n",
        "\u23a2                                                                      \u23a5\n",
        "\u23a2-k2_q=0,p=0\u22c5se2_p=0 - k2_q=0,p=1\u22c5se2_p=1 - k2_q=0,p=2\u22c5se2_p=2 + m2_q=0\u23a5\n",
        "\u23a2                                                                      \u23a5\n",
        "\u23a2-k2_q=1,p=0\u22c5se2_p=0 - k2_q=1,p=1\u22c5se2_p=1 - k2_q=1,p=2\u22c5se2_p=2 + m2_q=1\u23a5\n",
        "\u23a2                                                                      \u23a5\n",
        "\u23a2-k3_q=0,p=0\u22c5se3_p=0 - k3_q=0,p=1\u22c5se3_p=1 - k3_q=0,p=2\u22c5se3_p=2 + m3_q=0\u23a5\n",
        "\u23a2                                                                      \u23a5\n",
        "\u23a2-k3_q=1,p=0\u22c5se3_p=0 - k3_q=1,p=1\u22c5se3_p=1 - k3_q=1,p=2\u22c5se3_p=2 + m3_q=1\u23a5\n",
        "\u23a2                                                                      \u23a5\n",
        "\u23a2-k4_q=0,p=0\u22c5se4_p=0 - k4_q=0,p=1\u22c5se4_p=1 - k4_q=0,p=2\u22c5se4_p=2 + m4_q=0\u23a5\n",
        "\u23a2                                                                      \u23a5\n",
        "\u23a3-k4_q=1,p=0\u22c5se4_p=0 - k4_q=1,p=1\u22c5se4_p=1 - k4_q=1,p=2\u22c5se4_p=2 + m4_q=1\u23a6"
       ]
      }
     ],
     "prompt_number": 20
    },
    {
     "cell_type": "markdown",
     "metadata": {},
     "source": [
      "And any additional foot steps require that the controls and the sensor matrix be stacked. The gains don't change as they should theorectically be the same for each foot step:"
     ]
    },
    {
     "cell_type": "code",
     "collapsed": false,
     "input": [
      "bm.col_join(bm) - Am.col_join(Am) * xm"
     ],
     "language": "python",
     "metadata": {},
     "outputs": [
      {
       "latex": [
        "$$\\left[\\begin{smallmatrix}{}- k_{0 q=0,p=0} se_{0 p=0} - k_{0 q=0,p=1} se_{0 p=1} - k_{0 q=0,p=2} se_{0 p=2} + m_{0 q=0}\\\\- k_{0 q=1,p=0} se_{0 p=0} - k_{0 q=1,p=1} se_{0 p=1} - k_{0 q=1,p=2} se_{0 p=2} + m_{0 q=1}\\\\- k_{1 q=0,p=0} se_{1 p=0} - k_{1 q=0,p=1} se_{1 p=1} - k_{1 q=0,p=2} se_{1 p=2} + m_{1 q=0}\\\\- k_{1 q=1,p=0} se_{1 p=0} - k_{1 q=1,p=1} se_{1 p=1} - k_{1 q=1,p=2} se_{1 p=2} + m_{1 q=1}\\\\- k_{2 q=0,p=0} se_{2 p=0} - k_{2 q=0,p=1} se_{2 p=1} - k_{2 q=0,p=2} se_{2 p=2} + m_{2 q=0}\\\\- k_{2 q=1,p=0} se_{2 p=0} - k_{2 q=1,p=1} se_{2 p=1} - k_{2 q=1,p=2} se_{2 p=2} + m_{2 q=1}\\\\- k_{3 q=0,p=0} se_{3 p=0} - k_{3 q=0,p=1} se_{3 p=1} - k_{3 q=0,p=2} se_{3 p=2} + m_{3 q=0}\\\\- k_{3 q=1,p=0} se_{3 p=0} - k_{3 q=1,p=1} se_{3 p=1} - k_{3 q=1,p=2} se_{3 p=2} + m_{3 q=1}\\\\- k_{4 q=0,p=0} se_{4 p=0} - k_{4 q=0,p=1} se_{4 p=1} - k_{4 q=0,p=2} se_{4 p=2} + m_{4 q=0}\\\\- k_{4 q=1,p=0} se_{4 p=0} - k_{4 q=1,p=1} se_{4 p=1} - k_{4 q=1,p=2} se_{4 p=2} + m_{4 q=1}\\\\- k_{0 q=0,p=0} se_{0 p=0} - k_{0 q=0,p=1} se_{0 p=1} - k_{0 q=0,p=2} se_{0 p=2} + m_{0 q=0}\\\\- k_{0 q=1,p=0} se_{0 p=0} - k_{0 q=1,p=1} se_{0 p=1} - k_{0 q=1,p=2} se_{0 p=2} + m_{0 q=1}\\\\- k_{1 q=0,p=0} se_{1 p=0} - k_{1 q=0,p=1} se_{1 p=1} - k_{1 q=0,p=2} se_{1 p=2} + m_{1 q=0}\\\\- k_{1 q=1,p=0} se_{1 p=0} - k_{1 q=1,p=1} se_{1 p=1} - k_{1 q=1,p=2} se_{1 p=2} + m_{1 q=1}\\\\- k_{2 q=0,p=0} se_{2 p=0} - k_{2 q=0,p=1} se_{2 p=1} - k_{2 q=0,p=2} se_{2 p=2} + m_{2 q=0}\\\\- k_{2 q=1,p=0} se_{2 p=0} - k_{2 q=1,p=1} se_{2 p=1} - k_{2 q=1,p=2} se_{2 p=2} + m_{2 q=1}\\\\- k_{3 q=0,p=0} se_{3 p=0} - k_{3 q=0,p=1} se_{3 p=1} - k_{3 q=0,p=2} se_{3 p=2} + m_{3 q=0}\\\\- k_{3 q=1,p=0} se_{3 p=0} - k_{3 q=1,p=1} se_{3 p=1} - k_{3 q=1,p=2} se_{3 p=2} + m_{3 q=1}\\\\- k_{4 q=0,p=0} se_{4 p=0} - k_{4 q=0,p=1} se_{4 p=1} - k_{4 q=0,p=2} se_{4 p=2} + m_{4 q=0}\\\\- k_{4 q=1,p=0} se_{4 p=0} - k_{4 q=1,p=1} se_{4 p=1} - k_{4 q=1,p=2} se_{4 p=2} + m_{4 q=1}\\end{smallmatrix}\\right]$$"
       ],
       "metadata": {},
       "output_type": "pyout",
       "png": "[encoded data removed]",
       "prompt_number": 21,
       "text": [
        "\u23a1-k0_q=0,p=0\u22c5se0_p=0 - k0_q=0,p=1\u22c5se0_p=1 - k0_q=0,p=2\u22c5se0_p=2 + m0_q=0\u23a4\n",
        "\u23a2                                                                      \u23a5\n",
        "\u23a2-k0_q=1,p=0\u22c5se0_p=0 - k0_q=1,p=1\u22c5se0_p=1 - k0_q=1,p=2\u22c5se0_p=2 + m0_q=1\u23a5\n",
        "\u23a2                                                                      \u23a5\n",
        "\u23a2-k1_q=0,p=0\u22c5se1_p=0 - k1_q=0,p=1\u22c5se1_p=1 - k1_q=0,p=2\u22c5se1_p=2 + m1_q=0\u23a5\n",
        "\u23a2                                                                      \u23a5\n",
        "\u23a2-k1_q=1,p=0\u22c5se1_p=0 - k1_q=1,p=1\u22c5se1_p=1 - k1_q=1,p=2\u22c5se1_p=2 + m1_q=1\u23a5\n",
        "\u23a2                                                                      \u23a5\n",
        "\u23a2-k2_q=0,p=0\u22c5se2_p=0 - k2_q=0,p=1\u22c5se2_p=1 - k2_q=0,p=2\u22c5se2_p=2 + m2_q=0\u23a5\n",
        "\u23a2                                                                      \u23a5\n",
        "\u23a2-k2_q=1,p=0\u22c5se2_p=0 - k2_q=1,p=1\u22c5se2_p=1 - k2_q=1,p=2\u22c5se2_p=2 + m2_q=1\u23a5\n",
        "\u23a2                                                                      \u23a5\n",
        "\u23a2-k3_q=0,p=0\u22c5se3_p=0 - k3_q=0,p=1\u22c5se3_p=1 - k3_q=0,p=2\u22c5se3_p=2 + m3_q=0\u23a5\n",
        "\u23a2                                                                      \u23a5\n",
        "\u23a2-k3_q=1,p=0\u22c5se3_p=0 - k3_q=1,p=1\u22c5se3_p=1 - k3_q=1,p=2\u22c5se3_p=2 + m3_q=1\u23a5\n",
        "\u23a2                                                                      \u23a5\n",
        "\u23a2-k4_q=0,p=0\u22c5se4_p=0 - k4_q=0,p=1\u22c5se4_p=1 - k4_q=0,p=2\u22c5se4_p=2 + m4_q=0\u23a5\n",
        "\u23a2                                                                      \u23a5\n",
        "\u23a2-k4_q=1,p=0\u22c5se4_p=0 - k4_q=1,p=1\u22c5se4_p=1 - k4_q=1,p=2\u22c5se4_p=2 + m4_q=1\u23a5\n",
        "\u23a2                                                                      \u23a5\n",
        "\u23a2-k0_q=0,p=0\u22c5se0_p=0 - k0_q=0,p=1\u22c5se0_p=1 - k0_q=0,p=2\u22c5se0_p=2 + m0_q=0\u23a5\n",
        "\u23a2                                                                      \u23a5\n",
        "\u23a2-k0_q=1,p=0\u22c5se0_p=0 - k0_q=1,p=1\u22c5se0_p=1 - k0_q=1,p=2\u22c5se0_p=2 + m0_q=1\u23a5\n",
        "\u23a2                                                                      \u23a5\n",
        "\u23a2-k1_q=0,p=0\u22c5se1_p=0 - k1_q=0,p=1\u22c5se1_p=1 - k1_q=0,p=2\u22c5se1_p=2 + m1_q=0\u23a5\n",
        "\u23a2                                                                      \u23a5\n",
        "\u23a2-k1_q=1,p=0\u22c5se1_p=0 - k1_q=1,p=1\u22c5se1_p=1 - k1_q=1,p=2\u22c5se1_p=2 + m1_q=1\u23a5\n",
        "\u23a2                                                                      \u23a5\n",
        "\u23a2-k2_q=0,p=0\u22c5se2_p=0 - k2_q=0,p=1\u22c5se2_p=1 - k2_q=0,p=2\u22c5se2_p=2 + m2_q=0\u23a5\n",
        "\u23a2                                                                      \u23a5\n",
        "\u23a2-k2_q=1,p=0\u22c5se2_p=0 - k2_q=1,p=1\u22c5se2_p=1 - k2_q=1,p=2\u22c5se2_p=2 + m2_q=1\u23a5\n",
        "\u23a2                                                                      \u23a5\n",
        "\u23a2-k3_q=0,p=0\u22c5se3_p=0 - k3_q=0,p=1\u22c5se3_p=1 - k3_q=0,p=2\u22c5se3_p=2 + m3_q=0\u23a5\n",
        "\u23a2                                                                      \u23a5\n",
        "\u23a2-k3_q=1,p=0\u22c5se3_p=0 - k3_q=1,p=1\u22c5se3_p=1 - k3_q=1,p=2\u22c5se3_p=2 + m3_q=1\u23a5\n",
        "\u23a2                                                                      \u23a5\n",
        "\u23a2-k4_q=0,p=0\u22c5se4_p=0 - k4_q=0,p=1\u22c5se4_p=1 - k4_q=0,p=2\u22c5se4_p=2 + m4_q=0\u23a5\n",
        "\u23a2                                                                      \u23a5\n",
        "\u23a3-k4_q=1,p=0\u22c5se4_p=0 - k4_q=1,p=1\u22c5se4_p=1 - k4_q=1,p=2\u22c5se4_p=2 + m4_q=1\u23a6"
       ]
      }
     ],
     "prompt_number": 21
    },
    {
     "cell_type": "code",
     "collapsed": false,
     "input": [
      "Am.LDLsolve(bm)"
     ],
     "language": "python",
     "metadata": {},
     "outputs": [
      {
       "ename": "NotImplementedError",
       "evalue": "Under-determined System.",
       "output_type": "pyerr",
       "traceback": [
        "\u001b[1;31m---------------------------------------------------------------------------\u001b[0m\n\u001b[1;31mNotImplementedError\u001b[0m                       Traceback (most recent call last)",
        "\u001b[1;32m<ipython-input-22-799987894084>\u001b[0m in \u001b[0;36m<module>\u001b[1;34m()\u001b[0m\n\u001b[1;32m----> 1\u001b[1;33m \u001b[0mAm\u001b[0m\u001b[1;33m.\u001b[0m\u001b[0mLDLsolve\u001b[0m\u001b[1;33m(\u001b[0m\u001b[0mbm\u001b[0m\u001b[1;33m)\u001b[0m\u001b[1;33m\u001b[0m\u001b[0m\n\u001b[0m",
        "\u001b[1;32m/home/moorepants/envs/walk/local/lib/python2.7/site-packages/sympy/matrices/matrices.pyc\u001b[0m in \u001b[0;36mLDLsolve\u001b[1;34m(self, rhs)\u001b[0m\n\u001b[0;32m    856\u001b[0m             \u001b[0mrhs\u001b[0m \u001b[1;33m=\u001b[0m \u001b[0mself\u001b[0m\u001b[1;33m.\u001b[0m\u001b[0mT\u001b[0m\u001b[1;33m*\u001b[0m\u001b[0mrhs\u001b[0m\u001b[1;33m\u001b[0m\u001b[0m\n\u001b[0;32m    857\u001b[0m         \u001b[1;32melse\u001b[0m\u001b[1;33m:\u001b[0m\u001b[1;33m\u001b[0m\u001b[0m\n\u001b[1;32m--> 858\u001b[1;33m             \u001b[1;32mraise\u001b[0m \u001b[0mNotImplementedError\u001b[0m\u001b[1;33m(\u001b[0m\u001b[1;34m\"Under-determined System.\"\u001b[0m\u001b[1;33m)\u001b[0m\u001b[1;33m\u001b[0m\u001b[0m\n\u001b[0m\u001b[0;32m    859\u001b[0m         \u001b[0mY\u001b[0m \u001b[1;33m=\u001b[0m \u001b[0mL\u001b[0m\u001b[1;33m.\u001b[0m\u001b[0m_lower_triangular_solve\u001b[0m\u001b[1;33m(\u001b[0m\u001b[0mrhs\u001b[0m\u001b[1;33m)\u001b[0m\u001b[1;33m\u001b[0m\u001b[0m\n\u001b[0;32m    860\u001b[0m         \u001b[0mZ\u001b[0m \u001b[1;33m=\u001b[0m \u001b[0mD\u001b[0m\u001b[1;33m.\u001b[0m\u001b[0m_diagonal_solve\u001b[0m\u001b[1;33m(\u001b[0m\u001b[0mY\u001b[0m\u001b[1;33m)\u001b[0m\u001b[1;33m\u001b[0m\u001b[0m\n",
        "\u001b[1;31mNotImplementedError\u001b[0m: Under-determined System."
       ]
      }
     ],
     "prompt_number": 22
    },
    {
     "cell_type": "code",
     "collapsed": false,
     "input": [
      "Am.shape, bm.shape"
     ],
     "language": "python",
     "metadata": {},
     "outputs": [
      {
       "latex": [
        "$$\\begin{pmatrix}\\begin{pmatrix}10, & 30\\end{pmatrix}, & \\begin{pmatrix}10, & 1\\end{pmatrix}\\end{pmatrix}$$"
       ],
       "metadata": {},
       "output_type": "pyout",
       "png": "[encoded data removed]",
       "prompt_number": 23,
       "text": [
        "((10, 30), (10, 1))"
       ]
      }
     ],
     "prompt_number": 23
    },
    {
     "cell_type": "code",
     "collapsed": false,
     "input": [],
     "language": "python",
     "metadata": {},
     "outputs": []
    }
   ],
   "metadata": {}
  }
 ]
}