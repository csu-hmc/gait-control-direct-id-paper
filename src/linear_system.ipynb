{
 "metadata": {
  "name": ""
 },
 "nbformat": 3,
 "nbformat_minor": 0,
 "worksheets": [
  {
   "cells": [
    {
     "cell_type": "code",
     "collapsed": false,
     "input": [
      "!pip freeze"
     ],
     "language": "python",
     "metadata": {},
     "outputs": [
      {
       "output_type": "stream",
       "stream": "stdout",
       "text": [
        "Cython==0.19.1\r\n",
        "-e git+git@github.com:moorepants/DynamicistToolKit.git@e2c559bfae33a6bacacfb773818e106ccb3a9940#egg=DynamicistToolKit-dev\r\n",
        "Jinja2==2.7.1\r\n",
        "MarkupSafe==0.18\r\n",
        "argparse==1.2.1\r\n",
        "ipython==1.0.0\r\n",
        "matplotlib==1.3.0\r\n",
        "nose==1.3.0\r\n",
        "numpy==1.7.1\r\n",
        "pandas==0.12.0\r\n",
        "pyparsing==2.0.1\r\n",
        "python-dateutil==2.1\r\n",
        "pytz==2013b\r\n",
        "pyzmq==13.1.0\r\n",
        "scipy==0.12.0\r\n",
        "six==1.3.0\r\n",
        "sympy==0.7.3\r\n",
        "tornado==3.1\r\n",
        "wsgiref==0.1.2\r\n"
       ]
      }
     ],
     "prompt_number": 1
    },
    {
     "cell_type": "code",
     "collapsed": false,
     "input": [
      "from sympy import init_printing\n",
      "init_printing()"
     ],
     "language": "python",
     "metadata": {},
     "outputs": [],
     "prompt_number": 2
    },
    {
     "cell_type": "code",
     "collapsed": false,
     "input": [
      "from sympy import symbols, Matrix, Symbol, zeros, eye"
     ],
     "language": "python",
     "metadata": {},
     "outputs": [],
     "prompt_number": 3
    },
    {
     "cell_type": "code",
     "collapsed": false,
     "input": [
      "n = 3 # number of time samples in each cycle\n",
      "m = 2 # number of steps\n",
      "p = 2 # number of sensors\n",
      "q = 2 # number of controls"
     ],
     "language": "python",
     "metadata": {},
     "outputs": [],
     "prompt_number": 4
    },
    {
     "cell_type": "markdown",
     "metadata": {},
     "source": [
      "First form the equation that generates the controls given the error in the sensors at a single time step during a single foot step.\n",
      "\n",
      "$$m(t) = K(t) s_e(t) = K(t) (s^*(t) - s(t))  = K(t) s^*(t) - K(t) s(t) = m^*(t) - K(t) s(t)$$"
     ]
    },
    {
     "cell_type": "markdown",
     "metadata": {},
     "source": [
      "The controls:"
     ]
    },
    {
     "cell_type": "code",
     "collapsed": false,
     "input": [
      "m = Matrix(q, 1, lambda i, j: Symbol('m_q={}'.format(i)))\n",
      "m"
     ],
     "language": "python",
     "metadata": {},
     "outputs": [
      {
       "latex": [
        "$$\\left[\\begin{smallmatrix}{}m_{q=0}\\\\m_{q=1}\\end{smallmatrix}\\right]$$"
       ],
       "metadata": {},
       "output_type": "pyout",
       "png": "[encoded data removed]",
       "prompt_number": 5,
       "text": [
        "\u23a1m_q=0\u23a4\n",
        "\u23a2     \u23a5\n",
        "\u23a3m_q=1\u23a6"
       ]
      }
     ],
     "prompt_number": 5
    },
    {
     "cell_type": "markdown",
     "metadata": {},
     "source": [
      "The gains:"
     ]
    },
    {
     "cell_type": "code",
     "collapsed": false,
     "input": [
      "K = Matrix(q, p, lambda i, j: Symbol('k_q={},p={}'.format(i, j)))\n",
      "K"
     ],
     "language": "python",
     "metadata": {},
     "outputs": [
      {
       "latex": [
        "$$\\left[\\begin{smallmatrix}{}k_{q=0,p=0} & k_{q=0,p=1}\\\\k_{q=1,p=0} & k_{q=1,p=1}\\end{smallmatrix}\\right]$$"
       ],
       "metadata": {},
       "output_type": "pyout",
       "png": "[encoded data removed]",
       "prompt_number": 6,
       "text": [
        "\u23a1k_q=0,p=0  k_q=0,p=1\u23a4\n",
        "\u23a2                    \u23a5\n",
        "\u23a3k_q=1,p=0  k_q=1,p=1\u23a6"
       ]
      }
     ],
     "prompt_number": 6
    },
    {
     "cell_type": "markdown",
     "metadata": {},
     "source": [
      "The limit cycle controls:"
     ]
    },
    {
     "cell_type": "code",
     "collapsed": false,
     "input": [
      "ms = Matrix(q, 1, lambda i, j: Symbol('m^*_q={}'.format(i)))\n",
      "m"
     ],
     "language": "python",
     "metadata": {},
     "outputs": [
      {
       "latex": [
        "$$\\left[\\begin{smallmatrix}{}m_{q=0}\\\\m_{q=1}\\end{smallmatrix}\\right]$$"
       ],
       "metadata": {},
       "output_type": "pyout",
       "png": "[encoded data removed]",
       "prompt_number": 7,
       "text": [
        "\u23a1m_q=0\u23a4\n",
        "\u23a2     \u23a5\n",
        "\u23a3m_q=1\u23a6"
       ]
      }
     ],
     "prompt_number": 7
    },
    {
     "cell_type": "markdown",
     "metadata": {},
     "source": [
      "The sensors:"
     ]
    },
    {
     "cell_type": "code",
     "collapsed": false,
     "input": [
      "s = Matrix(p, 1, lambda i, j: Symbol('s_p={}'.format(i)))\n",
      "s"
     ],
     "language": "python",
     "metadata": {},
     "outputs": [
      {
       "latex": [
        "$$\\left[\\begin{smallmatrix}{}s_{p=0}\\\\s_{p=1}\\end{smallmatrix}\\right]$$"
       ],
       "metadata": {},
       "output_type": "pyout",
       "png": "[encoded data removed]",
       "prompt_number": 8,
       "text": [
        "\u23a1s_p=0\u23a4\n",
        "\u23a2     \u23a5\n",
        "\u23a3s_p=1\u23a6"
       ]
      }
     ],
     "prompt_number": 8
    },
    {
     "cell_type": "markdown",
     "metadata": {},
     "source": [
      "And the equation:\n",
      "\n",
      "$$0 = m(t) - m^*(t) + K(t) s(t)$$"
     ]
    },
    {
     "cell_type": "code",
     "collapsed": false,
     "input": [
      "zero = m - ms + K * s\n",
      "zero"
     ],
     "language": "python",
     "metadata": {},
     "outputs": [
      {
       "latex": [
        "$$\\left[\\begin{smallmatrix}{}k_{q=0,p=0} s_{p=0} + k_{q=0,p=1} s_{p=1} - m^{*}_{q=0} + m_{q=0}\\\\k_{q=1,p=0} s_{p=0} + k_{q=1,p=1} s_{p=1} - m^{*}_{q=1} + m_{q=1}\\end{smallmatrix}\\right]$$"
       ],
       "metadata": {},
       "output_type": "pyout",
       "png": "[encoded data removed]",
       "prompt_number": 9,
       "text": [
        "\u23a1k_q=0,p=0\u22c5s_p=0 + k_q=0,p=1\u22c5s_p=1 - m^*_q=0 + m_q=0\u23a4\n",
        "\u23a2                                                   \u23a5\n",
        "\u23a3k_q=1,p=0\u22c5s_p=0 + k_q=1,p=1\u22c5s_p=1 - m^*_q=1 + m_q=1\u23a6"
       ]
      }
     ],
     "prompt_number": 9
    },
    {
     "cell_type": "markdown",
     "metadata": {},
     "source": [
      "Now for a simple linear least squares the equations can be massage into this form:\n",
      "\n",
      "$$Ax=b$$\n",
      "\n",
      "which gives and over determined system of linear equations.\n",
      "\n",
      "To form the A matrix for a single time step in a single foot step the equation can be rearranged:"
     ]
    },
    {
     "cell_type": "code",
     "collapsed": false,
     "input": [
      "A = zeros(q, q * p)\n",
      "for row in range(q):\n",
      "    A[row, row * p:(row + 1) * p] =  s.T\n",
      "A = A.row_join(-eye(q))\n",
      "A"
     ],
     "language": "python",
     "metadata": {},
     "outputs": [
      {
       "latex": [
        "$$\\left[\\begin{smallmatrix}{}s_{p=0} & s_{p=1} & 0 & 0 & -1 & 0\\\\0 & 0 & s_{p=0} & s_{p=1} & 0 & -1\\end{smallmatrix}\\right]$$"
       ],
       "metadata": {},
       "output_type": "pyout",
       "png": "[encoded data removed]",
       "prompt_number": 10,
       "text": [
        "\u23a1s_p=0  s_p=1    0      0    -1  0 \u23a4\n",
        "\u23a2                                  \u23a5\n",
        "\u23a3  0      0    s_p=0  s_p=1  0   -1\u23a6"
       ]
      }
     ],
     "prompt_number": 10
    },
    {
     "cell_type": "code",
     "collapsed": false,
     "input": [
      "b = -m\n",
      "b"
     ],
     "language": "python",
     "metadata": {},
     "outputs": [
      {
       "latex": [
        "$$\\left[\\begin{smallmatrix}{}- m_{q=0}\\\\- m_{q=1}\\end{smallmatrix}\\right]$$"
       ],
       "metadata": {},
       "output_type": "pyout",
       "png": "[encoded data removed]",
       "prompt_number": 11,
       "text": [
        "\u23a1-m_q=0\u23a4\n",
        "\u23a2      \u23a5\n",
        "\u23a3-m_q=1\u23a6"
       ]
      }
     ],
     "prompt_number": 11
    },
    {
     "cell_type": "code",
     "collapsed": false,
     "input": [
      "x = K.reshape(q * p, 1).col_join(ms)\n",
      "x"
     ],
     "language": "python",
     "metadata": {},
     "outputs": [
      {
       "latex": [
        "$$\\left[\\begin{smallmatrix}{}k_{q=0,p=0}\\\\k_{q=0,p=1}\\\\k_{q=1,p=0}\\\\k_{q=1,p=1}\\\\m^{*}_{q=0}\\\\m^{*}_{q=1}\\end{smallmatrix}\\right]$$"
       ],
       "metadata": {},
       "output_type": "pyout",
       "png": "[encoded data removed]",
       "prompt_number": 12,
       "text": [
        "\u23a1k_q=0,p=0\u23a4\n",
        "\u23a2         \u23a5\n",
        "\u23a2k_q=0,p=1\u23a5\n",
        "\u23a2         \u23a5\n",
        "\u23a2k_q=1,p=0\u23a5\n",
        "\u23a2         \u23a5\n",
        "\u23a2k_q=1,p=1\u23a5\n",
        "\u23a2         \u23a5\n",
        "\u23a2 m^*_q=0 \u23a5\n",
        "\u23a2         \u23a5\n",
        "\u23a3 m^*_q=1 \u23a6"
       ]
      }
     ],
     "prompt_number": 12
    },
    {
     "cell_type": "markdown",
     "metadata": {},
     "source": [
      "Now we can check to make sure that our new form gives the same answer as the previous form:"
     ]
    },
    {
     "cell_type": "code",
     "collapsed": false,
     "input": [
      "zero2 = A * x - b \n",
      "zero2"
     ],
     "language": "python",
     "metadata": {},
     "outputs": [
      {
       "latex": [
        "$$\\left[\\begin{smallmatrix}{}k_{q=0,p=0} s_{p=0} + k_{q=0,p=1} s_{p=1} - m^{*}_{q=0} + m_{q=0}\\\\k_{q=1,p=0} s_{p=0} + k_{q=1,p=1} s_{p=1} - m^{*}_{q=1} + m_{q=1}\\end{smallmatrix}\\right]$$"
       ],
       "metadata": {},
       "output_type": "pyout",
       "png": "[encoded data removed]",
       "prompt_number": 13,
       "text": [
        "\u23a1k_q=0,p=0\u22c5s_p=0 + k_q=0,p=1\u22c5s_p=1 - m^*_q=0 + m_q=0\u23a4\n",
        "\u23a2                                                   \u23a5\n",
        "\u23a3k_q=1,p=0\u22c5s_p=0 + k_q=1,p=1\u22c5s_p=1 - m^*_q=1 + m_q=1\u23a6"
       ]
      }
     ],
     "prompt_number": 13
    },
    {
     "cell_type": "code",
     "collapsed": false,
     "input": [
      "assert zero == zero2"
     ],
     "language": "python",
     "metadata": {},
     "outputs": [],
     "prompt_number": 14
    },
    {
     "cell_type": "markdown",
     "metadata": {},
     "source": [
      "Now for n timesteps we want to form the A matrix such that there are different gains for each time step."
     ]
    },
    {
     "cell_type": "code",
     "collapsed": false,
     "input": [
      "gain_matrices = []\n",
      "control_vectors = []\n",
      "control_star_vectors = []\n",
      "sensor_vectors = []\n",
      "for time_step in range(n):\n",
      "    gain_matrices.append(Matrix(q, p, lambda i, j: Symbol('k{}_q={},p={}'.format(time_step, i, j))))\n",
      "    control_vectors.append(Matrix(q, 1, lambda i, j: Symbol('m{}_q={}'.format(time_step, i))))\n",
      "    control_star_vectors.append(Matrix(q, 1, lambda i, j: Symbol('m^*{}_q={}'.format(time_step, i))))\n",
      "    sensor_vectors.append(Matrix(p, 1, lambda i, j: Symbol('s{}_p={}'.format(time_step, i))))"
     ],
     "language": "python",
     "metadata": {},
     "outputs": [],
     "prompt_number": 15
    },
    {
     "cell_type": "code",
     "collapsed": false,
     "input": [
      "gain_matrices"
     ],
     "language": "python",
     "metadata": {},
     "outputs": [
      {
       "latex": [
        "$$\\begin{bmatrix}\\left[\\begin{smallmatrix}{}k_{0 q=0,p=0} & k_{0 q=0,p=1}\\\\k_{0 q=1,p=0} & k_{0 q=1,p=1}\\end{smallmatrix}\\right], & \\left[\\begin{smallmatrix}{}k_{1 q=0,p=0} & k_{1 q=0,p=1}\\\\k_{1 q=1,p=0} & k_{1 q=1,p=1}\\end{smallmatrix}\\right], & \\left[\\begin{smallmatrix}{}k_{2 q=0,p=0} & k_{2 q=0,p=1}\\\\k_{2 q=1,p=0} & k_{2 q=1,p=1}\\end{smallmatrix}\\right]\\end{bmatrix}$$"
       ],
       "metadata": {},
       "output_type": "pyout",
       "png": "[encoded data removed]",
       "prompt_number": 16,
       "text": [
        "\u23a1\u23a1k0_q=0,p=0  k0_q=0,p=1\u23a4, \u23a1k1_q=0,p=0  k1_q=0,p=1\u23a4, \u23a1k2_q=0,p=0  k2_q=0,p=1\u23a4\u23a4\n",
        "\u23a2\u23a2                      \u23a5  \u23a2                      \u23a5  \u23a2                      \u23a5\u23a5\n",
        "\u23a3\u23a3k0_q=1,p=0  k0_q=1,p=1\u23a6  \u23a3k1_q=1,p=0  k1_q=1,p=1\u23a6  \u23a3k2_q=1,p=0  k2_q=1,p=1\u23a6\u23a6"
       ]
      }
     ],
     "prompt_number": 16
    },
    {
     "cell_type": "code",
     "collapsed": false,
     "input": [
      "control_vectors"
     ],
     "language": "python",
     "metadata": {},
     "outputs": [
      {
       "latex": [
        "$$\\begin{bmatrix}\\left[\\begin{smallmatrix}{}m_{0 q=0}\\\\m_{0 q=1}\\end{smallmatrix}\\right], & \\left[\\begin{smallmatrix}{}m_{1 q=0}\\\\m_{1 q=1}\\end{smallmatrix}\\right], & \\left[\\begin{smallmatrix}{}m_{2 q=0}\\\\m_{2 q=1}\\end{smallmatrix}\\right]\\end{bmatrix}$$"
       ],
       "metadata": {},
       "output_type": "pyout",
       "png": "[encoded data removed]",
       "prompt_number": 17,
       "text": [
        "\u23a1\u23a1m0_q=0\u23a4, \u23a1m1_q=0\u23a4, \u23a1m2_q=0\u23a4\u23a4\n",
        "\u23a2\u23a2      \u23a5  \u23a2      \u23a5  \u23a2      \u23a5\u23a5\n",
        "\u23a3\u23a3m0_q=1\u23a6  \u23a3m1_q=1\u23a6  \u23a3m2_q=1\u23a6\u23a6"
       ]
      }
     ],
     "prompt_number": 17
    },
    {
     "cell_type": "code",
     "collapsed": false,
     "input": [
      "control_star_vectors"
     ],
     "language": "python",
     "metadata": {},
     "outputs": [
      {
       "latex": [
        "$$\\begin{bmatrix}\\left[\\begin{smallmatrix}{}m^{*0}_{q=0}\\\\m^{*0}_{q=1}\\end{smallmatrix}\\right], & \\left[\\begin{smallmatrix}{}m^{*1}_{q=0}\\\\m^{*1}_{q=1}\\end{smallmatrix}\\right], & \\left[\\begin{smallmatrix}{}m^{*2}_{q=0}\\\\m^{*2}_{q=1}\\end{smallmatrix}\\right]\\end{bmatrix}$$"
       ],
       "metadata": {},
       "output_type": "pyout",
       "png": "[encoded data removed]",
       "prompt_number": 18,
       "text": [
        "\u23a1\u23a1m^*0_q=0\u23a4, \u23a1m^*1_q=0\u23a4, \u23a1m^*2_q=0\u23a4\u23a4\n",
        "\u23a2\u23a2        \u23a5  \u23a2        \u23a5  \u23a2        \u23a5\u23a5\n",
        "\u23a3\u23a3m^*0_q=1\u23a6  \u23a3m^*1_q=1\u23a6  \u23a3m^*2_q=1\u23a6\u23a6"
       ]
      }
     ],
     "prompt_number": 18
    },
    {
     "cell_type": "code",
     "collapsed": false,
     "input": [
      "sensor_vectors"
     ],
     "language": "python",
     "metadata": {},
     "outputs": [
      {
       "latex": [
        "$$\\begin{bmatrix}\\left[\\begin{smallmatrix}{}s_{0 p=0}\\\\s_{0 p=1}\\end{smallmatrix}\\right], & \\left[\\begin{smallmatrix}{}s_{1 p=0}\\\\s_{1 p=1}\\end{smallmatrix}\\right], & \\left[\\begin{smallmatrix}{}s_{2 p=0}\\\\s_{2 p=1}\\end{smallmatrix}\\right]\\end{bmatrix}$$"
       ],
       "metadata": {},
       "output_type": "pyout",
       "png": "[encoded data removed]",
       "prompt_number": 19,
       "text": [
        "\u23a1\u23a1s0_p=0\u23a4, \u23a1s1_p=0\u23a4, \u23a1s2_p=0\u23a4\u23a4\n",
        "\u23a2\u23a2      \u23a5  \u23a2      \u23a5  \u23a2      \u23a5\u23a5\n",
        "\u23a3\u23a3s0_p=1\u23a6  \u23a3s1_p=1\u23a6  \u23a3s2_p=1\u23a6\u23a6"
       ]
      }
     ],
     "prompt_number": 19
    },
    {
     "cell_type": "markdown",
     "metadata": {},
     "source": [
      "Picking off a trio we should get our familiar equation back:"
     ]
    },
    {
     "cell_type": "code",
     "collapsed": false,
     "input": [
      "zero = control_vectors[0] - control_star_vectors[0] + gain_matrices[0] * sensor_vectors[0]\n",
      "zero"
     ],
     "language": "python",
     "metadata": {},
     "outputs": [
      {
       "latex": [
        "$$\\left[\\begin{smallmatrix}{}k_{0 q=0,p=0} s_{0 p=0} + k_{0 q=0,p=1} s_{0 p=1} + m_{0 q=0} - m^{*0}_{q=0}\\\\k_{0 q=1,p=0} s_{0 p=0} + k_{0 q=1,p=1} s_{0 p=1} + m_{0 q=1} - m^{*0}_{q=1}\\end{smallmatrix}\\right]$$"
       ],
       "metadata": {},
       "output_type": "pyout",
       "png": "[encoded data removed]",
       "prompt_number": 20,
       "text": [
        "\u23a1k0_q=0,p=0\u22c5s0_p=0 + k0_q=0,p=1\u22c5s0_p=1 + m0_q=0 - m^*0_q=0\u23a4\n",
        "\u23a2                                                         \u23a5\n",
        "\u23a3k0_q=1,p=0\u22c5s0_p=0 + k0_q=1,p=1\u22c5s0_p=1 + m0_q=1 - m^*0_q=1\u23a6"
       ]
      }
     ],
     "prompt_number": 20
    },
    {
     "cell_type": "markdown",
     "metadata": {},
     "source": [
      "The larger A matrix for all of the time steps can be formed by stacking the A matrices from a single time step diagonally:"
     ]
    },
    {
     "cell_type": "code",
     "collapsed": false,
     "input": [
      "Am = zeros(n * q, n * (q + q * p))\n",
      "for time_step in range(n):\n",
      "    An = zeros(q, q * p)\n",
      "    for row in range(q):\n",
      "        An[row, row * p:(row + 1) * p] =  sensor_vectors[time_step].T\n",
      "    An = An.row_join(-eye(q))\n",
      "    num_rows, num_cols = An.shape\n",
      "    Am[time_step * num_rows:(time_step + 1) * num_rows, time_step * num_cols:(time_step + 1) * num_cols] = An"
     ],
     "language": "python",
     "metadata": {},
     "outputs": [],
     "prompt_number": 21
    },
    {
     "cell_type": "code",
     "collapsed": false,
     "input": [
      "Am"
     ],
     "language": "python",
     "metadata": {},
     "outputs": [
      {
       "latex": [
        "$$\\left[\\begin{smallmatrix}{}s_{0 p=0} & s_{0 p=1} & 0 & 0 & -1 & 0 & 0 & 0 & 0 & 0 & 0 & 0 & 0 & 0 & 0 & 0 & 0 & 0\\\\0 & 0 & s_{0 p=0} & s_{0 p=1} & 0 & -1 & 0 & 0 & 0 & 0 & 0 & 0 & 0 & 0 & 0 & 0 & 0 & 0\\\\0 & 0 & 0 & 0 & 0 & 0 & s_{1 p=0} & s_{1 p=1} & 0 & 0 & -1 & 0 & 0 & 0 & 0 & 0 & 0 & 0\\\\0 & 0 & 0 & 0 & 0 & 0 & 0 & 0 & s_{1 p=0} & s_{1 p=1} & 0 & -1 & 0 & 0 & 0 & 0 & 0 & 0\\\\0 & 0 & 0 & 0 & 0 & 0 & 0 & 0 & 0 & 0 & 0 & 0 & s_{2 p=0} & s_{2 p=1} & 0 & 0 & -1 & 0\\\\0 & 0 & 0 & 0 & 0 & 0 & 0 & 0 & 0 & 0 & 0 & 0 & 0 & 0 & s_{2 p=0} & s_{2 p=1} & 0 & -1\\end{smallmatrix}\\right]$$"
       ],
       "metadata": {},
       "output_type": "pyout",
       "png": "[encoded data removed]",
       "prompt_number": 22,
       "text": [
        "\u23a1s0_p=0  s0_p=1    0       0     -1  0     0       0       0       0     0   0\n",
        "\u23a2                                                                             \n",
        "\u23a2  0       0     s0_p=0  s0_p=1  0   -1    0       0       0       0     0   0\n",
        "\u23a2                                                                             \n",
        "\u23a2  0       0       0       0     0   0   s1_p=0  s1_p=1    0       0     -1  0\n",
        "\u23a2                                                                             \n",
        "\u23a2  0       0       0       0     0   0     0       0     s1_p=0  s1_p=1  0   -\n",
        "\u23a2                                                                             \n",
        "\u23a2  0       0       0       0     0   0     0       0       0       0     0   0\n",
        "\u23a2                                                                             \n",
        "\u23a3  0       0       0       0     0   0     0       0       0       0     0   0\n",
        "\n",
        "     0       0       0       0     0   0 \u23a4\n",
        "                                         \u23a5\n",
        "     0       0       0       0     0   0 \u23a5\n",
        "                                         \u23a5\n",
        "     0       0       0       0     0   0 \u23a5\n",
        "                                         \u23a5\n",
        "1    0       0       0       0     0   0 \u23a5\n",
        "                                         \u23a5\n",
        "   s2_p=0  s2_p=1    0       0     -1  0 \u23a5\n",
        "                                         \u23a5\n",
        "     0       0     s2_p=0  s2_p=1  0   -1\u23a6"
       ]
      }
     ],
     "prompt_number": 22
    },
    {
     "cell_type": "markdown",
     "metadata": {},
     "source": [
      "The control vector and the gain vector are simple column stacks:"
     ]
    },
    {
     "cell_type": "code",
     "collapsed": false,
     "input": [
      "bm = -control_vectors[0]\n",
      "for control in control_vectors[1:]:\n",
      "    bm = bm.col_join(-control)\n",
      "bm"
     ],
     "language": "python",
     "metadata": {},
     "outputs": [
      {
       "latex": [
        "$$\\left[\\begin{smallmatrix}{}- m_{0 q=0}\\\\- m_{0 q=1}\\\\- m_{1 q=0}\\\\- m_{1 q=1}\\\\- m_{2 q=0}\\\\- m_{2 q=1}\\end{smallmatrix}\\right]$$"
       ],
       "metadata": {},
       "output_type": "pyout",
       "png": "[encoded data removed]",
       "prompt_number": 23,
       "text": [
        "\u23a1-m0_q=0\u23a4\n",
        "\u23a2       \u23a5\n",
        "\u23a2-m0_q=1\u23a5\n",
        "\u23a2       \u23a5\n",
        "\u23a2-m1_q=0\u23a5\n",
        "\u23a2       \u23a5\n",
        "\u23a2-m1_q=1\u23a5\n",
        "\u23a2       \u23a5\n",
        "\u23a2-m2_q=0\u23a5\n",
        "\u23a2       \u23a5\n",
        "\u23a3-m2_q=1\u23a6"
       ]
      }
     ],
     "prompt_number": 23
    },
    {
     "cell_type": "code",
     "collapsed": false,
     "input": [
      "xm = gain_matrices[0].reshape(q * p, 1).col_join(control_star_vectors[0])\n",
      "for gain, control_star in zip(gain_matrices[1:], control_star_vectors[1:]):\n",
      "    xm = xm.col_join(gain.reshape(q * p, 1)).col_join(control_star)\n",
      "xm"
     ],
     "language": "python",
     "metadata": {},
     "outputs": [
      {
       "latex": [
        "$$\\left[\\begin{smallmatrix}{}k_{0 q=0,p=0}\\\\k_{0 q=0,p=1}\\\\k_{0 q=1,p=0}\\\\k_{0 q=1,p=1}\\\\m^{*0}_{q=0}\\\\m^{*0}_{q=1}\\\\k_{1 q=0,p=0}\\\\k_{1 q=0,p=1}\\\\k_{1 q=1,p=0}\\\\k_{1 q=1,p=1}\\\\m^{*1}_{q=0}\\\\m^{*1}_{q=1}\\\\k_{2 q=0,p=0}\\\\k_{2 q=0,p=1}\\\\k_{2 q=1,p=0}\\\\k_{2 q=1,p=1}\\\\m^{*2}_{q=0}\\\\m^{*2}_{q=1}\\end{smallmatrix}\\right]$$"
       ],
       "metadata": {},
       "output_type": "pyout",
       "png": "[encoded data removed]",
       "prompt_number": 24,
       "text": [
        "\u23a1k0_q=0,p=0\u23a4\n",
        "\u23a2          \u23a5\n",
        "\u23a2k0_q=0,p=1\u23a5\n",
        "\u23a2          \u23a5\n",
        "\u23a2k0_q=1,p=0\u23a5\n",
        "\u23a2          \u23a5\n",
        "\u23a2k0_q=1,p=1\u23a5\n",
        "\u23a2          \u23a5\n",
        "\u23a2 m^*0_q=0 \u23a5\n",
        "\u23a2          \u23a5\n",
        "\u23a2 m^*0_q=1 \u23a5\n",
        "\u23a2          \u23a5\n",
        "\u23a2k1_q=0,p=0\u23a5\n",
        "\u23a2          \u23a5\n",
        "\u23a2k1_q=0,p=1\u23a5\n",
        "\u23a2          \u23a5\n",
        "\u23a2k1_q=1,p=0\u23a5\n",
        "\u23a2          \u23a5\n",
        "\u23a2k1_q=1,p=1\u23a5\n",
        "\u23a2          \u23a5\n",
        "\u23a2 m^*1_q=0 \u23a5\n",
        "\u23a2          \u23a5\n",
        "\u23a2 m^*1_q=1 \u23a5\n",
        "\u23a2          \u23a5\n",
        "\u23a2k2_q=0,p=0\u23a5\n",
        "\u23a2          \u23a5\n",
        "\u23a2k2_q=0,p=1\u23a5\n",
        "\u23a2          \u23a5\n",
        "\u23a2k2_q=1,p=0\u23a5\n",
        "\u23a2          \u23a5\n",
        "\u23a2k2_q=1,p=1\u23a5\n",
        "\u23a2          \u23a5\n",
        "\u23a2 m^*2_q=0 \u23a5\n",
        "\u23a2          \u23a5\n",
        "\u23a3 m^*2_q=1 \u23a6"
       ]
      }
     ],
     "prompt_number": 24
    },
    {
     "cell_type": "markdown",
     "metadata": {},
     "source": [
      "Now the original equations can be regenerated with:"
     ]
    },
    {
     "cell_type": "code",
     "collapsed": false,
     "input": [
      "Am * xm - bm"
     ],
     "language": "python",
     "metadata": {},
     "outputs": [
      {
       "latex": [
        "$$\\left[\\begin{smallmatrix}{}k_{0 q=0,p=0} s_{0 p=0} + k_{0 q=0,p=1} s_{0 p=1} + m_{0 q=0} - m^{*0}_{q=0}\\\\k_{0 q=1,p=0} s_{0 p=0} + k_{0 q=1,p=1} s_{0 p=1} + m_{0 q=1} - m^{*0}_{q=1}\\\\k_{1 q=0,p=0} s_{1 p=0} + k_{1 q=0,p=1} s_{1 p=1} + m_{1 q=0} - m^{*1}_{q=0}\\\\k_{1 q=1,p=0} s_{1 p=0} + k_{1 q=1,p=1} s_{1 p=1} + m_{1 q=1} - m^{*1}_{q=1}\\\\k_{2 q=0,p=0} s_{2 p=0} + k_{2 q=0,p=1} s_{2 p=1} + m_{2 q=0} - m^{*2}_{q=0}\\\\k_{2 q=1,p=0} s_{2 p=0} + k_{2 q=1,p=1} s_{2 p=1} + m_{2 q=1} - m^{*2}_{q=1}\\end{smallmatrix}\\right]$$"
       ],
       "metadata": {},
       "output_type": "pyout",
       "png": "[encoded data removed]",
       "prompt_number": 25,
       "text": [
        "\u23a1k0_q=0,p=0\u22c5s0_p=0 + k0_q=0,p=1\u22c5s0_p=1 + m0_q=0 - m^*0_q=0\u23a4\n",
        "\u23a2                                                         \u23a5\n",
        "\u23a2k0_q=1,p=0\u22c5s0_p=0 + k0_q=1,p=1\u22c5s0_p=1 + m0_q=1 - m^*0_q=1\u23a5\n",
        "\u23a2                                                         \u23a5\n",
        "\u23a2k1_q=0,p=0\u22c5s1_p=0 + k1_q=0,p=1\u22c5s1_p=1 + m1_q=0 - m^*1_q=0\u23a5\n",
        "\u23a2                                                         \u23a5\n",
        "\u23a2k1_q=1,p=0\u22c5s1_p=0 + k1_q=1,p=1\u22c5s1_p=1 + m1_q=1 - m^*1_q=1\u23a5\n",
        "\u23a2                                                         \u23a5\n",
        "\u23a2k2_q=0,p=0\u22c5s2_p=0 + k2_q=0,p=1\u22c5s2_p=1 + m2_q=0 - m^*2_q=0\u23a5\n",
        "\u23a2                                                         \u23a5\n",
        "\u23a3k2_q=1,p=0\u22c5s2_p=0 + k2_q=1,p=1\u22c5s2_p=1 + m2_q=1 - m^*2_q=1\u23a6"
       ]
      }
     ],
     "prompt_number": 25
    },
    {
     "cell_type": "markdown",
     "metadata": {},
     "source": [
      "We have $n(p q + q)$ unknowns and $nq$ equations so we need at least $1 + p$ cycles to solve for the unknowns."
     ]
    },
    {
     "cell_type": "code",
     "collapsed": false,
     "input": [
      "n * (p*q + q)"
     ],
     "language": "python",
     "metadata": {},
     "outputs": [
      {
       "latex": [
        "$$18$$"
       ],
       "metadata": {},
       "output_type": "pyout",
       "png": "[encoded data removed]",
       "prompt_number": 26,
       "text": [
        "18"
       ]
      }
     ],
     "prompt_number": 26
    },
    {
     "cell_type": "code",
     "collapsed": false,
     "input": [
      "1 + p"
     ],
     "language": "python",
     "metadata": {},
     "outputs": [
      {
       "latex": [
        "$$3$$"
       ],
       "metadata": {},
       "output_type": "pyout",
       "png": "[encoded data removed]",
       "prompt_number": 27,
       "text": [
        "3"
       ]
      }
     ],
     "prompt_number": 27
    },
    {
     "cell_type": "code",
     "collapsed": false,
     "input": [
      "Am.shape, bm.shape"
     ],
     "language": "python",
     "metadata": {},
     "outputs": [
      {
       "latex": [
        "$$\\begin{pmatrix}\\begin{pmatrix}6, & 18\\end{pmatrix}, & \\begin{pmatrix}6, & 1\\end{pmatrix}\\end{pmatrix}$$"
       ],
       "metadata": {},
       "output_type": "pyout",
       "png": "[encoded data removed]",
       "prompt_number": 28,
       "text": [
        "((6, 18), (6, 1))"
       ]
      }
     ],
     "prompt_number": 28
    },
    {
     "cell_type": "code",
     "collapsed": false,
     "input": [
      "b = bm\n",
      "A = Am\n",
      "for step in range(p):\n",
      "    b = b.col_join(bm)\n",
      "    A = A.col_join(Am)"
     ],
     "language": "python",
     "metadata": {},
     "outputs": [],
     "prompt_number": 29
    },
    {
     "cell_type": "code",
     "collapsed": false,
     "input": [
      "A.shape, b.shape"
     ],
     "language": "python",
     "metadata": {},
     "outputs": [
      {
       "latex": [
        "$$\\begin{pmatrix}\\begin{pmatrix}18, & 18\\end{pmatrix}, & \\begin{pmatrix}18, & 1\\end{pmatrix}\\end{pmatrix}$$"
       ],
       "metadata": {},
       "output_type": "pyout",
       "png": "[encoded data removed]",
       "prompt_number": 30,
       "text": [
        "((18, 18), (18, 1))"
       ]
      }
     ],
     "prompt_number": 30
    },
    {
     "cell_type": "markdown",
     "metadata": {},
     "source": [
      "The following should compute the least squares solution but since I didn't actually create new equations for the steps, then you get NaN as a solution."
     ]
    },
    {
     "cell_type": "code",
     "collapsed": false,
     "input": [
      "x = A.LDLsolve(b)\n",
      "x"
     ],
     "language": "python",
     "metadata": {},
     "outputs": [
      {
       "latex": [
        "$$\\left[\\begin{smallmatrix}{}\\bot\\\\\\bot\\\\\\bot\\\\\\bot\\\\\\bot\\\\\\bot\\\\\\bot\\\\\\bot\\\\\\bot\\\\\\bot\\\\\\bot\\\\\\bot\\\\\\bot\\\\\\bot\\\\\\bot\\\\\\bot\\\\\\bot\\\\\\bot\\end{smallmatrix}\\right]$$"
       ],
       "metadata": {},
       "output_type": "pyout",
       "png": "[encoded data removed]",
       "prompt_number": 31,
       "text": [
        "\u23a1nan\u23a4\n",
        "\u23a2   \u23a5\n",
        "\u23a2nan\u23a5\n",
        "\u23a2   \u23a5\n",
        "\u23a2nan\u23a5\n",
        "\u23a2   \u23a5\n",
        "\u23a2nan\u23a5\n",
        "\u23a2   \u23a5\n",
        "\u23a2nan\u23a5\n",
        "\u23a2   \u23a5\n",
        "\u23a2nan\u23a5\n",
        "\u23a2   \u23a5\n",
        "\u23a2nan\u23a5\n",
        "\u23a2   \u23a5\n",
        "\u23a2nan\u23a5\n",
        "\u23a2   \u23a5\n",
        "\u23a2nan\u23a5\n",
        "\u23a2   \u23a5\n",
        "\u23a2nan\u23a5\n",
        "\u23a2   \u23a5\n",
        "\u23a2nan\u23a5\n",
        "\u23a2   \u23a5\n",
        "\u23a2nan\u23a5\n",
        "\u23a2   \u23a5\n",
        "\u23a2nan\u23a5\n",
        "\u23a2   \u23a5\n",
        "\u23a2nan\u23a5\n",
        "\u23a2   \u23a5\n",
        "\u23a2nan\u23a5\n",
        "\u23a2   \u23a5\n",
        "\u23a2nan\u23a5\n",
        "\u23a2   \u23a5\n",
        "\u23a2nan\u23a5\n",
        "\u23a2   \u23a5\n",
        "\u23a3nan\u23a6"
       ]
      }
     ],
     "prompt_number": 31
    },
    {
     "cell_type": "code",
     "collapsed": false,
     "input": [
      "type(x[0])"
     ],
     "language": "python",
     "metadata": {},
     "outputs": [
      {
       "metadata": {},
       "output_type": "pyout",
       "prompt_number": 32,
       "text": [
        "sympy.core.numbers.NaN"
       ]
      }
     ],
     "prompt_number": 32
    }
   ],
   "metadata": {}
  }
 ]
}